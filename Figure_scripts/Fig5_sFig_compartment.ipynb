{
 "cells": [
  {
   "cell_type": "code",
   "execution_count": 1,
   "id": "dfd830a7",
   "metadata": {
    "ExecuteTime": {
     "end_time": "2023-08-26T15:55:45.522206Z",
     "start_time": "2023-08-26T15:55:44.422578Z"
    }
   },
   "outputs": [],
   "source": [
    "### Merge_PoreC v.s. HiC, at haplotype level\n",
    "### correlation of Compartment score\n",
    "\n",
    "## import function\n",
    "import pandas as pd\n",
    "import numpy as np\n",
    "import matplotlib.pyplot as plt\n",
    "import seaborn as sns\n",
    "from sklearn.linear_model import LinearRegression\n",
    "from scipy import stats\n",
    "from scipy.stats import gaussian_kde\n",
    "from matplotlib.colors import LogNorm\n",
    "import matplotlib as mpl\n",
    "mpl.rcParams['pdf.fonttype'] = 42\n",
    "import seaborn as sns"
   ]
  },
  {
   "cell_type": "code",
   "execution_count": 2,
   "id": "eae9fe6b",
   "metadata": {
    "ExecuteTime": {
     "end_time": "2023-08-26T15:55:45.719163Z",
     "start_time": "2023-08-26T15:55:45.713579Z"
    }
   },
   "outputs": [],
   "source": [
    "Rawdir=\"/data2/linzhuobin/Hap3D_Figures/figure_processing_data/Fig5_supp\"\n",
    "ma_file=f'{Rawdir}/hic_maternal_Compartment_500k.cis.vecs.tsv'\n",
    "pa_file=f'{Rawdir}/hic_paternal_Compartment_500k.cis.vecs.tsv'\n",
    "h1_file=f'{Rawdir}/h1_Compartment_500k.cis.vecs.tsv'\n",
    "h2_file=f'{Rawdir}/h2_Compartment_500k.cis.vecs.tsv'"
   ]
  },
  {
   "cell_type": "code",
   "execution_count": 3,
   "id": "42d851f2",
   "metadata": {
    "ExecuteTime": {
     "end_time": "2023-08-26T15:55:47.480151Z",
     "start_time": "2023-08-26T15:55:47.470035Z"
    }
   },
   "outputs": [],
   "source": [
    "def compare_2hap_diff(h1_file,h2_file,chrom=None):\n",
    "    h1=pd.read_csv(h1_file,sep='\\t')\n",
    "    h1=h1[['chrom','start','end','E1']]\n",
    "    h2=pd.read_csv(h2_file,sep='\\t')\n",
    "    h2=h2[['chrom','start','end','E1']]\n",
    "    E1_df=pd.merge(h1,h2,on=['chrom','start','end'])\n",
    "    E1_df=E1_df.loc[E1_df.chrom==chrom,['E1_x','E1_y']]\n",
    "    #E1_df=E1_df[['E1_x','E1_y']]\n",
    "    E1_df.columns=['h1','h2']\n",
    "    E1_df=E1_df.fillna('na')\n",
    "    E1_df=E1_df.loc[(E1_df.h1!='na')&(E1_df.h2!='na'),]\n",
    "    # Correlation\n",
    "    pr = stats.pearsonr( E1_df.h1.values, E1_df.h2.values)\n",
    "    sr = stats.spearmanr( E1_df.h1.values, E1_df.h2.values)\n",
    "    print(f\"N={len(E1_df)}; pr={pr[0]:.3f}; sr={sr[0]:.3f}\")\n",
    "    return E1_df,pr,sr"
   ]
  },
  {
   "cell_type": "code",
   "execution_count": 4,
   "id": "fb3ee45a",
   "metadata": {
    "ExecuteTime": {
     "end_time": "2023-08-26T15:55:49.143060Z",
     "start_time": "2023-08-26T15:55:49.132112Z"
    }
   },
   "outputs": [],
   "source": [
    "def compare_porec_hic_diff(pc_file,hic_file, chrom=None):\n",
    "    # h1=pore-c h2 = hi-c\n",
    "    h1=pd.read_csv(pc_file,sep='\\t')\n",
    "    h1=h1[['chrom','start','end','E1']]\n",
    "    h1.chrom = h1.chrom.str.replace(\"chr\", \"\")\n",
    "    h2=pd.read_csv(hic_file,sep='\\t')\n",
    "    h2=h2[['chrom','start','end','E1']]\n",
    "\n",
    "    E1_df=pd.merge(h1,h2,on=['chrom','start','end'])\n",
    "    E1_df=E1_df.loc[E1_df.chrom==chrom,['E1_x','E1_y']]\n",
    "    #E1_df=E1_df[['E1_x','E1_y']]\n",
    "    E1_df.columns=['h1','h2']\n",
    "    E1_df=E1_df.fillna('na')\n",
    "    E1_df=E1_df.loc[(E1_df.h1!='na')&(E1_df.h2!='na'),]\n",
    "    # Correlation\n",
    "    pr = stats.pearsonr( E1_df.h1.values, E1_df.h2.values)\n",
    "    return pr[0]"
   ]
  },
  {
   "cell_type": "code",
   "execution_count": 5,
   "id": "ea779592",
   "metadata": {
    "ExecuteTime": {
     "end_time": "2023-08-26T15:55:57.923661Z",
     "start_time": "2023-08-26T15:55:55.194202Z"
    }
   },
   "outputs": [
    {
     "name": "stdout",
     "output_type": "stream",
     "text": [
      "1\n",
      "2\n"
     ]
    },
    {
     "name": "stderr",
     "output_type": "stream",
     "text": [
      "/tmp/ipykernel_6548/1824417780.py:15: FutureWarning: The frame.append method is deprecated and will be removed from pandas in a future version. Use pandas.concat instead.\n",
      "  Com_porec_hic=Com_porec_hic.append(stat, ignore_index=True)\n",
      "/tmp/ipykernel_6548/1824417780.py:15: FutureWarning: The frame.append method is deprecated and will be removed from pandas in a future version. Use pandas.concat instead.\n",
      "  Com_porec_hic=Com_porec_hic.append(stat, ignore_index=True)\n"
     ]
    },
    {
     "name": "stdout",
     "output_type": "stream",
     "text": [
      "3\n",
      "4\n"
     ]
    },
    {
     "name": "stderr",
     "output_type": "stream",
     "text": [
      "/tmp/ipykernel_6548/1824417780.py:15: FutureWarning: The frame.append method is deprecated and will be removed from pandas in a future version. Use pandas.concat instead.\n",
      "  Com_porec_hic=Com_porec_hic.append(stat, ignore_index=True)\n",
      "/tmp/ipykernel_6548/1824417780.py:15: FutureWarning: The frame.append method is deprecated and will be removed from pandas in a future version. Use pandas.concat instead.\n",
      "  Com_porec_hic=Com_porec_hic.append(stat, ignore_index=True)\n"
     ]
    },
    {
     "name": "stdout",
     "output_type": "stream",
     "text": [
      "5\n",
      "6\n"
     ]
    },
    {
     "name": "stderr",
     "output_type": "stream",
     "text": [
      "/tmp/ipykernel_6548/1824417780.py:15: FutureWarning: The frame.append method is deprecated and will be removed from pandas in a future version. Use pandas.concat instead.\n",
      "  Com_porec_hic=Com_porec_hic.append(stat, ignore_index=True)\n",
      "/tmp/ipykernel_6548/1824417780.py:15: FutureWarning: The frame.append method is deprecated and will be removed from pandas in a future version. Use pandas.concat instead.\n",
      "  Com_porec_hic=Com_porec_hic.append(stat, ignore_index=True)\n"
     ]
    },
    {
     "name": "stdout",
     "output_type": "stream",
     "text": [
      "7\n",
      "8\n"
     ]
    },
    {
     "name": "stderr",
     "output_type": "stream",
     "text": [
      "/tmp/ipykernel_6548/1824417780.py:15: FutureWarning: The frame.append method is deprecated and will be removed from pandas in a future version. Use pandas.concat instead.\n",
      "  Com_porec_hic=Com_porec_hic.append(stat, ignore_index=True)\n",
      "/tmp/ipykernel_6548/1824417780.py:15: FutureWarning: The frame.append method is deprecated and will be removed from pandas in a future version. Use pandas.concat instead.\n",
      "  Com_porec_hic=Com_porec_hic.append(stat, ignore_index=True)\n"
     ]
    },
    {
     "name": "stdout",
     "output_type": "stream",
     "text": [
      "9\n",
      "10\n"
     ]
    },
    {
     "name": "stderr",
     "output_type": "stream",
     "text": [
      "/tmp/ipykernel_6548/1824417780.py:15: FutureWarning: The frame.append method is deprecated and will be removed from pandas in a future version. Use pandas.concat instead.\n",
      "  Com_porec_hic=Com_porec_hic.append(stat, ignore_index=True)\n",
      "/tmp/ipykernel_6548/1824417780.py:15: FutureWarning: The frame.append method is deprecated and will be removed from pandas in a future version. Use pandas.concat instead.\n",
      "  Com_porec_hic=Com_porec_hic.append(stat, ignore_index=True)\n"
     ]
    },
    {
     "name": "stdout",
     "output_type": "stream",
     "text": [
      "11\n",
      "12\n"
     ]
    },
    {
     "name": "stderr",
     "output_type": "stream",
     "text": [
      "/tmp/ipykernel_6548/1824417780.py:15: FutureWarning: The frame.append method is deprecated and will be removed from pandas in a future version. Use pandas.concat instead.\n",
      "  Com_porec_hic=Com_porec_hic.append(stat, ignore_index=True)\n",
      "/tmp/ipykernel_6548/1824417780.py:15: FutureWarning: The frame.append method is deprecated and will be removed from pandas in a future version. Use pandas.concat instead.\n",
      "  Com_porec_hic=Com_porec_hic.append(stat, ignore_index=True)\n"
     ]
    },
    {
     "name": "stdout",
     "output_type": "stream",
     "text": [
      "13\n",
      "14\n"
     ]
    },
    {
     "name": "stderr",
     "output_type": "stream",
     "text": [
      "/tmp/ipykernel_6548/1824417780.py:15: FutureWarning: The frame.append method is deprecated and will be removed from pandas in a future version. Use pandas.concat instead.\n",
      "  Com_porec_hic=Com_porec_hic.append(stat, ignore_index=True)\n",
      "/tmp/ipykernel_6548/1824417780.py:15: FutureWarning: The frame.append method is deprecated and will be removed from pandas in a future version. Use pandas.concat instead.\n",
      "  Com_porec_hic=Com_porec_hic.append(stat, ignore_index=True)\n"
     ]
    },
    {
     "name": "stdout",
     "output_type": "stream",
     "text": [
      "15\n",
      "16\n"
     ]
    },
    {
     "name": "stderr",
     "output_type": "stream",
     "text": [
      "/tmp/ipykernel_6548/1824417780.py:15: FutureWarning: The frame.append method is deprecated and will be removed from pandas in a future version. Use pandas.concat instead.\n",
      "  Com_porec_hic=Com_porec_hic.append(stat, ignore_index=True)\n",
      "/tmp/ipykernel_6548/1824417780.py:15: FutureWarning: The frame.append method is deprecated and will be removed from pandas in a future version. Use pandas.concat instead.\n",
      "  Com_porec_hic=Com_porec_hic.append(stat, ignore_index=True)\n"
     ]
    },
    {
     "name": "stdout",
     "output_type": "stream",
     "text": [
      "17\n",
      "18\n"
     ]
    },
    {
     "name": "stderr",
     "output_type": "stream",
     "text": [
      "/tmp/ipykernel_6548/1824417780.py:15: FutureWarning: The frame.append method is deprecated and will be removed from pandas in a future version. Use pandas.concat instead.\n",
      "  Com_porec_hic=Com_porec_hic.append(stat, ignore_index=True)\n",
      "/tmp/ipykernel_6548/1824417780.py:15: FutureWarning: The frame.append method is deprecated and will be removed from pandas in a future version. Use pandas.concat instead.\n",
      "  Com_porec_hic=Com_porec_hic.append(stat, ignore_index=True)\n"
     ]
    },
    {
     "name": "stdout",
     "output_type": "stream",
     "text": [
      "19\n",
      "20\n"
     ]
    },
    {
     "name": "stderr",
     "output_type": "stream",
     "text": [
      "/tmp/ipykernel_6548/1824417780.py:15: FutureWarning: The frame.append method is deprecated and will be removed from pandas in a future version. Use pandas.concat instead.\n",
      "  Com_porec_hic=Com_porec_hic.append(stat, ignore_index=True)\n",
      "/tmp/ipykernel_6548/1824417780.py:15: FutureWarning: The frame.append method is deprecated and will be removed from pandas in a future version. Use pandas.concat instead.\n",
      "  Com_porec_hic=Com_porec_hic.append(stat, ignore_index=True)\n"
     ]
    },
    {
     "name": "stdout",
     "output_type": "stream",
     "text": [
      "21\n",
      "22\n"
     ]
    },
    {
     "name": "stderr",
     "output_type": "stream",
     "text": [
      "/tmp/ipykernel_6548/1824417780.py:15: FutureWarning: The frame.append method is deprecated and will be removed from pandas in a future version. Use pandas.concat instead.\n",
      "  Com_porec_hic=Com_porec_hic.append(stat, ignore_index=True)\n",
      "/tmp/ipykernel_6548/1824417780.py:15: FutureWarning: The frame.append method is deprecated and will be removed from pandas in a future version. Use pandas.concat instead.\n",
      "  Com_porec_hic=Com_porec_hic.append(stat, ignore_index=True)\n"
     ]
    },
    {
     "name": "stdout",
     "output_type": "stream",
     "text": [
      "X\n"
     ]
    },
    {
     "name": "stderr",
     "output_type": "stream",
     "text": [
      "/tmp/ipykernel_6548/1824417780.py:15: FutureWarning: The frame.append method is deprecated and will be removed from pandas in a future version. Use pandas.concat instead.\n",
      "  Com_porec_hic=Com_porec_hic.append(stat, ignore_index=True)\n"
     ]
    },
    {
     "data": {
      "text/html": [
       "<div>\n",
       "<style scoped>\n",
       "    .dataframe tbody tr th:only-of-type {\n",
       "        vertical-align: middle;\n",
       "    }\n",
       "\n",
       "    .dataframe tbody tr th {\n",
       "        vertical-align: top;\n",
       "    }\n",
       "\n",
       "    .dataframe thead th {\n",
       "        text-align: right;\n",
       "    }\n",
       "</style>\n",
       "<table border=\"1\" class=\"dataframe\">\n",
       "  <thead>\n",
       "    <tr style=\"text-align: right;\">\n",
       "      <th></th>\n",
       "      <th>h1_ma</th>\n",
       "      <th>h1_pa</th>\n",
       "      <th>h2_ma</th>\n",
       "      <th>h2_pa</th>\n",
       "      <th>chrom</th>\n",
       "    </tr>\n",
       "  </thead>\n",
       "  <tbody>\n",
       "    <tr>\n",
       "      <th>0</th>\n",
       "      <td>0.990393</td>\n",
       "      <td>0.989313</td>\n",
       "      <td>0.988494</td>\n",
       "      <td>0.988956</td>\n",
       "      <td>1</td>\n",
       "    </tr>\n",
       "    <tr>\n",
       "      <th>1</th>\n",
       "      <td>0.986820</td>\n",
       "      <td>0.985070</td>\n",
       "      <td>0.982405</td>\n",
       "      <td>0.985879</td>\n",
       "      <td>2</td>\n",
       "    </tr>\n",
       "    <tr>\n",
       "      <th>2</th>\n",
       "      <td>0.986651</td>\n",
       "      <td>0.982310</td>\n",
       "      <td>0.983733</td>\n",
       "      <td>0.984543</td>\n",
       "      <td>3</td>\n",
       "    </tr>\n",
       "    <tr>\n",
       "      <th>3</th>\n",
       "      <td>0.973597</td>\n",
       "      <td>0.966311</td>\n",
       "      <td>0.972967</td>\n",
       "      <td>0.975670</td>\n",
       "      <td>4</td>\n",
       "    </tr>\n",
       "    <tr>\n",
       "      <th>4</th>\n",
       "      <td>0.979506</td>\n",
       "      <td>0.976267</td>\n",
       "      <td>0.976026</td>\n",
       "      <td>0.979633</td>\n",
       "      <td>5</td>\n",
       "    </tr>\n",
       "    <tr>\n",
       "      <th>5</th>\n",
       "      <td>0.985982</td>\n",
       "      <td>0.980304</td>\n",
       "      <td>0.981590</td>\n",
       "      <td>0.982485</td>\n",
       "      <td>6</td>\n",
       "    </tr>\n",
       "    <tr>\n",
       "      <th>6</th>\n",
       "      <td>0.982563</td>\n",
       "      <td>0.983789</td>\n",
       "      <td>0.981491</td>\n",
       "      <td>0.986119</td>\n",
       "      <td>7</td>\n",
       "    </tr>\n",
       "    <tr>\n",
       "      <th>7</th>\n",
       "      <td>0.981891</td>\n",
       "      <td>0.978958</td>\n",
       "      <td>0.973912</td>\n",
       "      <td>0.976876</td>\n",
       "      <td>8</td>\n",
       "    </tr>\n",
       "    <tr>\n",
       "      <th>8</th>\n",
       "      <td>0.977237</td>\n",
       "      <td>0.977887</td>\n",
       "      <td>0.973340</td>\n",
       "      <td>0.978588</td>\n",
       "      <td>9</td>\n",
       "    </tr>\n",
       "    <tr>\n",
       "      <th>9</th>\n",
       "      <td>0.978457</td>\n",
       "      <td>0.967062</td>\n",
       "      <td>0.977473</td>\n",
       "      <td>0.972920</td>\n",
       "      <td>10</td>\n",
       "    </tr>\n",
       "    <tr>\n",
       "      <th>10</th>\n",
       "      <td>0.982680</td>\n",
       "      <td>0.980875</td>\n",
       "      <td>0.980999</td>\n",
       "      <td>0.982908</td>\n",
       "      <td>11</td>\n",
       "    </tr>\n",
       "    <tr>\n",
       "      <th>11</th>\n",
       "      <td>0.987390</td>\n",
       "      <td>0.987781</td>\n",
       "      <td>0.982609</td>\n",
       "      <td>0.986840</td>\n",
       "      <td>12</td>\n",
       "    </tr>\n",
       "    <tr>\n",
       "      <th>12</th>\n",
       "      <td>0.971389</td>\n",
       "      <td>0.962000</td>\n",
       "      <td>0.963544</td>\n",
       "      <td>0.968162</td>\n",
       "      <td>13</td>\n",
       "    </tr>\n",
       "    <tr>\n",
       "      <th>13</th>\n",
       "      <td>0.989332</td>\n",
       "      <td>0.985294</td>\n",
       "      <td>0.984100</td>\n",
       "      <td>0.989511</td>\n",
       "      <td>14</td>\n",
       "    </tr>\n",
       "    <tr>\n",
       "      <th>14</th>\n",
       "      <td>0.986531</td>\n",
       "      <td>0.978871</td>\n",
       "      <td>0.976220</td>\n",
       "      <td>0.979939</td>\n",
       "      <td>15</td>\n",
       "    </tr>\n",
       "    <tr>\n",
       "      <th>15</th>\n",
       "      <td>0.985514</td>\n",
       "      <td>0.981662</td>\n",
       "      <td>0.984021</td>\n",
       "      <td>0.983506</td>\n",
       "      <td>16</td>\n",
       "    </tr>\n",
       "    <tr>\n",
       "      <th>16</th>\n",
       "      <td>0.991550</td>\n",
       "      <td>0.989551</td>\n",
       "      <td>0.987471</td>\n",
       "      <td>0.989412</td>\n",
       "      <td>17</td>\n",
       "    </tr>\n",
       "    <tr>\n",
       "      <th>17</th>\n",
       "      <td>0.977129</td>\n",
       "      <td>0.974406</td>\n",
       "      <td>0.979373</td>\n",
       "      <td>0.982639</td>\n",
       "      <td>18</td>\n",
       "    </tr>\n",
       "    <tr>\n",
       "      <th>18</th>\n",
       "      <td>0.995992</td>\n",
       "      <td>0.994410</td>\n",
       "      <td>0.993852</td>\n",
       "      <td>0.995746</td>\n",
       "      <td>19</td>\n",
       "    </tr>\n",
       "    <tr>\n",
       "      <th>19</th>\n",
       "      <td>0.981857</td>\n",
       "      <td>0.976113</td>\n",
       "      <td>0.981165</td>\n",
       "      <td>0.981540</td>\n",
       "      <td>20</td>\n",
       "    </tr>\n",
       "    <tr>\n",
       "      <th>20</th>\n",
       "      <td>0.974831</td>\n",
       "      <td>0.969461</td>\n",
       "      <td>0.945755</td>\n",
       "      <td>0.980459</td>\n",
       "      <td>21</td>\n",
       "    </tr>\n",
       "    <tr>\n",
       "      <th>21</th>\n",
       "      <td>0.991831</td>\n",
       "      <td>0.972999</td>\n",
       "      <td>0.973857</td>\n",
       "      <td>0.986393</td>\n",
       "      <td>22</td>\n",
       "    </tr>\n",
       "    <tr>\n",
       "      <th>22</th>\n",
       "      <td>0.974694</td>\n",
       "      <td>0.064691</td>\n",
       "      <td>0.487313</td>\n",
       "      <td>0.091801</td>\n",
       "      <td>X</td>\n",
       "    </tr>\n",
       "  </tbody>\n",
       "</table>\n",
       "</div>"
      ],
      "text/plain": [
       "       h1_ma     h1_pa     h2_ma     h2_pa chrom\n",
       "0   0.990393  0.989313  0.988494  0.988956     1\n",
       "1   0.986820  0.985070  0.982405  0.985879     2\n",
       "2   0.986651  0.982310  0.983733  0.984543     3\n",
       "3   0.973597  0.966311  0.972967  0.975670     4\n",
       "4   0.979506  0.976267  0.976026  0.979633     5\n",
       "5   0.985982  0.980304  0.981590  0.982485     6\n",
       "6   0.982563  0.983789  0.981491  0.986119     7\n",
       "7   0.981891  0.978958  0.973912  0.976876     8\n",
       "8   0.977237  0.977887  0.973340  0.978588     9\n",
       "9   0.978457  0.967062  0.977473  0.972920    10\n",
       "10  0.982680  0.980875  0.980999  0.982908    11\n",
       "11  0.987390  0.987781  0.982609  0.986840    12\n",
       "12  0.971389  0.962000  0.963544  0.968162    13\n",
       "13  0.989332  0.985294  0.984100  0.989511    14\n",
       "14  0.986531  0.978871  0.976220  0.979939    15\n",
       "15  0.985514  0.981662  0.984021  0.983506    16\n",
       "16  0.991550  0.989551  0.987471  0.989412    17\n",
       "17  0.977129  0.974406  0.979373  0.982639    18\n",
       "18  0.995992  0.994410  0.993852  0.995746    19\n",
       "19  0.981857  0.976113  0.981165  0.981540    20\n",
       "20  0.974831  0.969461  0.945755  0.980459    21\n",
       "21  0.991831  0.972999  0.973857  0.986393    22\n",
       "22  0.974694  0.064691  0.487313  0.091801     X"
      ]
     },
     "execution_count": 5,
     "metadata": {},
     "output_type": "execute_result"
    }
   ],
   "source": [
    "chrs=[f\"{i}\" for i in range(1,22+1)]\n",
    "chrs.append('X')\n",
    "## compare\n",
    "Com_porec_hic=pd.DataFrame()\n",
    "for c in chrs:\n",
    "    print(c)\n",
    "    pr1=compare_porec_hic_diff(h1_file,ma_file,c)\n",
    "    pr2=compare_porec_hic_diff(h1_file,pa_file,c)\n",
    "    pr3=compare_porec_hic_diff(h2_file,ma_file,c)\n",
    "    pr4=compare_porec_hic_diff(h2_file,pa_file,c)\n",
    "    stat=pd.DataFrame({'h1_ma':abs(pr1),\n",
    "                       'h1_pa':abs(pr2),\n",
    "                       'h2_ma':abs(pr3),\n",
    "                       'h2_pa':abs(pr4)},index=[0])\n",
    "    Com_porec_hic=Com_porec_hic.append(stat, ignore_index=True)\n",
    "Com_porec_hic['chrom']=chrs\n",
    "Com_porec_hic"
   ]
  },
  {
   "cell_type": "code",
   "execution_count": 32,
   "id": "add65c36",
   "metadata": {
    "ExecuteTime": {
     "end_time": "2023-08-16T02:55:20.178860Z",
     "start_time": "2023-08-16T02:55:20.159651Z"
    }
   },
   "outputs": [],
   "source": [
    "# # h1 and h2 assign to paternal and maternal\n",
    "# Com_porec_hic[\"h1\"] = \"maternal\"\n",
    "# Com_porec_hic[\"h2\"] = \"paternal\"\n",
    "# P1 = Com_porec_hic[\"h1_ma\"] < Com_porec_hic[\"h2_ma\"]\n",
    "# Com_porec_hic.loc[P1, \"h2\"] = \"maternal\"\n",
    "# P2 = Com_porec_hic[\"h1_pa\"] > Com_porec_hic[\"h2_pa\"]\n",
    "# Com_porec_hic.loc[P2, \"h1\"] = \"paternal\"\n",
    "\n",
    "# ## reassign\n",
    "# Ps = Com_porec_hic[\"h1\"] == Com_porec_hic[\"h2\"] \n",
    "# P1 = Com_porec_hic[\"h1_ma\"] < Com_porec_hic[\"h1_pa\"]\n",
    "# Com_porec_hic.loc[P1&Ps, \"h1\"] = \"paternal\"\n",
    "# Com_porec_hic.loc[(~P1)&Ps, \"h1\"] = \"maternal\"\n",
    "# P2 = Com_porec_hic[\"h2_ma\"] < Com_porec_hic[\"h2_pa\"]\n",
    "# Com_porec_hic.loc[P2&Ps, \"h2\"] = \"paternal\"\n",
    "# Com_porec_hic.loc[(~P2)&Ps, \"h2\"] = \"maternal\"\n",
    "\n",
    "# Com_porec_hic[\"chrom\"] = [f\"chr{i}\" for i in Com_porec_hic.chrom.values ]\n",
    "# exportfile = \"/data2/linzhuobin/Hap3D_Figures/figure_processing_data/Haplotage_assigned_compartment_corr.csv\"\n",
    "# Com_porec_hic.loc[:, [\"chrom\", \"h1\", \"h2\"] ].to_csv(exportfile, header=True, sep=\"\\t\", index=False)\n",
    "#Com_porec_hic"
   ]
  },
  {
   "cell_type": "code",
   "execution_count": 6,
   "id": "eba76c6f",
   "metadata": {
    "ExecuteTime": {
     "end_time": "2023-08-26T15:56:43.871696Z",
     "start_time": "2023-08-26T15:56:43.866158Z"
    }
   },
   "outputs": [],
   "source": [
    "chrs=[f\"chr{i}\" for i in range(1,22+1)]\n",
    "chrs.append('chrX')"
   ]
  },
  {
   "cell_type": "code",
   "execution_count": 7,
   "id": "cbbf3847",
   "metadata": {
    "ExecuteTime": {
     "end_time": "2023-08-26T15:56:46.403095Z",
     "start_time": "2023-08-26T15:56:45.787599Z"
    },
    "scrolled": true
   },
   "outputs": [
    {
     "name": "stdout",
     "output_type": "stream",
     "text": [
      "chr1\n",
      "N=431; pr=0.995; sr=0.994\n",
      "chr2\n",
      "N=459; pr=0.993; sr=0.992\n",
      "chr3\n",
      "N=380; pr=0.993; sr=0.989\n",
      "chr4\n",
      "N=366; pr=0.985; sr=0.973\n",
      "chr5\n",
      "N=345; pr=0.990; sr=0.987\n",
      "chr6\n"
     ]
    },
    {
     "name": "stderr",
     "output_type": "stream",
     "text": [
      "/tmp/ipykernel_6548/2925908550.py:6: FutureWarning: The frame.append method is deprecated and will be removed from pandas in a future version. Use pandas.concat instead.\n",
      "  porec_stats=porec_stats.append(stat, ignore_index=True)\n",
      "/tmp/ipykernel_6548/2925908550.py:6: FutureWarning: The frame.append method is deprecated and will be removed from pandas in a future version. Use pandas.concat instead.\n",
      "  porec_stats=porec_stats.append(stat, ignore_index=True)\n",
      "/tmp/ipykernel_6548/2925908550.py:6: FutureWarning: The frame.append method is deprecated and will be removed from pandas in a future version. Use pandas.concat instead.\n",
      "  porec_stats=porec_stats.append(stat, ignore_index=True)\n",
      "/tmp/ipykernel_6548/2925908550.py:6: FutureWarning: The frame.append method is deprecated and will be removed from pandas in a future version. Use pandas.concat instead.\n",
      "  porec_stats=porec_stats.append(stat, ignore_index=True)\n",
      "/tmp/ipykernel_6548/2925908550.py:6: FutureWarning: The frame.append method is deprecated and will be removed from pandas in a future version. Use pandas.concat instead.\n",
      "  porec_stats=porec_stats.append(stat, ignore_index=True)\n",
      "/tmp/ipykernel_6548/2925908550.py:6: FutureWarning: The frame.append method is deprecated and will be removed from pandas in a future version. Use pandas.concat instead.\n",
      "  porec_stats=porec_stats.append(stat, ignore_index=True)\n",
      "/tmp/ipykernel_6548/2925908550.py:6: FutureWarning: The frame.append method is deprecated and will be removed from pandas in a future version. Use pandas.concat instead.\n",
      "  porec_stats=porec_stats.append(stat, ignore_index=True)\n",
      "/tmp/ipykernel_6548/2925908550.py:6: FutureWarning: The frame.append method is deprecated and will be removed from pandas in a future version. Use pandas.concat instead.\n",
      "  porec_stats=porec_stats.append(stat, ignore_index=True)\n"
     ]
    },
    {
     "name": "stdout",
     "output_type": "stream",
     "text": [
      "N=325; pr=0.993; sr=0.990\n",
      "chr7\n",
      "N=289; pr=0.993; sr=0.991\n",
      "chr8\n",
      "N=273; pr=0.989; sr=0.986\n",
      "chr9\n",
      "N=208; pr=-0.991; sr=-0.988\n",
      "chr10\n",
      "N=253; pr=-0.989; sr=-0.987\n",
      "chr11\n",
      "N=241; pr=-0.994; sr=-0.993\n",
      "chr12\n",
      "N=256; pr=0.994; sr=0.991\n",
      "chr13\n",
      "N=185; pr=0.984; sr=0.981\n",
      "chr14\n",
      "N=167; pr=0.989; sr=0.986\n",
      "chr15\n"
     ]
    },
    {
     "name": "stderr",
     "output_type": "stream",
     "text": [
      "/tmp/ipykernel_6548/2925908550.py:6: FutureWarning: The frame.append method is deprecated and will be removed from pandas in a future version. Use pandas.concat instead.\n",
      "  porec_stats=porec_stats.append(stat, ignore_index=True)\n",
      "/tmp/ipykernel_6548/2925908550.py:6: FutureWarning: The frame.append method is deprecated and will be removed from pandas in a future version. Use pandas.concat instead.\n",
      "  porec_stats=porec_stats.append(stat, ignore_index=True)\n",
      "/tmp/ipykernel_6548/2925908550.py:6: FutureWarning: The frame.append method is deprecated and will be removed from pandas in a future version. Use pandas.concat instead.\n",
      "  porec_stats=porec_stats.append(stat, ignore_index=True)\n",
      "/tmp/ipykernel_6548/2925908550.py:6: FutureWarning: The frame.append method is deprecated and will be removed from pandas in a future version. Use pandas.concat instead.\n",
      "  porec_stats=porec_stats.append(stat, ignore_index=True)\n",
      "/tmp/ipykernel_6548/2925908550.py:6: FutureWarning: The frame.append method is deprecated and will be removed from pandas in a future version. Use pandas.concat instead.\n",
      "  porec_stats=porec_stats.append(stat, ignore_index=True)\n",
      "/tmp/ipykernel_6548/2925908550.py:6: FutureWarning: The frame.append method is deprecated and will be removed from pandas in a future version. Use pandas.concat instead.\n",
      "  porec_stats=porec_stats.append(stat, ignore_index=True)\n",
      "/tmp/ipykernel_6548/2925908550.py:6: FutureWarning: The frame.append method is deprecated and will be removed from pandas in a future version. Use pandas.concat instead.\n",
      "  porec_stats=porec_stats.append(stat, ignore_index=True)\n",
      "/tmp/ipykernel_6548/2925908550.py:6: FutureWarning: The frame.append method is deprecated and will be removed from pandas in a future version. Use pandas.concat instead.\n",
      "  porec_stats=porec_stats.append(stat, ignore_index=True)\n",
      "/tmp/ipykernel_6548/2925908550.py:6: FutureWarning: The frame.append method is deprecated and will be removed from pandas in a future version. Use pandas.concat instead.\n",
      "  porec_stats=porec_stats.append(stat, ignore_index=True)\n"
     ]
    },
    {
     "name": "stdout",
     "output_type": "stream",
     "text": [
      "N=155; pr=0.987; sr=0.988\n",
      "chr16\n",
      "N=134; pr=0.987; sr=0.989\n",
      "chr17\n",
      "N=146; pr=0.993; sr=0.993\n",
      "chr18\n",
      "N=148; pr=0.985; sr=0.977\n",
      "chr19\n",
      "N=109; pr=0.996; sr=0.989\n",
      "chr20\n",
      "N=113; pr=0.990; sr=0.988\n",
      "chr21\n",
      "N=59; pr=0.940; sr=0.948\n",
      "chr22\n",
      "N=64; pr=0.974; sr=0.962\n",
      "chrX\n",
      "N=291; pr=-0.497; sr=-0.553\n"
     ]
    },
    {
     "name": "stderr",
     "output_type": "stream",
     "text": [
      "/tmp/ipykernel_6548/2925908550.py:6: FutureWarning: The frame.append method is deprecated and will be removed from pandas in a future version. Use pandas.concat instead.\n",
      "  porec_stats=porec_stats.append(stat, ignore_index=True)\n",
      "/tmp/ipykernel_6548/2925908550.py:6: FutureWarning: The frame.append method is deprecated and will be removed from pandas in a future version. Use pandas.concat instead.\n",
      "  porec_stats=porec_stats.append(stat, ignore_index=True)\n",
      "/tmp/ipykernel_6548/2925908550.py:6: FutureWarning: The frame.append method is deprecated and will be removed from pandas in a future version. Use pandas.concat instead.\n",
      "  porec_stats=porec_stats.append(stat, ignore_index=True)\n",
      "/tmp/ipykernel_6548/2925908550.py:6: FutureWarning: The frame.append method is deprecated and will be removed from pandas in a future version. Use pandas.concat instead.\n",
      "  porec_stats=porec_stats.append(stat, ignore_index=True)\n",
      "/tmp/ipykernel_6548/2925908550.py:6: FutureWarning: The frame.append method is deprecated and will be removed from pandas in a future version. Use pandas.concat instead.\n",
      "  porec_stats=porec_stats.append(stat, ignore_index=True)\n",
      "/tmp/ipykernel_6548/2925908550.py:6: FutureWarning: The frame.append method is deprecated and will be removed from pandas in a future version. Use pandas.concat instead.\n",
      "  porec_stats=porec_stats.append(stat, ignore_index=True)\n"
     ]
    }
   ],
   "source": [
    "porec_stats=pd.DataFrame()\n",
    "for c in chrs:\n",
    "    print(c)\n",
    "    E1_df,pr,sr=compare_2hap_diff(h1_file,h2_file,c)\n",
    "    stat=pd.DataFrame({'pr':abs(pr[0]),'sr':abs(sr[0])},index=[0])\n",
    "    porec_stats=porec_stats.append(stat, ignore_index=True)\n",
    "porec_stats['chrom']=chrs"
   ]
  },
  {
   "cell_type": "code",
   "execution_count": 9,
   "id": "6a179abe",
   "metadata": {
    "ExecuteTime": {
     "end_time": "2023-08-26T15:57:23.583791Z",
     "start_time": "2023-08-26T15:57:22.892527Z"
    },
    "scrolled": true
   },
   "outputs": [
    {
     "name": "stdout",
     "output_type": "stream",
     "text": [
      "1\n",
      "N=444; pr=0.998; sr=0.998\n",
      "2\n",
      "N=470; pr=-0.995; sr=-0.994\n",
      "3\n",
      "N=386; pr=0.997; sr=0.995\n",
      "4\n",
      "N=375; pr=0.993; sr=0.985\n",
      "5\n",
      "N=350; pr=0.995; sr=0.994\n",
      "6\n"
     ]
    },
    {
     "name": "stderr",
     "output_type": "stream",
     "text": [
      "/tmp/ipykernel_6548/4227303810.py:8: FutureWarning: The frame.append method is deprecated and will be removed from pandas in a future version. Use pandas.concat instead.\n",
      "  hic_stats=hic_stats.append(stat, ignore_index=True)\n",
      "/tmp/ipykernel_6548/4227303810.py:8: FutureWarning: The frame.append method is deprecated and will be removed from pandas in a future version. Use pandas.concat instead.\n",
      "  hic_stats=hic_stats.append(stat, ignore_index=True)\n",
      "/tmp/ipykernel_6548/4227303810.py:8: FutureWarning: The frame.append method is deprecated and will be removed from pandas in a future version. Use pandas.concat instead.\n",
      "  hic_stats=hic_stats.append(stat, ignore_index=True)\n",
      "/tmp/ipykernel_6548/4227303810.py:8: FutureWarning: The frame.append method is deprecated and will be removed from pandas in a future version. Use pandas.concat instead.\n",
      "  hic_stats=hic_stats.append(stat, ignore_index=True)\n",
      "/tmp/ipykernel_6548/4227303810.py:8: FutureWarning: The frame.append method is deprecated and will be removed from pandas in a future version. Use pandas.concat instead.\n",
      "  hic_stats=hic_stats.append(stat, ignore_index=True)\n",
      "/tmp/ipykernel_6548/4227303810.py:8: FutureWarning: The frame.append method is deprecated and will be removed from pandas in a future version. Use pandas.concat instead.\n",
      "  hic_stats=hic_stats.append(stat, ignore_index=True)\n",
      "/tmp/ipykernel_6548/4227303810.py:8: FutureWarning: The frame.append method is deprecated and will be removed from pandas in a future version. Use pandas.concat instead.\n",
      "  hic_stats=hic_stats.append(stat, ignore_index=True)\n"
     ]
    },
    {
     "name": "stdout",
     "output_type": "stream",
     "text": [
      "N=336; pr=0.996; sr=0.995\n",
      "7\n",
      "N=304; pr=-0.995; sr=-0.993\n",
      "8\n",
      "N=283; pr=0.996; sr=0.995\n",
      "9\n",
      "N=219; pr=0.997; sr=0.996\n",
      "10\n",
      "N=260; pr=0.993; sr=0.992\n",
      "11\n",
      "N=264; pr=0.997; sr=0.996\n",
      "12\n",
      "N=259; pr=0.997; sr=0.995\n",
      "13\n",
      "N=192; pr=0.989; sr=0.985\n",
      "14\n"
     ]
    },
    {
     "name": "stderr",
     "output_type": "stream",
     "text": [
      "/tmp/ipykernel_6548/4227303810.py:8: FutureWarning: The frame.append method is deprecated and will be removed from pandas in a future version. Use pandas.concat instead.\n",
      "  hic_stats=hic_stats.append(stat, ignore_index=True)\n",
      "/tmp/ipykernel_6548/4227303810.py:8: FutureWarning: The frame.append method is deprecated and will be removed from pandas in a future version. Use pandas.concat instead.\n",
      "  hic_stats=hic_stats.append(stat, ignore_index=True)\n",
      "/tmp/ipykernel_6548/4227303810.py:8: FutureWarning: The frame.append method is deprecated and will be removed from pandas in a future version. Use pandas.concat instead.\n",
      "  hic_stats=hic_stats.append(stat, ignore_index=True)\n",
      "/tmp/ipykernel_6548/4227303810.py:8: FutureWarning: The frame.append method is deprecated and will be removed from pandas in a future version. Use pandas.concat instead.\n",
      "  hic_stats=hic_stats.append(stat, ignore_index=True)\n",
      "/tmp/ipykernel_6548/4227303810.py:8: FutureWarning: The frame.append method is deprecated and will be removed from pandas in a future version. Use pandas.concat instead.\n",
      "  hic_stats=hic_stats.append(stat, ignore_index=True)\n",
      "/tmp/ipykernel_6548/4227303810.py:8: FutureWarning: The frame.append method is deprecated and will be removed from pandas in a future version. Use pandas.concat instead.\n",
      "  hic_stats=hic_stats.append(stat, ignore_index=True)\n",
      "/tmp/ipykernel_6548/4227303810.py:8: FutureWarning: The frame.append method is deprecated and will be removed from pandas in a future version. Use pandas.concat instead.\n",
      "  hic_stats=hic_stats.append(stat, ignore_index=True)\n",
      "/tmp/ipykernel_6548/4227303810.py:8: FutureWarning: The frame.append method is deprecated and will be removed from pandas in a future version. Use pandas.concat instead.\n",
      "  hic_stats=hic_stats.append(stat, ignore_index=True)\n"
     ]
    },
    {
     "name": "stdout",
     "output_type": "stream",
     "text": [
      "N=174; pr=0.989; sr=0.986\n",
      "15\n",
      "N=159; pr=0.990; sr=0.991\n",
      "16\n",
      "N=158; pr=0.998; sr=0.997\n",
      "17\n",
      "N=157; pr=0.998; sr=0.996\n",
      "18\n",
      "N=149; pr=-0.994; sr=-0.993\n",
      "19\n",
      "N=112; pr=0.997; sr=0.994\n",
      "20\n",
      "N=118; pr=-0.997; sr=-0.995\n",
      "21\n",
      "N=67; pr=0.987; sr=0.983\n",
      "22\n",
      "N=68; pr=0.987; sr=0.983\n",
      "X\n",
      "N=296; pr=0.077; sr=0.080\n"
     ]
    },
    {
     "name": "stderr",
     "output_type": "stream",
     "text": [
      "/tmp/ipykernel_6548/4227303810.py:8: FutureWarning: The frame.append method is deprecated and will be removed from pandas in a future version. Use pandas.concat instead.\n",
      "  hic_stats=hic_stats.append(stat, ignore_index=True)\n",
      "/tmp/ipykernel_6548/4227303810.py:8: FutureWarning: The frame.append method is deprecated and will be removed from pandas in a future version. Use pandas.concat instead.\n",
      "  hic_stats=hic_stats.append(stat, ignore_index=True)\n",
      "/tmp/ipykernel_6548/4227303810.py:8: FutureWarning: The frame.append method is deprecated and will be removed from pandas in a future version. Use pandas.concat instead.\n",
      "  hic_stats=hic_stats.append(stat, ignore_index=True)\n",
      "/tmp/ipykernel_6548/4227303810.py:8: FutureWarning: The frame.append method is deprecated and will be removed from pandas in a future version. Use pandas.concat instead.\n",
      "  hic_stats=hic_stats.append(stat, ignore_index=True)\n",
      "/tmp/ipykernel_6548/4227303810.py:8: FutureWarning: The frame.append method is deprecated and will be removed from pandas in a future version. Use pandas.concat instead.\n",
      "  hic_stats=hic_stats.append(stat, ignore_index=True)\n",
      "/tmp/ipykernel_6548/4227303810.py:8: FutureWarning: The frame.append method is deprecated and will be removed from pandas in a future version. Use pandas.concat instead.\n",
      "  hic_stats=hic_stats.append(stat, ignore_index=True)\n",
      "/tmp/ipykernel_6548/4227303810.py:8: FutureWarning: The frame.append method is deprecated and will be removed from pandas in a future version. Use pandas.concat instead.\n",
      "  hic_stats=hic_stats.append(stat, ignore_index=True)\n",
      "/tmp/ipykernel_6548/4227303810.py:8: FutureWarning: The frame.append method is deprecated and will be removed from pandas in a future version. Use pandas.concat instead.\n",
      "  hic_stats=hic_stats.append(stat, ignore_index=True)\n"
     ]
    }
   ],
   "source": [
    "chrs=[f\"{i}\" for i in range(1,22+1)]\n",
    "chrs.append('X')\n",
    "hic_stats=pd.DataFrame()\n",
    "for c in chrs:\n",
    "    print(c)\n",
    "    E1_df,pr,sr=compare_2hap_diff(ma_file,pa_file,c)\n",
    "    stat=pd.DataFrame({'pr':abs(pr[0]),'sr':abs(sr[0])},index=[0])\n",
    "    hic_stats=hic_stats.append(stat, ignore_index=True)\n",
    "hic_stats['chrom']=chrs"
   ]
  },
  {
   "cell_type": "code",
   "execution_count": 10,
   "id": "d2d8a927",
   "metadata": {
    "ExecuteTime": {
     "end_time": "2023-08-26T15:57:26.232899Z",
     "start_time": "2023-08-26T15:57:26.222695Z"
    }
   },
   "outputs": [
    {
     "name": "stdout",
     "output_type": "stream",
     "text": [
      "(0.9951068989811145, 1.3424100066844118e-22)\n",
      "SpearmanrResult(correlation=0.7776679841897233, pvalue=1.259483943737122e-05)\n"
     ]
    }
   ],
   "source": [
    "# Correlation\n",
    "pr = stats.pearsonr( hic_stats.pr.values, porec_stats.pr.values)\n",
    "sr = stats.spearmanr( hic_stats.pr.values, porec_stats.pr.values)\n",
    "print(pr)\n",
    "print(sr)"
   ]
  },
  {
   "cell_type": "code",
   "execution_count": 11,
   "id": "deaa981e",
   "metadata": {
    "ExecuteTime": {
     "end_time": "2023-08-26T15:57:29.188596Z",
     "start_time": "2023-08-26T15:57:29.171430Z"
    },
    "scrolled": true
   },
   "outputs": [
    {
     "data": {
      "text/html": [
       "<div>\n",
       "<style scoped>\n",
       "    .dataframe tbody tr th:only-of-type {\n",
       "        vertical-align: middle;\n",
       "    }\n",
       "\n",
       "    .dataframe tbody tr th {\n",
       "        vertical-align: top;\n",
       "    }\n",
       "\n",
       "    .dataframe thead th {\n",
       "        text-align: right;\n",
       "    }\n",
       "</style>\n",
       "<table border=\"1\" class=\"dataframe\">\n",
       "  <thead>\n",
       "    <tr style=\"text-align: right;\">\n",
       "      <th></th>\n",
       "      <th>hic</th>\n",
       "      <th>porec</th>\n",
       "      <th>chrom</th>\n",
       "    </tr>\n",
       "  </thead>\n",
       "  <tbody>\n",
       "    <tr>\n",
       "      <th>0</th>\n",
       "      <td>0.997848</td>\n",
       "      <td>0.994931</td>\n",
       "      <td>1</td>\n",
       "    </tr>\n",
       "    <tr>\n",
       "      <th>1</th>\n",
       "      <td>0.995337</td>\n",
       "      <td>0.993042</td>\n",
       "      <td>2</td>\n",
       "    </tr>\n",
       "    <tr>\n",
       "      <th>2</th>\n",
       "      <td>0.996674</td>\n",
       "      <td>0.993302</td>\n",
       "      <td>3</td>\n",
       "    </tr>\n",
       "    <tr>\n",
       "      <th>3</th>\n",
       "      <td>0.992586</td>\n",
       "      <td>0.984675</td>\n",
       "      <td>4</td>\n",
       "    </tr>\n",
       "    <tr>\n",
       "      <th>4</th>\n",
       "      <td>0.995317</td>\n",
       "      <td>0.990374</td>\n",
       "      <td>5</td>\n",
       "    </tr>\n",
       "    <tr>\n",
       "      <th>5</th>\n",
       "      <td>0.995698</td>\n",
       "      <td>0.992508</td>\n",
       "      <td>6</td>\n",
       "    </tr>\n",
       "    <tr>\n",
       "      <th>6</th>\n",
       "      <td>0.994903</td>\n",
       "      <td>0.992998</td>\n",
       "      <td>7</td>\n",
       "    </tr>\n",
       "    <tr>\n",
       "      <th>7</th>\n",
       "      <td>0.995787</td>\n",
       "      <td>0.988697</td>\n",
       "      <td>8</td>\n",
       "    </tr>\n",
       "    <tr>\n",
       "      <th>8</th>\n",
       "      <td>0.996942</td>\n",
       "      <td>0.990967</td>\n",
       "      <td>9</td>\n",
       "    </tr>\n",
       "    <tr>\n",
       "      <th>9</th>\n",
       "      <td>0.993218</td>\n",
       "      <td>0.989042</td>\n",
       "      <td>10</td>\n",
       "    </tr>\n",
       "    <tr>\n",
       "      <th>10</th>\n",
       "      <td>0.997456</td>\n",
       "      <td>0.994186</td>\n",
       "      <td>11</td>\n",
       "    </tr>\n",
       "    <tr>\n",
       "      <th>11</th>\n",
       "      <td>0.996610</td>\n",
       "      <td>0.994035</td>\n",
       "      <td>12</td>\n",
       "    </tr>\n",
       "    <tr>\n",
       "      <th>12</th>\n",
       "      <td>0.989173</td>\n",
       "      <td>0.983739</td>\n",
       "      <td>13</td>\n",
       "    </tr>\n",
       "    <tr>\n",
       "      <th>13</th>\n",
       "      <td>0.989388</td>\n",
       "      <td>0.988601</td>\n",
       "      <td>14</td>\n",
       "    </tr>\n",
       "    <tr>\n",
       "      <th>14</th>\n",
       "      <td>0.989666</td>\n",
       "      <td>0.986854</td>\n",
       "      <td>15</td>\n",
       "    </tr>\n",
       "    <tr>\n",
       "      <th>15</th>\n",
       "      <td>0.997720</td>\n",
       "      <td>0.987305</td>\n",
       "      <td>16</td>\n",
       "    </tr>\n",
       "    <tr>\n",
       "      <th>16</th>\n",
       "      <td>0.998147</td>\n",
       "      <td>0.993493</td>\n",
       "      <td>17</td>\n",
       "    </tr>\n",
       "    <tr>\n",
       "      <th>17</th>\n",
       "      <td>0.994148</td>\n",
       "      <td>0.985341</td>\n",
       "      <td>18</td>\n",
       "    </tr>\n",
       "    <tr>\n",
       "      <th>18</th>\n",
       "      <td>0.996615</td>\n",
       "      <td>0.995810</td>\n",
       "      <td>19</td>\n",
       "    </tr>\n",
       "    <tr>\n",
       "      <th>19</th>\n",
       "      <td>0.997232</td>\n",
       "      <td>0.990118</td>\n",
       "      <td>20</td>\n",
       "    </tr>\n",
       "    <tr>\n",
       "      <th>20</th>\n",
       "      <td>0.986696</td>\n",
       "      <td>0.939998</td>\n",
       "      <td>21</td>\n",
       "    </tr>\n",
       "    <tr>\n",
       "      <th>21</th>\n",
       "      <td>0.987257</td>\n",
       "      <td>0.973831</td>\n",
       "      <td>22</td>\n",
       "    </tr>\n",
       "    <tr>\n",
       "      <th>22</th>\n",
       "      <td>0.077335</td>\n",
       "      <td>0.497442</td>\n",
       "      <td>X</td>\n",
       "    </tr>\n",
       "  </tbody>\n",
       "</table>\n",
       "</div>"
      ],
      "text/plain": [
       "         hic     porec chrom\n",
       "0   0.997848  0.994931     1\n",
       "1   0.995337  0.993042     2\n",
       "2   0.996674  0.993302     3\n",
       "3   0.992586  0.984675     4\n",
       "4   0.995317  0.990374     5\n",
       "5   0.995698  0.992508     6\n",
       "6   0.994903  0.992998     7\n",
       "7   0.995787  0.988697     8\n",
       "8   0.996942  0.990967     9\n",
       "9   0.993218  0.989042    10\n",
       "10  0.997456  0.994186    11\n",
       "11  0.996610  0.994035    12\n",
       "12  0.989173  0.983739    13\n",
       "13  0.989388  0.988601    14\n",
       "14  0.989666  0.986854    15\n",
       "15  0.997720  0.987305    16\n",
       "16  0.998147  0.993493    17\n",
       "17  0.994148  0.985341    18\n",
       "18  0.996615  0.995810    19\n",
       "19  0.997232  0.990118    20\n",
       "20  0.986696  0.939998    21\n",
       "21  0.987257  0.973831    22\n",
       "22  0.077335  0.497442     X"
      ]
     },
     "execution_count": 11,
     "metadata": {},
     "output_type": "execute_result"
    }
   ],
   "source": [
    "df=pd.DataFrame({'hic':hic_stats['pr'],'porec':porec_stats['pr'],'chrom':chrs})\n",
    "df#.head()"
   ]
  },
  {
   "cell_type": "code",
   "execution_count": 12,
   "id": "4a88987a",
   "metadata": {
    "ExecuteTime": {
     "end_time": "2023-08-26T15:57:34.154969Z",
     "start_time": "2023-08-26T15:57:34.150306Z"
    }
   },
   "outputs": [],
   "source": [
    "outdir=\"/data2/linzhuobin/Hap3D_Figures/pdf\""
   ]
  },
  {
   "cell_type": "code",
   "execution_count": 13,
   "id": "5c921c5f",
   "metadata": {
    "ExecuteTime": {
     "end_time": "2023-08-26T15:57:35.313142Z",
     "start_time": "2023-08-26T15:57:35.284989Z"
    }
   },
   "outputs": [
    {
     "name": "stdout",
     "output_type": "stream",
     "text": [
      "y=0.5350*x+0.4555\n",
      "eval 0.9902377403998099\n"
     ]
    }
   ],
   "source": [
    "X=hic_stats['pr']\n",
    "Y=porec_stats['pr']\n",
    "X_train=np.array(X).reshape((len(X),1))\n",
    "Y_train=np.array(Y).reshape((len(Y),1))\n",
    "\n",
    "lineModel = LinearRegression()\n",
    "lineModel.fit(X_train,Y_train)\n",
    "\n",
    "Y_predict=lineModel.predict(X_train)\n",
    "\n",
    "a1 = lineModel.coef_[0][0]\n",
    "b = lineModel.intercept_[0]\n",
    "print(\"y=%.4f*x+%.4f\" % (a1,b))\n",
    "print(\"eval\",lineModel.score(X_train,Y_train))"
   ]
  },
  {
   "cell_type": "code",
   "execution_count": 14,
   "id": "5ce84c3a",
   "metadata": {
    "ExecuteTime": {
     "end_time": "2023-08-26T15:57:40.620193Z",
     "start_time": "2023-08-26T15:57:40.431866Z"
    }
   },
   "outputs": [
    {
     "data": {
      "image/png": "[encoded data removed]",
      "text/plain": [
       "<Figure size 400x400 with 1 Axes>"
      ]
     },
     "metadata": {},
     "output_type": "display_data"
    }
   ],
   "source": [
    "plt.figure(figsize = (4,4)) \n",
    "plt.scatter(hic_stats['pr'],porec_stats['pr'],c='k',s=10)\n",
    "plt.plot(X,Y_predict,c='r')\n",
    "plt.title(\"Eigenvector score (100kb)\")\n",
    "plt.xlabel(\"Hi-C\\nCorrelation between haplotypes\")\n",
    "plt.ylabel(\"Correlation between haplotypes\\nHiPore-C\")\n",
    "#plt.text(0.97,0.9, \"Pearson rho = %.3f\\nSpearman rho = %.3f\"%(pr[0],sr[0]), ha=\"left\", va=\"center\" )\n",
    "#plt.text(0.97,0.88, \"y=%.4f*x+%.4f\" % (a1,b), ha=\"left\", va=\"center\" )\n",
    "#plt.ylim(0.85,1.005)\n",
    "#plt.yticks([0.85,0.9,0.95,1.0])\n",
    "fig=outdir+\"PoreC_vs_HiC.Compartment_score_500kb\"+\".haplotype_difference\"+\"_1.pdf\"\n",
    "#plt.savefig(fig,bbox_inches = 'tight')"
   ]
  },
  {
   "cell_type": "code",
   "execution_count": 15,
   "id": "4b4b5ada",
   "metadata": {
    "ExecuteTime": {
     "end_time": "2023-08-26T15:57:42.864546Z",
     "start_time": "2023-08-26T15:57:42.398002Z"
    }
   },
   "outputs": [
    {
     "data": {
      "image/png": "[encoded data removed]",
      "text/plain": [
       "<Figure size 400x400 with 1 Axes>"
      ]
     },
     "metadata": {},
     "output_type": "display_data"
    }
   ],
   "source": [
    "fig, ax = plt.subplots(1,1,figsize=(4,4))\n",
    "ax.scatter(hic_stats['pr'],porec_stats['pr'],c='k',s=10)\n",
    "ax.plot(X,Y_predict,c='r')\n",
    "plt.title(\"Eigenvector score (500kb)\")\n",
    "plt.xlabel(\"Hi-C\\nCorrelation between haplotypes\")\n",
    "plt.ylabel(\"Correlation between haplotypes\\nHiPore-C\")\n",
    "plt.text(0.6,0.55, \"R2 = %.3f\"%(0.990), ha=\"left\", va=\"center\" )\n",
    "#plt.text(0.97,0.88, \"y=%.4f*x+%.4f\" % (a1,b), ha=\"left\", va=\"center\" )\n",
    "#plt.ylim(0.85,1.005)\n",
    "#plt.yticks([0.85,0.9,0.95,1.0])\n",
    "\n",
    "axins = ax.inset_axes((0.1,0.57,0.4,0.4))\n",
    "axins.scatter(hic_stats['pr'][:-1],porec_stats['pr'][:-1],c='k',s=10)\n",
    "axins.set_xlim(0.98,1)\n",
    "axins.set_ylim(0.97,1)\n",
    "\n",
    "#plt.show()\n",
    "fig=outdir+\"/\"+\"PoreC_vs_HiC.Compartment_score_500kb\"+\".haplotype_difference\"+\"_1.pdf\"\n",
    "plt.savefig(fig,bbox_inches = 'tight')"
   ]
  },
  {
   "cell_type": "code",
   "execution_count": null,
   "id": "dcea8f5f",
   "metadata": {},
   "outputs": [],
   "source": [
    "res,file='10k','Insulation'\n",
    "ma_file='/'.join(['/data2/linzhuobin/Temp/hi-c_hg19/maternal',res,file])\n",
    "pa_file='/'.join(['/data2/linzhuobin/Temp/hi-c_hg19/paternal',res,file])\n",
    "h1_file='/data1/LLR/pairwise_contact/hg19/trans/porec_maternal/CallScores/Insulation_maternal'\n",
    "h2_file='/data1/LLR/pairwise_contact/hg19/trans/porec_paternal/CallScores/Insulation_paternal'"
   ]
  }
 ],
 "metadata": {
  "kernelspec": {
   "display_name": "Python 3 (ipykernel)",
   "language": "python",
   "name": "python3"
  },
  "language_info": {
   "codemirror_mode": {
    "name": "ipython",
    "version": 3
   },
   "file_extension": ".py",
   "mimetype": "text/x-python",
   "name": "python",
   "nbconvert_exporter": "python",
   "pygments_lexer": "ipython3",
   "version": "3.8.3"
  }
 },
 "nbformat": 4,
 "nbformat_minor": 5
}
