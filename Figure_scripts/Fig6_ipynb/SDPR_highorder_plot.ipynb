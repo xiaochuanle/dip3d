{
 "cells": [
  {
   "cell_type": "code",
   "execution_count": 1,
   "id": "c6df8aa8",
   "metadata": {
    "ExecuteTime": {
     "end_time": "2023-09-12T09:43:27.316626Z",
     "start_time": "2023-09-12T09:43:25.915934Z"
    }
   },
   "outputs": [],
   "source": [
    "import pandas as pd\n",
    "import numpy as np\n",
    "import matplotlib.pyplot as plt\n",
    "import seaborn as sns\n",
    "from itertools import combinations\n",
    "import statsmodels.api as sm\n",
    "lowess = sm.nonparametric.lowess\n",
    "import matplotlib.pyplot as plt\n",
    "from matplotlib_venn import venn2\n",
    "import re\n",
    "import warnings\n",
    "warnings.filterwarnings('ignore')"
   ]
  },
  {
   "cell_type": "code",
   "execution_count": 2,
   "id": "5ebb09e5",
   "metadata": {
    "ExecuteTime": {
     "end_time": "2023-09-12T09:43:27.323374Z",
     "start_time": "2023-09-12T09:43:27.318746Z"
    }
   },
   "outputs": [],
   "source": [
    "from matplotlib import rcParams \n",
    "rcParams['pdf.fonttype'] = 42 # True font\n",
    "rcParams['font.family'] =  \"sans-serif\" \n",
    "rcParams['font.sans-serif'] = \"Liberation Sans\"  # font Arial\n",
    "rcParams['font.size'] =  8  \n",
    "rcParams['grid.linewidth'] =  0.5 \n",
    "rcParams['lines.color'] = 'b' \n",
    "rcParams['lines.linewidth'] = 1 \n",
    "rcParams['lines.markersize'] = 3\n",
    "rcParams['lines.markeredgewidth'] = 0 # set Marker with no edgelines\n",
    "rcParams['axes.linewidth'] = 0.5\n",
    "rcParams['axes.titlesize'] = 12\n",
    "rcParams['axes.labelsize'] = 8\n",
    "rcParams['xtick.labelsize'] = 8\n",
    "rcParams['ytick.labelsize'] = 8\n",
    "rcParams['legend.fontsize'] = 8\n",
    "rcParams['legend.title_fontsize'] = 8"
   ]
  },
  {
   "cell_type": "code",
   "execution_count": 18,
   "id": "dd9db528",
   "metadata": {
    "ExecuteTime": {
     "end_time": "2023-09-12T09:49:35.247133Z",
     "start_time": "2023-09-12T09:49:31.474191Z"
    }
   },
   "outputs": [],
   "source": [
    "# Loading data\n",
    "Rawdir=\"/data2/linzhuobin/Hap3D_Figures/figure_processing_data\"\n",
    "outdir=f\"/data2/linzhuobin/Hap3D_Figures/pdf\"\n",
    "DF = pd.read_csv(f\"{Rawdir}/Fig6/SDPR/chrX/DF_mapq5.txt\",sep = \"\\t\")"
   ]
  },
  {
   "cell_type": "code",
   "execution_count": 19,
   "id": "31f70c8f",
   "metadata": {
    "ExecuteTime": {
     "end_time": "2023-09-12T09:49:42.689742Z",
     "start_time": "2023-09-12T09:49:42.672519Z"
    }
   },
   "outputs": [],
   "source": [
    "def GROUP_DICT(df):\n",
    "    Dict = {}\n",
    "    group = df.groupby(\"rid\")\n",
    "    for rid, df in group:\n",
    "        Dict[rid] = df\n",
    "    return Dict\n",
    "\n",
    "def SORT(Dict):\n",
    "    sort_dict = {}\n",
    "    for readid, df in Dict.items():\n",
    "        tmp_list = []\n",
    "        tmp_list.append(min(df[\"fpos\"]))\n",
    "        tmp_list.append(df.iloc[0, 14])\n",
    "        sort_dict[readid] = min(tmp_list)\n",
    "    sort_list = sorted(sort_dict.items(), key = lambda kv:(kv[1], kv[0]))\n",
    "    return sort_list\n",
    "\n",
    "def line_dict(df):\n",
    "    sort_list = sorted(df['pos_bin'].tolist())\n",
    "    line_list = []\n",
    "    plus = float(df.iloc[0,14]+600)\n",
    "    negative = float(df.iloc[0,14]-600)\n",
    "    left = float(df.iloc[0,14]-1000)\n",
    "    right = float(df.iloc[0,14]+1000)\n",
    "    read_count = len(df['rid'].unique())\n",
    "    for i in sort_list:\n",
    "        if i <= negative:\n",
    "            i = left\n",
    "            line_list.append(i)\n",
    "        elif i <= plus:\n",
    "            line_list.append(i)\n",
    "        else:\n",
    "            i = right\n",
    "            line_list.append(i)\n",
    "    tmp_dict = {}\n",
    "    tmp_df = pd.DataFrame(line_list)\n",
    "    tmp_group = tmp_df.groupby(0)\n",
    "    for pos, count in tmp_group:\n",
    "        tmp_dict[pos] = len(count) / read_count\n",
    "    ref_list = list(range(int(df.iloc[0,14]-1000), int(df.iloc[0,14]+1000)+1, 1))\n",
    "    for i in ref_list:\n",
    "        if i in tmp_dict.keys():\n",
    "            continue\n",
    "        else:\n",
    "            tmp_dict[i] = 0\n",
    "    return tmp_dict"
   ]
  },
  {
   "cell_type": "code",
   "execution_count": 85,
   "id": "53fa5fdf",
   "metadata": {
    "ExecuteTime": {
     "end_time": "2023-09-12T12:14:46.604126Z",
     "start_time": "2023-09-12T12:14:46.590061Z"
    }
   },
   "outputs": [],
   "source": [
    "def location(i, region, Dict):\n",
    "    loc = np.searchsorted(region, i)\n",
    "    if (loc == 0):\n",
    "        Dict[(region[0])] += 1\n",
    "    else:\n",
    "        Dict[(region[loc-1])] += 1\n",
    "    return Dict\n",
    "\n",
    "def divide_region(Dict, start, end, number = 5):\n",
    "    region = np.linspace(start, end, number)\n",
    "    \n",
    "    for i in region:\n",
    "        Dict[(i)] = 0\n",
    "    \n",
    "    gap = region[1] -  region[0]\n",
    "    return Dict, region, gap\n",
    "\n",
    "def fragment_count(df, Ppos, FLANK):\n",
    "    \"\"\"fragment count in distal or proximal region\"\"\"\n",
    "    sort_list = sorted(df['fpos'].tolist())\n",
    "\n",
    "    Dict1 = {}\n",
    "    Dict2 = {}\n",
    "    Dict3 = {}\n",
    "    group = 8\n",
    "    Dict1, region1, gap1 = divide_region(Dict1, 0, Ppos - FLANK, group)\n",
    "    Dict2, region2, gap2 = divide_region(Dict2, Ppos - FLANK, Ppos + FLANK, group)\n",
    "    Dict3, region3, gap3 = divide_region(Dict3, Ppos + FLANK, max(sort_list), group)\n",
    "    \n",
    "    n = 0\n",
    "    for i in sort_list:\n",
    "        if i < Ppos - FLANK:\n",
    "            Dict1 = location(i, region1, Dict1)\n",
    "        elif (i >= Ppos - FLANK) & (i < Ppos + FLANK):\n",
    "            Dict2 = location(i, region2, Dict2)\n",
    "        elif i >= Ppos + FLANK:\n",
    "            Dict3 = location(i, region3, Dict3)\n",
    "        n += 1\n",
    "    return Dict1, Dict2, Dict3, gap1, gap2, gap3"
   ]
  },
  {
   "cell_type": "code",
   "execution_count": 102,
   "id": "00862b2d",
   "metadata": {
    "ExecuteTime": {
     "end_time": "2023-09-12T14:03:45.350216Z",
     "start_time": "2023-09-12T14:03:45.342123Z"
    }
   },
   "outputs": [
    {
     "data": {
      "text/plain": [
       "3"
      ]
     },
     "execution_count": 102,
     "metadata": {},
     "output_type": "execute_result"
    }
   ],
   "source": [
    " np.searchsorted(np.linspace(0, 1, 3), 3)"
   ]
  },
  {
   "cell_type": "code",
   "execution_count": 95,
   "id": "633bf3f6",
   "metadata": {
    "ExecuteTime": {
     "end_time": "2023-09-12T14:02:07.884667Z",
     "start_time": "2023-09-12T14:02:07.877602Z"
    }
   },
   "outputs": [
    {
     "data": {
      "text/plain": [
       "array([0. , 0.5, 1. ])"
      ]
     },
     "execution_count": 95,
     "metadata": {},
     "output_type": "execute_result"
    }
   ],
   "source": [
    "np.linspace(0, 1, 3)"
   ]
  },
  {
   "cell_type": "code",
   "execution_count": 22,
   "id": "024fa2b6",
   "metadata": {
    "ExecuteTime": {
     "end_time": "2023-09-12T09:49:47.520316Z",
     "start_time": "2023-09-12T09:49:47.505751Z"
    }
   },
   "outputs": [],
   "source": [
    "# def single_DLR(df):\n",
    "#     \"\"\"Calcualte SDPR\"\"\"\n",
    "#     single_dict = {}\n",
    "#     for rid,df in df.groupby(\"rid\"):\n",
    "#         single_dict[rid] = df\n",
    "#     mean_dict = {}\n",
    "#     for rid, gdf in single_dict.items():\n",
    "#         dis_count = len(gdf.loc[gdf.dis > 1500000])\n",
    "#         loc_count = len(gdf.loc[gdf.dis <= 1500000])\n",
    "#         if loc_count == 0:\n",
    "#             mean_dict[rid] = 0\n",
    "#         else:\n",
    "#             mean_dict[rid] =  dis_count / loc_count\n",
    "#     return mean_dict"
   ]
  },
  {
   "cell_type": "code",
   "execution_count": 23,
   "id": "a70add88",
   "metadata": {
    "ExecuteTime": {
     "end_time": "2023-09-12T09:49:50.539134Z",
     "start_time": "2023-09-12T09:49:49.447821Z"
    }
   },
   "outputs": [],
   "source": [
    "SELECT_PRO = \"ENSG00000102317.17\"\n",
    "Ppos = 48574449\n",
    "\n",
    "example_df = DF.loc[DF[\"ID\"].str.contains(f\"{SELECT_PRO}\")]\n",
    "example_df_h1 = example_df.loc[example_df.HType == \"h1\"]\n",
    "example_df_h2 = example_df.loc[example_df.HType == \"h2\"]\n",
    "\n",
    "example_df_h1_dict = GROUP_DICT(example_df_h1)\n",
    "example_df_h2_dict = GROUP_DICT(example_df_h2)\n",
    "\n",
    "sort_list_h1 = SORT(example_df_h1_dict)\n",
    "sort_list_h2 = SORT(example_df_h2_dict)"
   ]
  },
  {
   "cell_type": "code",
   "execution_count": 92,
   "id": "82f871db",
   "metadata": {
    "ExecuteTime": {
     "end_time": "2023-09-12T13:56:20.219582Z",
     "start_time": "2023-09-12T13:56:20.186514Z"
    }
   },
   "outputs": [
    {
     "data": {
      "text/html": [
       "<div>\n",
       "<style scoped>\n",
       "    .dataframe tbody tr th:only-of-type {\n",
       "        vertical-align: middle;\n",
       "    }\n",
       "\n",
       "    .dataframe tbody tr th {\n",
       "        vertical-align: top;\n",
       "    }\n",
       "\n",
       "    .dataframe thead th {\n",
       "        text-align: right;\n",
       "    }\n",
       "</style>\n",
       "<table border=\"1\" class=\"dataframe\">\n",
       "  <thead>\n",
       "    <tr style=\"text-align: right;\">\n",
       "      <th></th>\n",
       "      <th>chrom</th>\n",
       "      <th>start</th>\n",
       "      <th>end</th>\n",
       "      <th>rid</th>\n",
       "      <th>fid</th>\n",
       "      <th>cid</th>\n",
       "      <th>pos</th>\n",
       "      <th>hp</th>\n",
       "      <th>HType</th>\n",
       "      <th>Pchrom</th>\n",
       "      <th>Pstart</th>\n",
       "      <th>Pend</th>\n",
       "      <th>ID</th>\n",
       "      <th>fpos</th>\n",
       "      <th>ppos</th>\n",
       "      <th>dis</th>\n",
       "    </tr>\n",
       "  </thead>\n",
       "  <tbody>\n",
       "    <tr>\n",
       "      <th>719755</th>\n",
       "      <td>chrX</td>\n",
       "      <td>53960667</td>\n",
       "      <td>53965667</td>\n",
       "      <td>100487004</td>\n",
       "      <td>1</td>\n",
       "      <td>22</td>\n",
       "      <td>53963167</td>\n",
       "      <td>1</td>\n",
       "      <td>h1</td>\n",
       "      <td>chrX</td>\n",
       "      <td>48573449</td>\n",
       "      <td>48575449</td>\n",
       "      <td>ENSG00000102317.17</td>\n",
       "      <td>53963167.0</td>\n",
       "      <td>48574449.0</td>\n",
       "      <td>5388718.0</td>\n",
       "    </tr>\n",
       "    <tr>\n",
       "      <th>719756</th>\n",
       "      <td>chrX</td>\n",
       "      <td>53959427</td>\n",
       "      <td>53964427</td>\n",
       "      <td>100487004</td>\n",
       "      <td>2</td>\n",
       "      <td>22</td>\n",
       "      <td>53961927</td>\n",
       "      <td>1</td>\n",
       "      <td>h1</td>\n",
       "      <td>chrX</td>\n",
       "      <td>48573449</td>\n",
       "      <td>48575449</td>\n",
       "      <td>ENSG00000102317.17</td>\n",
       "      <td>53961927.0</td>\n",
       "      <td>48574449.0</td>\n",
       "      <td>5387478.0</td>\n",
       "    </tr>\n",
       "    <tr>\n",
       "      <th>719757</th>\n",
       "      <td>chrX</td>\n",
       "      <td>48570825</td>\n",
       "      <td>48575825</td>\n",
       "      <td>100487004</td>\n",
       "      <td>3</td>\n",
       "      <td>22</td>\n",
       "      <td>48573325</td>\n",
       "      <td>1</td>\n",
       "      <td>h1</td>\n",
       "      <td>chrX</td>\n",
       "      <td>48573449</td>\n",
       "      <td>48575449</td>\n",
       "      <td>ENSG00000102317.17</td>\n",
       "      <td>48573325.0</td>\n",
       "      <td>48574449.0</td>\n",
       "      <td>1124.0</td>\n",
       "    </tr>\n",
       "    <tr>\n",
       "      <th>719758</th>\n",
       "      <td>chrX</td>\n",
       "      <td>48549753</td>\n",
       "      <td>48554753</td>\n",
       "      <td>100487004</td>\n",
       "      <td>4</td>\n",
       "      <td>22</td>\n",
       "      <td>48552253</td>\n",
       "      <td>1</td>\n",
       "      <td>h1</td>\n",
       "      <td>chrX</td>\n",
       "      <td>48573449</td>\n",
       "      <td>48575449</td>\n",
       "      <td>ENSG00000102317.17</td>\n",
       "      <td>48552253.0</td>\n",
       "      <td>48574449.0</td>\n",
       "      <td>22196.0</td>\n",
       "    </tr>\n",
       "    <tr>\n",
       "      <th>719759</th>\n",
       "      <td>chrX</td>\n",
       "      <td>54552820</td>\n",
       "      <td>54557820</td>\n",
       "      <td>100487004</td>\n",
       "      <td>5</td>\n",
       "      <td>22</td>\n",
       "      <td>54555320</td>\n",
       "      <td>1</td>\n",
       "      <td>h1</td>\n",
       "      <td>chrX</td>\n",
       "      <td>48573449</td>\n",
       "      <td>48575449</td>\n",
       "      <td>ENSG00000102317.17</td>\n",
       "      <td>54555320.0</td>\n",
       "      <td>48574449.0</td>\n",
       "      <td>5980871.0</td>\n",
       "    </tr>\n",
       "    <tr>\n",
       "      <th>...</th>\n",
       "      <td>...</td>\n",
       "      <td>...</td>\n",
       "      <td>...</td>\n",
       "      <td>...</td>\n",
       "      <td>...</td>\n",
       "      <td>...</td>\n",
       "      <td>...</td>\n",
       "      <td>...</td>\n",
       "      <td>...</td>\n",
       "      <td>...</td>\n",
       "      <td>...</td>\n",
       "      <td>...</td>\n",
       "      <td>...</td>\n",
       "      <td>...</td>\n",
       "      <td>...</td>\n",
       "      <td>...</td>\n",
       "    </tr>\n",
       "    <tr>\n",
       "      <th>724007</th>\n",
       "      <td>chrX</td>\n",
       "      <td>40297985</td>\n",
       "      <td>40302985</td>\n",
       "      <td>98954466</td>\n",
       "      <td>4</td>\n",
       "      <td>22</td>\n",
       "      <td>40300485</td>\n",
       "      <td>1</td>\n",
       "      <td>h1</td>\n",
       "      <td>chrX</td>\n",
       "      <td>48573449</td>\n",
       "      <td>48575449</td>\n",
       "      <td>ENSG00000102317.17</td>\n",
       "      <td>40300485.0</td>\n",
       "      <td>48574449.0</td>\n",
       "      <td>8273964.0</td>\n",
       "    </tr>\n",
       "    <tr>\n",
       "      <th>724008</th>\n",
       "      <td>chrX</td>\n",
       "      <td>40301359</td>\n",
       "      <td>40306359</td>\n",
       "      <td>98954466</td>\n",
       "      <td>5</td>\n",
       "      <td>22</td>\n",
       "      <td>40303859</td>\n",
       "      <td>1</td>\n",
       "      <td>h1</td>\n",
       "      <td>chrX</td>\n",
       "      <td>48573449</td>\n",
       "      <td>48575449</td>\n",
       "      <td>ENSG00000102317.17</td>\n",
       "      <td>40303859.0</td>\n",
       "      <td>48574449.0</td>\n",
       "      <td>8270590.0</td>\n",
       "    </tr>\n",
       "    <tr>\n",
       "      <th>724009</th>\n",
       "      <td>chrX</td>\n",
       "      <td>40380612</td>\n",
       "      <td>40385612</td>\n",
       "      <td>98954466</td>\n",
       "      <td>6</td>\n",
       "      <td>22</td>\n",
       "      <td>40383112</td>\n",
       "      <td>1</td>\n",
       "      <td>h1</td>\n",
       "      <td>chrX</td>\n",
       "      <td>48573449</td>\n",
       "      <td>48575449</td>\n",
       "      <td>ENSG00000102317.17</td>\n",
       "      <td>40383112.0</td>\n",
       "      <td>48574449.0</td>\n",
       "      <td>8191337.0</td>\n",
       "    </tr>\n",
       "    <tr>\n",
       "      <th>724010</th>\n",
       "      <td>chrX</td>\n",
       "      <td>40372460</td>\n",
       "      <td>40377460</td>\n",
       "      <td>98954466</td>\n",
       "      <td>7</td>\n",
       "      <td>22</td>\n",
       "      <td>40374960</td>\n",
       "      <td>1</td>\n",
       "      <td>h1</td>\n",
       "      <td>chrX</td>\n",
       "      <td>48573449</td>\n",
       "      <td>48575449</td>\n",
       "      <td>ENSG00000102317.17</td>\n",
       "      <td>40374960.0</td>\n",
       "      <td>48574449.0</td>\n",
       "      <td>8199489.0</td>\n",
       "    </tr>\n",
       "    <tr>\n",
       "      <th>724011</th>\n",
       "      <td>chrX</td>\n",
       "      <td>48570821</td>\n",
       "      <td>48575821</td>\n",
       "      <td>98954466</td>\n",
       "      <td>8</td>\n",
       "      <td>22</td>\n",
       "      <td>48573321</td>\n",
       "      <td>1</td>\n",
       "      <td>h1</td>\n",
       "      <td>chrX</td>\n",
       "      <td>48573449</td>\n",
       "      <td>48575449</td>\n",
       "      <td>ENSG00000102317.17</td>\n",
       "      <td>48573321.0</td>\n",
       "      <td>48574449.0</td>\n",
       "      <td>1128.0</td>\n",
       "    </tr>\n",
       "  </tbody>\n",
       "</table>\n",
       "<p>2292 rows × 16 columns</p>\n",
       "</div>"
      ],
      "text/plain": [
       "       chrom     start       end        rid  fid  cid       pos  hp HType  \\\n",
       "719755  chrX  53960667  53965667  100487004    1   22  53963167   1    h1   \n",
       "719756  chrX  53959427  53964427  100487004    2   22  53961927   1    h1   \n",
       "719757  chrX  48570825  48575825  100487004    3   22  48573325   1    h1   \n",
       "719758  chrX  48549753  48554753  100487004    4   22  48552253   1    h1   \n",
       "719759  chrX  54552820  54557820  100487004    5   22  54555320   1    h1   \n",
       "...      ...       ...       ...        ...  ...  ...       ...  ..   ...   \n",
       "724007  chrX  40297985  40302985   98954466    4   22  40300485   1    h1   \n",
       "724008  chrX  40301359  40306359   98954466    5   22  40303859   1    h1   \n",
       "724009  chrX  40380612  40385612   98954466    6   22  40383112   1    h1   \n",
       "724010  chrX  40372460  40377460   98954466    7   22  40374960   1    h1   \n",
       "724011  chrX  48570821  48575821   98954466    8   22  48573321   1    h1   \n",
       "\n",
       "       Pchrom    Pstart      Pend                  ID        fpos        ppos  \\\n",
       "719755   chrX  48573449  48575449  ENSG00000102317.17  53963167.0  48574449.0   \n",
       "719756   chrX  48573449  48575449  ENSG00000102317.17  53961927.0  48574449.0   \n",
       "719757   chrX  48573449  48575449  ENSG00000102317.17  48573325.0  48574449.0   \n",
       "719758   chrX  48573449  48575449  ENSG00000102317.17  48552253.0  48574449.0   \n",
       "719759   chrX  48573449  48575449  ENSG00000102317.17  54555320.0  48574449.0   \n",
       "...       ...       ...       ...                 ...         ...         ...   \n",
       "724007   chrX  48573449  48575449  ENSG00000102317.17  40300485.0  48574449.0   \n",
       "724008   chrX  48573449  48575449  ENSG00000102317.17  40303859.0  48574449.0   \n",
       "724009   chrX  48573449  48575449  ENSG00000102317.17  40383112.0  48574449.0   \n",
       "724010   chrX  48573449  48575449  ENSG00000102317.17  40374960.0  48574449.0   \n",
       "724011   chrX  48573449  48575449  ENSG00000102317.17  48573321.0  48574449.0   \n",
       "\n",
       "              dis  \n",
       "719755  5388718.0  \n",
       "719756  5387478.0  \n",
       "719757     1124.0  \n",
       "719758    22196.0  \n",
       "719759  5980871.0  \n",
       "...           ...  \n",
       "724007  8273964.0  \n",
       "724008  8270590.0  \n",
       "724009  8191337.0  \n",
       "724010  8199489.0  \n",
       "724011     1128.0  \n",
       "\n",
       "[2292 rows x 16 columns]"
      ]
     },
     "execution_count": 92,
     "metadata": {},
     "output_type": "execute_result"
    }
   ],
   "source": [
    "example_df_h1"
   ]
  },
  {
   "cell_type": "code",
   "execution_count": 66,
   "id": "ef063ddd",
   "metadata": {
    "ExecuteTime": {
     "end_time": "2023-09-12T11:46:45.876058Z",
     "start_time": "2023-09-12T11:46:45.842865Z"
    }
   },
   "outputs": [],
   "source": [
    "def SDPRHighOrderPlot(hap_df, SELECT_PRO, Hap=\"h1\", FLANK = 1500000):\n",
    "    '''\n",
    "        high order fragment line plot for haplotype SDPR\n",
    "    '''\n",
    "    example_df = DF.loc[DF[\"ID\"].str.contains(f\"{SELECT_PRO}\")]\n",
    "    example_df = example_df.loc[example_df.HType ==  Hap]\n",
    "    example_df_dict = GROUP_DICT(example_df)\n",
    "    sort_list = SORT(example_df_dict)\n",
    "    \n",
    "    hapcolor = {\"h1\":\"red\", \"h2\":\"blue\"}\n",
    "    # plot\n",
    "    plt.subplots_adjust(hspace=0.5)\n",
    "    MAX = []\n",
    "    fig, axes = plt.subplots(nrows=1,ncols=3,\n",
    "                             sharey = True, figsize = (5, 2)) \n",
    "    plt.subplots_adjust(wspace=0.05, hspace=0.05)\n",
    "    # fragments\n",
    "    for i in sort_list:\n",
    "        row1 = example_df.loc[example_df.rid == i[0]]\n",
    "        for index,row in row1.iterrows():\n",
    "            axes[1].plot(row[\"ppos\"], str(row[\"rid\"]), 's', color = hapcolor[Hap], linewidth=0.8, markersize=0.5)\n",
    "            if row['dis'] < FLANK:\n",
    "                color = \"g\"\n",
    "                axes[1].plot(row[\"fpos\"], str(row[\"rid\"]), 's', color = color, linewidth=0.8, markersize=0.5)\n",
    "            else:\n",
    "                if row[\"fpos\"]<row[\"ppos\"]:\n",
    "                    color = \"k\"\n",
    "                    axes[0].plot(row[\"fpos\"], str(row[\"rid\"]), 's', color = color, linewidth=0.8, markersize=0.5)\n",
    "                if row[\"fpos\"]>row[\"ppos\"]:\n",
    "                    color = \"k\"\n",
    "                    axes[2].plot(row[\"fpos\"], str(row[\"rid\"]), 's', color = color, linewidth=0.8, markersize=0.5)\n",
    "    # contact lines            \n",
    "    for rid, gdf in example_df.groupby(\"rid\"):\n",
    "        a = gdf[\"fpos\"].tolist()\n",
    "        a.append(gdf.iloc[0, 14])\n",
    "        tmp1 = min(a)\n",
    "        tmp2 = max(a)\n",
    "        if (tmp1 < row[\"ppos\"] - FLANK) & (tmp2 > row[\"ppos\"] + FLANK):\n",
    "            axes[0].plot([tmp1,row[\"ppos\"] -FLANK], \n",
    "                         [str(gdf[\"rid\"].tolist()[0]), str(gdf[\"rid\"].tolist()[0])], '-',color = \"grey\", linewidth=0.1)\n",
    "            axes[1].plot([row[\"ppos\"] - FLANK,row[\"ppos\"] + FLANK], \n",
    "                         [str(gdf[\"rid\"].tolist()[0]), str(gdf[\"rid\"].tolist()[0])], '-',color = \"grey\", linewidth=0.1)\n",
    "            axes[2].plot([row[\"ppos\"] + FLANK,tmp2], \n",
    "                         [str(gdf[\"rid\"].tolist()[0]), str(gdf[\"rid\"].tolist()[0])], '-',color = \"grey\", linewidth=0.1)\n",
    "        elif (tmp1 < row[\"ppos\"] - FLANK) & (tmp2 <= row[\"ppos\"] + FLANK) & (tmp2 >= row[\"ppos\"] - 200):\n",
    "            axes[0].plot([tmp1,row[\"ppos\"] - FLANK], \n",
    "                         [str(gdf[\"rid\"].tolist()[0]), str(gdf[\"rid\"].tolist()[0])], '-',color = \"grey\", linewidth=0.1)\n",
    "            axes[1].plot([row[\"ppos\"] - FLANK,tmp2], \n",
    "                         [str(gdf[\"rid\"].tolist()[0]), str(gdf[\"rid\"].tolist()[0])], '-',color = \"grey\", linewidth=0.1)\n",
    "        elif tmp2 < row[\"ppos\"] - FLANK:\n",
    "            axes[0].plot([tmp1,tmp2], \n",
    "                         [str(gdf[\"rid\"].tolist()[0]), str(gdf[\"rid\"].tolist()[0])], '-',color = \"grey\", linewidth=0.1)\n",
    "        elif ((tmp1 >= row[\"ppos\"] - FLANK) & (tmp1 <= row[\"ppos\"] + FLANK) &\n",
    "              (tmp2 >= row[\"ppos\"] - FLANK) & (tmp2 <= row[\"ppos\"] + FLANK)):\n",
    "            axes[1].plot([tmp1,tmp2], \n",
    "                         [str(gdf[\"rid\"].tolist()[0]), str(gdf[\"rid\"].tolist()[0])], '-',color = \"grey\", linewidth=0.1)\n",
    "        elif ((tmp1 >= row[\"ppos\"] - FLANK) & (tmp1 <= row[\"ppos\"] + FLANK) & (tmp2 > row[\"ppos\"] + 200)):\n",
    "            MAX.append(tmp2)\n",
    "            axes[1].plot([tmp1,row[\"ppos\"] + FLANK], \n",
    "                         [str(gdf[\"rid\"].tolist()[0]), str(gdf[\"rid\"].tolist()[0])], '-',color = \"grey\", linewidth=0.1)\n",
    "            axes[2].plot([row[\"ppos\"] + FLANK,tmp2], \n",
    "                         [str(gdf[\"rid\"].tolist()[0]), str(gdf[\"rid\"].tolist()[0])], '-',color = \"grey\", linewidth=0.1)\n",
    "        elif ((tmp1 > row[\"ppos\"] + FLANK) & (tmp2 > row[\"ppos\"] + FLANK)):\n",
    "            axes[2].plot([tmp1,tmp2], \n",
    "                         [str(gdf[\"rid\"].tolist()[0]), str(gdf[\"rid\"].tolist()[0])], '-',color = \"grey\", linewidth=0.1)\n",
    "\n",
    "    plt.tick_params(labelleft = False,left = False)\n",
    "    for i in range(0,3):\n",
    "        axes[i].tick_params(labelleft = False,\n",
    "                                  left = False)\n",
    "    axes[0].tick_params(labelleft=False, left=False,\n",
    "                       bottom = False, labelbottom = False)\n",
    "    axes[0].set_xlim(0, row[\"ppos\"] - FLANK)\n",
    "    axes[1].set_xlim(row[\"ppos\"] - FLANK,\n",
    "                      row[\"ppos\"] + FLANK)\n",
    "    axes[2].set_xlim(row[\"ppos\"] + FLANK, max(MAX))\n",
    "\n",
    "    axes[0].set_xticks([0, row[\"ppos\"] - FLANK],)\n",
    "    axes[1].set_xticks([row[\"ppos\"] - FLANK, row[\"ppos\"],\n",
    "                      row[\"ppos\"] + FLANK],)\n",
    "    axes[2].set_xticks([row[\"ppos\"] + FLANK],)\n",
    "    plt.savefig(f\"{outdir}/{Hap}_high_order_contact_{SELECT_PRO}.pdf\")\n",
    "    return(example_df)"
   ]
  },
  {
   "cell_type": "code",
   "execution_count": 89,
   "id": "2194e53e",
   "metadata": {
    "ExecuteTime": {
     "end_time": "2023-09-12T12:15:48.559177Z",
     "start_time": "2023-09-12T12:15:25.061171Z"
    }
   },
   "outputs": [
    {
     "data": {
      "text/plain": [
       "<Figure size 640x480 with 0 Axes>"
      ]
     },
     "metadata": {},
     "output_type": "display_data"
    },
    {
     "data": {
      "image/png": "[encoded data removed]",
      "text/plain": [
       "<Figure size 500x200 with 3 Axes>"
      ]
     },
     "metadata": {},
     "output_type": "display_data"
    },
    {
     "data": {
      "image/png": "[encoded data removed]",
      "text/plain": [
       "<Figure size 500x200 with 3 Axes>"
      ]
     },
     "metadata": {},
     "output_type": "display_data"
    }
   ],
   "source": [
    "SELECT_PRO = \"ENSG00000102317.17\"\n",
    "Ppos = 48574449\n",
    "FLANK = 1500000\n",
    "example_df_h1 = SDPRHighOrderPlot(DF, SELECT_PRO, \"h1\")\n",
    "example_df_h2 = SDPRHighOrderPlot(DF, SELECT_PRO, \"h2\")"
   ]
  },
  {
   "cell_type": "code",
   "execution_count": 90,
   "id": "d51ba4a5",
   "metadata": {
    "ExecuteTime": {
     "end_time": "2023-09-12T12:15:49.217161Z",
     "start_time": "2023-09-12T12:15:48.667531Z"
    }
   },
   "outputs": [
    {
     "data": {
      "text/plain": [
       "<Figure size 640x480 with 0 Axes>"
      ]
     },
     "metadata": {},
     "output_type": "display_data"
    },
    {
     "data": {
      "image/png": "[encoded data removed]",
      "text/plain": [
       "<Figure size 500x200 with 3 Axes>"
      ]
     },
     "metadata": {},
     "output_type": "display_data"
    }
   ],
   "source": [
    "# contact frequence histogram \n",
    "Dict1_h1, Dict2_h1, Dict3_h1, gap1_h1, gap2_h1, gap3_h1 = fragment_count(example_df_h1, Ppos, FLANK )\n",
    "Dict1_h2, Dict2_h2, Dict3_h2, gap1_h2, gap2_h2, gap3_h2 = fragment_count(example_df_h2, Ppos, FLANK )\n",
    "h1_dict_list = [Dict1_h1, Dict2_h1, Dict3_h1]\n",
    "h2_dict_list = [Dict1_h2, Dict2_h2, Dict3_h2]\n",
    "gap_h1_list = [gap1_h1, gap2_h1, gap3_h1]\n",
    "gap_h2_list = [gap1_h2, gap2_h2, gap3_h2]\n",
    "plt.subplots_adjust(hspace=0.5)\n",
    "\n",
    "fig, axes = plt.subplots(nrows=1,ncols=3, figsize = (5, 2)) \n",
    "\n",
    "i = 0\n",
    "for h1_dict in h1_dict_list:\n",
    "\n",
    "    for pos, value in h1_dict.items():\n",
    "        h1_dict[pos] = value / len(example_df_h1['rid'].unique())\n",
    "    \n",
    "    h1_x = h1_dict.keys()\n",
    "    h1_y = h1_dict.values()\n",
    "    axes[i].bar(h1_x, h1_y, align = \"edge\", width = gap_h1_list[i], color = \"red\", alpha=0.4)\n",
    "    axes[i].set_xticks(list(h1_x) ,)\n",
    "    axes[i].set_xlim(list(h1_x)[0], list(h1_x)[-1])\n",
    "    i += 1\n",
    "\n",
    "i = 0\n",
    "for h2_dict in h2_dict_list:    \n",
    "    for pos, value in h2_dict.items():\n",
    "        h2_dict[pos] = value / len(example_df_h2['rid'].unique()) \n",
    "        \n",
    "    h2_x = h2_dict.keys()\n",
    "    h2_y = h2_dict.values()\n",
    "    axes[i].bar(h2_x, h2_y, align = \"edge\", width = gap_h2_list[i], color = \"blue\", alpha=0.4)\n",
    "    i += 1\n",
    "\n",
    "axes[0].set_ylim(0, 1)\n",
    "axes[1].set_ylim(0, 5)\n",
    "axes[2].set_ylim(0, 1.5)\n",
    "\n",
    "plt.savefig(f\"{outdir}/h1_h2_SDPR_high_order_frequency_bar_{SELECT_PRO}.pdf\")"
   ]
  },
  {
   "cell_type": "code",
   "execution_count": 69,
   "id": "de934178",
   "metadata": {
    "ExecuteTime": {
     "end_time": "2023-09-12T11:47:40.814702Z",
     "start_time": "2023-09-12T11:47:12.474645Z"
    }
   },
   "outputs": [
    {
     "data": {
      "text/plain": [
       "<Figure size 640x480 with 0 Axes>"
      ]
     },
     "metadata": {},
     "output_type": "display_data"
    },
    {
     "data": {
      "image/png": "[encoded data removed]",
      "text/plain": [
       "<Figure size 500x200 with 3 Axes>"
      ]
     },
     "metadata": {},
     "output_type": "display_data"
    },
    {
     "data": {
      "image/png": "[encoded data removed]",
      "text/plain": [
       "<Figure size 500x200 with 3 Axes>"
      ]
     },
     "metadata": {},
     "output_type": "display_data"
    }
   ],
   "source": [
    "# CTPS2\n",
    "SELECT_PRO = \"ENSG00000047230.14\"\n",
    "Ppos = 16712936\n",
    "FLANK = 1500000\n",
    "example_df_h1 = SDPRHighOrderPlot(DF, SELECT_PRO, \"h1\")\n",
    "example_df_h2 = SDPRHighOrderPlot(DF, SELECT_PRO, \"h2\")"
   ]
  },
  {
   "cell_type": "code",
   "execution_count": 88,
   "id": "25e74b83",
   "metadata": {
    "ExecuteTime": {
     "end_time": "2023-09-12T12:15:05.380571Z",
     "start_time": "2023-09-12T12:15:04.796020Z"
    }
   },
   "outputs": [
    {
     "data": {
      "text/plain": [
       "<Figure size 640x480 with 0 Axes>"
      ]
     },
     "metadata": {},
     "output_type": "display_data"
    },
    {
     "data": {
      "image/png": "[encoded data removed]",
      "text/plain": [
       "<Figure size 500x200 with 3 Axes>"
      ]
     },
     "metadata": {},
     "output_type": "display_data"
    }
   ],
   "source": [
    "# contact frequence histogram \n",
    "Dict1_h1, Dict2_h1, Dict3_h1, gap1_h1, gap2_h1, gap3_h1 = fragment_count(example_df_h1, Ppos, FLANK )\n",
    "Dict1_h2, Dict2_h2, Dict3_h2, gap1_h2, gap2_h2, gap3_h2 = fragment_count(example_df_h2, Ppos, FLANK )\n",
    "h1_dict_list = [Dict1_h1, Dict2_h1, Dict3_h1]\n",
    "h2_dict_list = [Dict1_h2, Dict2_h2, Dict3_h2]\n",
    "gap_h1_list = [gap1_h1, gap2_h1, gap3_h1]\n",
    "gap_h2_list = [gap1_h2, gap2_h2, gap3_h2]\n",
    "plt.subplots_adjust(hspace=0.5)\n",
    "\n",
    "fig, axes = plt.subplots(nrows=1,ncols=3, figsize = (5, 2)) \n",
    "\n",
    "i = 0\n",
    "for h1_dict in h1_dict_list:\n",
    "    for pos, value in h1_dict.items():\n",
    "        h1_dict[pos] = value / len(example_df_h1['rid'].unique())\n",
    "    \n",
    "    h1_x = h1_dict.keys()\n",
    "    h1_y = h1_dict.values()\n",
    "    axes[i].bar(h1_x, h1_y, align = \"edge\", width = gap_h1_list[i], color = \"red\", alpha=0.4)\n",
    "    axes[i].set_xticks(list(h1_x) ,)\n",
    "    axes[i].set_xlim(list(h1_x)[0], list(h1_x)[-1])\n",
    "    i += 1\n",
    "\n",
    "i = 0\n",
    "for h2_dict in h2_dict_list:    \n",
    "    for pos, value in h2_dict.items():\n",
    "        h2_dict[pos] = value / len(example_df_h2['rid'].unique()) \n",
    "        \n",
    "    h2_x = h2_dict.keys()\n",
    "    h2_y = h2_dict.values()\n",
    "    axes[i].bar(h2_x, h2_y, align = \"edge\", width = gap_h2_list[i], color = \"blue\", alpha=0.4)\n",
    "    i += 1\n",
    "\n",
    "axes[0].set_ylim(0, 1)\n",
    "axes[1].set_ylim(0, 5)\n",
    "axes[2].set_ylim(0, 1.5)\n",
    "\n",
    "plt.savefig(f\"{outdir}/h1_h2_SDPR_high_order_frequency_bar_{SELECT_PRO}.pdf\")"
   ]
  }
 ],
 "metadata": {
  "kernelspec": {
   "display_name": "Python 3 (ipykernel)",
   "language": "python",
   "name": "python3"
  },
  "language_info": {
   "codemirror_mode": {
    "name": "ipython",
    "version": 3
   },
   "file_extension": ".py",
   "mimetype": "text/x-python",
   "name": "python",
   "nbconvert_exporter": "python",
   "pygments_lexer": "ipython3",
   "version": "3.8.3"
  }
 },
 "nbformat": 4,
 "nbformat_minor": 5
}
