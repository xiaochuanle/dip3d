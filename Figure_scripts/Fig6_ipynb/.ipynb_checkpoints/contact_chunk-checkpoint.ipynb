{
 "cells": [
  {
   "cell_type": "code",
   "execution_count": 1,
   "id": "3c30ce55",
   "metadata": {
    "ExecuteTime": {
     "end_time": "2023-08-25T03:18:29.562624Z",
     "start_time": "2023-08-25T03:18:28.801133Z"
    }
   },
   "outputs": [],
   "source": [
    "import pandas as pd\n",
    "import numpy as np\n",
    "import os\n",
    "import pybedtools\n",
    "from pybedtools import BedTool\n",
    "from itertools import combinations"
   ]
  },
  {
   "cell_type": "code",
   "execution_count": 2,
   "id": "ed887d59",
   "metadata": {
    "ExecuteTime": {
     "end_time": "2023-08-25T03:18:30.130747Z",
     "start_time": "2023-08-25T03:18:30.124251Z"
    }
   },
   "outputs": [],
   "source": [
    "chr_list = [\n",
    "    \"chr1\", \"chr2\", \"chr3\", \"chr4\", \"chr5\", \"chr6\",\n",
    "    \"chr7\", \"chr8\", \"chr9\", \"chr10\", \"chr11\", \"chr12\",\n",
    "    \"chr13\", \"chr14\", \"chr15\", \"chr16\", \"chr17\", \"chr18\",\n",
    "    \"chr19\", \"chr20\", \"chr21\", \"chr22\", \"chrX\",\n",
    "]"
   ]
  },
  {
   "cell_type": "code",
   "execution_count": 3,
   "id": "530b9b50",
   "metadata": {
    "ExecuteTime": {
     "end_time": "2023-08-25T03:18:31.314493Z",
     "start_time": "2023-08-25T03:18:31.297664Z"
    }
   },
   "outputs": [],
   "source": [
    "def func(key, value):\n",
    "    \"\"\"contact matrix make processing\"\"\"\n",
    "    Dict_format = {\"read_name\":[], \"chrom1\":[], \"pos1\":[], \"frag1\":[],\n",
    "                   \"chrom2\":[], \"pos2\":[], \"frag2\":[], \"HType\":[]}\n",
    "    \n",
    "    list1 = value[\"hp\"].values\n",
    "    list2 = list(combinations(list1, 2))\n",
    "    \n",
    "    index = value.index\n",
    "    index_list = list(combinations(index,2))\n",
    "    index_list = [list(row) for row in index_list]\n",
    "    \n",
    "    tmp = []\n",
    "    for i in range(0,len(list2)):\n",
    "        Dict_format[\"read_name\"].append(key)\n",
    "        contact = value.loc[index_list[i]]\n",
    "        Type = contact.loc[index_list[i][0], \"HType\"]\n",
    "        Dict_format[\"HType\"].append(Type)\n",
    "        \n",
    "        Dict_format[\"chrom1\"].append(\"tmp\")\n",
    "        b1 = int(contact.loc[index_list[i][0], \"pos\"])\n",
    "        Dict_format[\"pos1\"].append(b1)\n",
    "        d1 = contact.loc[index_list[i][0], \"fid\"]\n",
    "        Dict_format[\"frag1\"].append(d1)\n",
    "        \n",
    "        Dict_format[\"chrom2\"].append(\"tmp\")\n",
    "        b2 = int(contact.loc[index_list[i][1], \"pos\"]) \n",
    "        Dict_format[\"pos2\"].append(b2)\n",
    "        d2 = contact.loc[index_list[i][1], \"fid\"]\n",
    "        Dict_format[\"frag2\"].append(d2)\n",
    "\n",
    "    return pd.DataFrame(Dict_format)\n",
    "import multiprocessing\n",
    "def func1_wrapper(args):\n",
    "    \"\"\"pass parameter\"\"\"\n",
    "    return func(*args)\n",
    "def file_tackle(df):\n",
    "    \"\"\"contact matrix workflow\"\"\"\n",
    "    readID_dict = {}\n",
    "    group = df.groupby(df.rid)\n",
    "\n",
    "    for readID, gdf in group:\n",
    "        readID_dict[readID] = gdf.reset_index(drop = True)  \n",
    "\n",
    "    if __name__ == '__main__':\n",
    "        with multiprocessing.Pool(processes=20) as pool:\n",
    "            args_list = [(key, value) for key, value in readID_dict.items()]\n",
    "            result = pool.map(func1_wrapper, args_list)\n",
    "    fhap_df = pd.concat(result)\n",
    "    return fhap_df"
   ]
  },
  {
   "cell_type": "code",
   "execution_count": 4,
   "id": "8d158fce",
   "metadata": {
    "ExecuteTime": {
     "end_time": "2023-08-25T03:18:32.154014Z",
     "start_time": "2023-08-25T03:18:32.147935Z"
    }
   },
   "outputs": [],
   "source": [
    "def LoadMatrixReader(filename, Chunksize,  sepstr=\"\\t\"):\n",
    "    file_reader = pd.read_table(filename, sep=sepstr,\n",
    "                                chunksize=Chunksize, iterator=True,\n",
    "                                header=0, index_col=None, low_memory=False)\n",
    "    return(file_reader)\n",
    "\n",
    "def CompleteDF(df, dfhold, Chunksize):\n",
    "    lastread = df.iloc[-1][\"rid\"]\n",
    "    df = pd.concat([dfhold, df]) # concat dfhold and df\n",
    "    # last read df\n",
    "    P = df[\"rid\"] == lastread\n",
    "    dfhold = df.loc[P, :].copy()\n",
    "    if len(df) >= Chunksize: # not the last iterally loading\n",
    "        df = df.drop(df.loc[P].index.to_list() , axis=0)\n",
    "\n",
    "    return(df, dfhold)"
   ]
  },
  {
   "cell_type": "code",
   "execution_count": null,
   "id": "c3344bc4",
   "metadata": {
    "ExecuteTime": {
     "end_time": "2023-08-05T10:56:03.938237Z",
     "start_time": "2023-08-04T10:34:38.204746Z"
    },
    "scrolled": true
   },
   "outputs": [],
   "source": [
    "Chunksize = 2500000\n",
    "Rawdir=\"./figure_processing_data/Fig6\"\n",
    "for file in files:\n",
    "    fhappath = f\"{Rawdir}/{file}\"\n",
    "    fhaps = ['h1', 'h2']\n",
    "    for fhap in fhaps:\n",
    "        paffile = fhappath + '/' + fhap + '_fhap.txt'\n",
    "        print(f\"Loading {paffile}\")\n",
    "        reader  =  LoadMatrixReader(paffile, Chunksize,  sepstr=\"\\t\")\n",
    "        df_hold = pd.DataFrame()\n",
    "        for chunk in reader:\n",
    "        \n",
    "            chunk, df_hold = CompleteDF(chunk, df_hold, Chunksize)\n",
    "            result = file_tackle(chunk)\n",
    "            result['chrom1'] = file\n",
    "            result['chrom2'] = file\n",
    "            modify_list = ['read_name', 'pos1', 'frag1', 'pos2', 'frag2']\n",
    "            result[modify_list] = result[modify_list].astype('int')\n",
    "            result.to_csv(f\"{Rawdir}/{file}/contact_matrix_{fhap}.txt\", sep = \"\\t\", index = 0, mode = 'a')\n",
    "            result = None\n",
    "        print(f\"write contact_matrix_{fhap}.txt done!\")"
   ]
  },
  {
   "cell_type": "code",
   "execution_count": null,
   "id": "911d665a",
   "metadata": {},
   "outputs": [],
   "source": [
    "for file in chr_list:\n",
    "    path = f\"{Rawdir}/{file}\"\n",
    "    print(f\"Loading {path}\")\n",
    "    contact_matrix(path)"
   ]
  },
  {
   "cell_type": "code",
   "execution_count": null,
   "id": "f15be47c",
   "metadata": {},
   "outputs": [],
   "source": [
    "def contact_matrix(path):\n",
    "    h1_df = pd.read_csv(path + '/' + \"h1_matrix.txt\", sep = \"\\t\",\n",
    "                       header = None)\n",
    "    h2_df = pd.read_csv(path + '/' + \"h2_matrix.txt\", sep = \"\\t\",\n",
    "                       header = None)\n",
    "    h1_df['strand1'] = 0\n",
    "    h1_df['fragid1'] = 0\n",
    "    h1_df['strand2'] = 0\n",
    "    h1_df['fragid2'] = 1\n",
    "    h1_df['mapq1'] = 30\n",
    "    h1_df['mapq2'] = 60\n",
    "\n",
    "    h2_df['strand1'] = 0\n",
    "    h2_df['fragid1'] = 0\n",
    "    h2_df['strand2'] = 0\n",
    "    h2_df['fragid2'] = 1\n",
    "    h2_df['mapq1'] = 30\n",
    "    h2_df['mapq2'] = 60\n",
    "    h1_df = h1_df[[0, \"strand1\", 1, 2, \"fragid1\", \"strand2\", 4, 5, \"fragid2\", \"mapq1\", \"mapq2\"]]\n",
    "    h2_df = h2_df[[0, \"strand1\", 1, 2, \"fragid1\", \"strand2\", 4, 5, \"fragid2\", \"mapq1\", \"mapq2\"]]\n",
    "    print(f\"writing to {path}/contact_matrix_h1.txt\")\n",
    "    h1_df.to_csv(f\"{path}/contact_matrix_h1.txt\",\n",
    "                sep = \"\\t\", index = None, header = None)\n",
    "    print(f\"writing to {path}/contact_matrix_h2.txt\")\n",
    "    h2_df.to_csv(f\"{path}/contact_matrix_h2.txt\",\n",
    "                sep = \"\\t\", index = None, header = None)"
   ]
  }
 ],
 "metadata": {
  "kernelspec": {
   "display_name": "Python 3 (ipykernel)",
   "language": "python",
   "name": "python3"
  },
  "language_info": {
   "codemirror_mode": {
    "name": "ipython",
    "version": 3
   },
   "file_extension": ".py",
   "mimetype": "text/x-python",
   "name": "python",
   "nbconvert_exporter": "python",
   "pygments_lexer": "ipython3",
   "version": "3.8.3"
  }
 },
 "nbformat": 4,
 "nbformat_minor": 5
}
