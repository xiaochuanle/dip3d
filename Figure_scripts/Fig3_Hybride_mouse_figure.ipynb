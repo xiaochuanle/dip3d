{
 "cells": [
  {
   "cell_type": "code",
   "execution_count": 3,
   "id": "91dfd2e2",
   "metadata": {
    "ExecuteTime": {
     "end_time": "2023-08-22T07:23:11.059387Z",
     "start_time": "2023-08-22T07:23:11.052141Z"
    }
   },
   "outputs": [],
   "source": [
    "import pandas as pd\n",
    "import numpy as np\n",
    "import matplotlib.pyplot as plt\n",
    "import seaborn as sns\n",
    "from itertools import combinations\n",
    "import statsmodels.api as sm\n",
    "lowess = sm.nonparametric.lowess\n",
    "import matplotlib.pyplot as plt\n",
    "from matplotlib_venn import venn2\n",
    "import re\n",
    "import warnings\n",
    "warnings.filterwarnings('ignore')"
   ]
  },
  {
   "cell_type": "code",
   "execution_count": 4,
   "id": "5153d81d",
   "metadata": {
    "ExecuteTime": {
     "end_time": "2023-08-22T07:23:11.834822Z",
     "start_time": "2023-08-22T07:23:11.825790Z"
    }
   },
   "outputs": [],
   "source": [
    "from matplotlib import rcParams \n",
    "rcParams['pdf.fonttype'] = 42 # True font\n",
    "rcParams['font.family'] =  \"sans-serif\" \n",
    "rcParams['font.sans-serif'] = \"Liberation Sans\"  # font Arial\n",
    "rcParams['font.size'] =  8  \n",
    "rcParams['grid.linewidth'] =  0.5 \n",
    "rcParams['lines.color'] = 'b' \n",
    "rcParams['lines.linewidth'] = 1 \n",
    "rcParams['lines.markersize'] = 3\n",
    "rcParams['lines.markeredgewidth'] = 0 # set Marker with no edgelines\n",
    "rcParams['axes.linewidth'] = 0.5\n",
    "rcParams['axes.titlesize'] = 12\n",
    "rcParams['axes.labelsize'] = 8\n",
    "rcParams['xtick.labelsize'] = 8\n",
    "rcParams['ytick.labelsize'] = 8\n",
    "rcParams['legend.fontsize'] = 8\n",
    "rcParams['legend.title_fontsize'] = 8"
   ]
  },
  {
   "cell_type": "code",
   "execution_count": 5,
   "id": "180c016a",
   "metadata": {
    "ExecuteTime": {
     "end_time": "2023-08-22T07:23:13.257993Z",
     "start_time": "2023-08-22T07:23:13.252923Z"
    }
   },
   "outputs": [],
   "source": [
    "Datadir=\"/data2/linzhuobin/Hap3D_Figures/figure_processing_data\"\n",
    "fhap_list=f'{Datadir}/Fig3/frag-hap.list' ## dip3d filter\n",
    "hic_list=f'{Datadir}/Fig3/hic-hap.list'\n",
    "hic_pair=f'{Datadir}/Fig3/hic-hap.pair'\n",
    "out_dir='/data2/linzhuobin/Hap3D_Figures/pdf'"
   ]
  },
  {
   "cell_type": "code",
   "execution_count": 6,
   "id": "86746936",
   "metadata": {
    "ExecuteTime": {
     "end_time": "2023-08-22T07:23:56.781146Z",
     "start_time": "2023-08-22T07:23:14.844219Z"
    },
    "scrolled": false
   },
   "outputs": [
    {
     "name": "stdout",
     "output_type": "stream",
     "text": [
      "Hic pair-wise contact file exists\n"
     ]
    },
    {
     "data": {
      "text/html": [
       "<div>\n",
       "<style scoped>\n",
       "    .dataframe tbody tr th:only-of-type {\n",
       "        vertical-align: middle;\n",
       "    }\n",
       "\n",
       "    .dataframe tbody tr th {\n",
       "        vertical-align: top;\n",
       "    }\n",
       "\n",
       "    .dataframe thead th {\n",
       "        text-align: right;\n",
       "    }\n",
       "</style>\n",
       "<table border=\"1\" class=\"dataframe\">\n",
       "  <thead>\n",
       "    <tr style=\"text-align: right;\">\n",
       "      <th></th>\n",
       "      <th>read_name</th>\n",
       "      <th>chrom1</th>\n",
       "      <th>pos1</th>\n",
       "      <th>hp1</th>\n",
       "      <th>chrom2</th>\n",
       "      <th>pos2</th>\n",
       "      <th>hp2</th>\n",
       "    </tr>\n",
       "  </thead>\n",
       "  <tbody>\n",
       "    <tr>\n",
       "      <th>0</th>\n",
       "      <td>SRR5122741.1000</td>\n",
       "      <td>7</td>\n",
       "      <td>56869833</td>\n",
       "      <td>G1</td>\n",
       "      <td>7</td>\n",
       "      <td>56893276</td>\n",
       "      <td>UA</td>\n",
       "    </tr>\n",
       "    <tr>\n",
       "      <th>1</th>\n",
       "      <td>SRR5122741.1000000</td>\n",
       "      <td>3</td>\n",
       "      <td>110839538</td>\n",
       "      <td>UA</td>\n",
       "      <td>3</td>\n",
       "      <td>123790652</td>\n",
       "      <td>G2</td>\n",
       "    </tr>\n",
       "    <tr>\n",
       "      <th>2</th>\n",
       "      <td>SRR5122741.10000000</td>\n",
       "      <td>4</td>\n",
       "      <td>121573519</td>\n",
       "      <td>UA</td>\n",
       "      <td>4</td>\n",
       "      <td>27554451</td>\n",
       "      <td>UA</td>\n",
       "    </tr>\n",
       "    <tr>\n",
       "      <th>3</th>\n",
       "      <td>SRR5122741.10000003</td>\n",
       "      <td>X</td>\n",
       "      <td>159654814</td>\n",
       "      <td>UA</td>\n",
       "      <td>X</td>\n",
       "      <td>97735573</td>\n",
       "      <td>G1</td>\n",
       "    </tr>\n",
       "    <tr>\n",
       "      <th>4</th>\n",
       "      <td>SRR5122741.10000004</td>\n",
       "      <td>5</td>\n",
       "      <td>50751463</td>\n",
       "      <td>UA</td>\n",
       "      <td>5</td>\n",
       "      <td>70088050</td>\n",
       "      <td>G1</td>\n",
       "    </tr>\n",
       "  </tbody>\n",
       "</table>\n",
       "</div>"
      ],
      "text/plain": [
       "             read_name chrom1       pos1 hp1 chrom2       pos2 hp2\n",
       "0      SRR5122741.1000      7   56869833  G1      7   56893276  UA\n",
       "1   SRR5122741.1000000      3  110839538  UA      3  123790652  G2\n",
       "2  SRR5122741.10000000      4  121573519  UA      4   27554451  UA\n",
       "3  SRR5122741.10000003      X  159654814  UA      X   97735573  G1\n",
       "4  SRR5122741.10000004      5   50751463  UA      5   70088050  G1"
      ]
     },
     "execution_count": 6,
     "metadata": {},
     "output_type": "execute_result"
    }
   ],
   "source": [
    "import os\n",
    "if os.path.isfile(hic_pair):\n",
    "    print(\"Hic pair-wise contact file exists\")\n",
    "    hic=pd.read_csv(hic_pair,header=None,sep='\\t',names=['read_name','chrom1','pos1','hp1','chrom2','pos2','hp2'])\n",
    "else:\n",
    "    print(\"Hic pair-wise contact file does not exist\")\n",
    "    hicraw=pd.read_csv(hic_list,header=None,sep='\\t',names=['read_name','chrom','pos','hp'])\n",
    "    hicraw=hicraw.astype(str)\n",
    "    hicraw = hicraw.sort_values(by=[\"read_name\", \"chrom\", \"pos\"])\n",
    "\n",
    "    # generate hic contact matrix \n",
    "    l_df = hicraw.drop_duplicates(subset='read_name', keep='first') # \n",
    "    r_df = hicraw.drop_duplicates(subset='read_name', keep='last') #\n",
    "    hic = pd.merge(l_df, r_df, on='read_name', suffixes=('1', '2'))\n",
    "    hic.to_csv(hic_pair, header=False, index=False, sep=\"\\t\") # Export to file\n",
    "    \n",
    "hic.head()"
   ]
  },
  {
   "cell_type": "code",
   "execution_count": 7,
   "id": "fa0ca2c1",
   "metadata": {
    "ExecuteTime": {
     "end_time": "2023-08-22T07:26:45.921118Z",
     "start_time": "2023-08-22T07:26:12.839339Z"
    },
    "scrolled": true
   },
   "outputs": [
    {
     "data": {
      "text/html": [
       "<div>\n",
       "<style scoped>\n",
       "    .dataframe tbody tr th:only-of-type {\n",
       "        vertical-align: middle;\n",
       "    }\n",
       "\n",
       "    .dataframe tbody tr th {\n",
       "        vertical-align: top;\n",
       "    }\n",
       "\n",
       "    .dataframe thead th {\n",
       "        text-align: right;\n",
       "    }\n",
       "</style>\n",
       "<table border=\"1\" class=\"dataframe\">\n",
       "  <thead>\n",
       "    <tr style=\"text-align: right;\">\n",
       "      <th></th>\n",
       "      <th>read_name</th>\n",
       "      <th>chrom1</th>\n",
       "      <th>pos1</th>\n",
       "      <th>hp1</th>\n",
       "      <th>chrom2</th>\n",
       "      <th>pos2</th>\n",
       "      <th>hp2</th>\n",
       "      <th>chrom_type</th>\n",
       "      <th>phase_type</th>\n",
       "      <th>contact_type</th>\n",
       "      <th>distance</th>\n",
       "    </tr>\n",
       "  </thead>\n",
       "  <tbody>\n",
       "    <tr>\n",
       "      <th>0</th>\n",
       "      <td>SRR5122741.1000</td>\n",
       "      <td>7</td>\n",
       "      <td>56869833</td>\n",
       "      <td>G1</td>\n",
       "      <td>7</td>\n",
       "      <td>56893276</td>\n",
       "      <td>UA</td>\n",
       "      <td>intra</td>\n",
       "      <td>one</td>\n",
       "      <td>unknown</td>\n",
       "      <td>-1</td>\n",
       "    </tr>\n",
       "    <tr>\n",
       "      <th>1</th>\n",
       "      <td>SRR5122741.1000000</td>\n",
       "      <td>3</td>\n",
       "      <td>110839538</td>\n",
       "      <td>UA</td>\n",
       "      <td>3</td>\n",
       "      <td>123790652</td>\n",
       "      <td>G2</td>\n",
       "      <td>intra</td>\n",
       "      <td>one</td>\n",
       "      <td>unknown</td>\n",
       "      <td>-1</td>\n",
       "    </tr>\n",
       "    <tr>\n",
       "      <th>2</th>\n",
       "      <td>SRR5122741.10000000</td>\n",
       "      <td>4</td>\n",
       "      <td>121573519</td>\n",
       "      <td>UA</td>\n",
       "      <td>4</td>\n",
       "      <td>27554451</td>\n",
       "      <td>UA</td>\n",
       "      <td>intra</td>\n",
       "      <td>none</td>\n",
       "      <td>unknown</td>\n",
       "      <td>-1</td>\n",
       "    </tr>\n",
       "    <tr>\n",
       "      <th>3</th>\n",
       "      <td>SRR5122741.10000003</td>\n",
       "      <td>X</td>\n",
       "      <td>159654814</td>\n",
       "      <td>UA</td>\n",
       "      <td>X</td>\n",
       "      <td>97735573</td>\n",
       "      <td>G1</td>\n",
       "      <td>intra</td>\n",
       "      <td>one</td>\n",
       "      <td>unknown</td>\n",
       "      <td>-1</td>\n",
       "    </tr>\n",
       "    <tr>\n",
       "      <th>4</th>\n",
       "      <td>SRR5122741.10000004</td>\n",
       "      <td>5</td>\n",
       "      <td>50751463</td>\n",
       "      <td>UA</td>\n",
       "      <td>5</td>\n",
       "      <td>70088050</td>\n",
       "      <td>G1</td>\n",
       "      <td>intra</td>\n",
       "      <td>one</td>\n",
       "      <td>unknown</td>\n",
       "      <td>-1</td>\n",
       "    </tr>\n",
       "    <tr>\n",
       "      <th>...</th>\n",
       "      <td>...</td>\n",
       "      <td>...</td>\n",
       "      <td>...</td>\n",
       "      <td>...</td>\n",
       "      <td>...</td>\n",
       "      <td>...</td>\n",
       "      <td>...</td>\n",
       "      <td>...</td>\n",
       "      <td>...</td>\n",
       "      <td>...</td>\n",
       "      <td>...</td>\n",
       "    </tr>\n",
       "    <tr>\n",
       "      <th>50426084</th>\n",
       "      <td>SRR5122742.9999994</td>\n",
       "      <td>9</td>\n",
       "      <td>117382808</td>\n",
       "      <td>G1</td>\n",
       "      <td>9</td>\n",
       "      <td>118101933</td>\n",
       "      <td>G1</td>\n",
       "      <td>intra</td>\n",
       "      <td>two</td>\n",
       "      <td>cis</td>\n",
       "      <td>719125</td>\n",
       "    </tr>\n",
       "    <tr>\n",
       "      <th>50426085</th>\n",
       "      <td>SRR5122742.9999995</td>\n",
       "      <td>6</td>\n",
       "      <td>100562309</td>\n",
       "      <td>UA</td>\n",
       "      <td>6</td>\n",
       "      <td>100656277</td>\n",
       "      <td>UA</td>\n",
       "      <td>intra</td>\n",
       "      <td>none</td>\n",
       "      <td>unknown</td>\n",
       "      <td>-1</td>\n",
       "    </tr>\n",
       "    <tr>\n",
       "      <th>50426086</th>\n",
       "      <td>SRR5122742.9999996</td>\n",
       "      <td>13</td>\n",
       "      <td>54555593</td>\n",
       "      <td>G1</td>\n",
       "      <td>13</td>\n",
       "      <td>54571458</td>\n",
       "      <td>UA</td>\n",
       "      <td>intra</td>\n",
       "      <td>one</td>\n",
       "      <td>unknown</td>\n",
       "      <td>-1</td>\n",
       "    </tr>\n",
       "    <tr>\n",
       "      <th>50426087</th>\n",
       "      <td>SRR5122742.9999997</td>\n",
       "      <td>13</td>\n",
       "      <td>75835309</td>\n",
       "      <td>UA</td>\n",
       "      <td>13</td>\n",
       "      <td>76248714</td>\n",
       "      <td>UA</td>\n",
       "      <td>intra</td>\n",
       "      <td>none</td>\n",
       "      <td>unknown</td>\n",
       "      <td>-1</td>\n",
       "    </tr>\n",
       "    <tr>\n",
       "      <th>50426088</th>\n",
       "      <td>SRR5122742.9999999</td>\n",
       "      <td>1</td>\n",
       "      <td>78321899</td>\n",
       "      <td>UA</td>\n",
       "      <td>15</td>\n",
       "      <td>32932892</td>\n",
       "      <td>G1</td>\n",
       "      <td>inter</td>\n",
       "      <td>one</td>\n",
       "      <td>unknown</td>\n",
       "      <td>-1</td>\n",
       "    </tr>\n",
       "  </tbody>\n",
       "</table>\n",
       "<p>50426089 rows × 11 columns</p>\n",
       "</div>"
      ],
      "text/plain": [
       "                    read_name chrom1       pos1 hp1 chrom2       pos2 hp2  \\\n",
       "0             SRR5122741.1000      7   56869833  G1      7   56893276  UA   \n",
       "1          SRR5122741.1000000      3  110839538  UA      3  123790652  G2   \n",
       "2         SRR5122741.10000000      4  121573519  UA      4   27554451  UA   \n",
       "3         SRR5122741.10000003      X  159654814  UA      X   97735573  G1   \n",
       "4         SRR5122741.10000004      5   50751463  UA      5   70088050  G1   \n",
       "...                       ...    ...        ...  ..    ...        ...  ..   \n",
       "50426084   SRR5122742.9999994      9  117382808  G1      9  118101933  G1   \n",
       "50426085   SRR5122742.9999995      6  100562309  UA      6  100656277  UA   \n",
       "50426086   SRR5122742.9999996     13   54555593  G1     13   54571458  UA   \n",
       "50426087   SRR5122742.9999997     13   75835309  UA     13   76248714  UA   \n",
       "50426088   SRR5122742.9999999      1   78321899  UA     15   32932892  G1   \n",
       "\n",
       "         chrom_type phase_type contact_type  distance  \n",
       "0             intra        one      unknown        -1  \n",
       "1             intra        one      unknown        -1  \n",
       "2             intra       none      unknown        -1  \n",
       "3             intra        one      unknown        -1  \n",
       "4             intra        one      unknown        -1  \n",
       "...             ...        ...          ...       ...  \n",
       "50426084      intra        two          cis    719125  \n",
       "50426085      intra       none      unknown        -1  \n",
       "50426086      intra        one      unknown        -1  \n",
       "50426087      intra       none      unknown        -1  \n",
       "50426088      inter        one      unknown        -1  \n",
       "\n",
       "[50426089 rows x 11 columns]"
      ]
     },
     "execution_count": 7,
     "metadata": {},
     "output_type": "execute_result"
    }
   ],
   "source": [
    "#chrom_type\n",
    "hic[\"chrom_type\"] = \"inter\"\n",
    "P = hic.chrom1 == hic.chrom2\n",
    "hic.loc[P, \"chrom_type\"] = \"intra\"\n",
    "\n",
    "# phase_type\n",
    "hic[\"phase_type\"] = \"one\"\n",
    "P1 = (hic.hp1==\"UA\") & (hic.hp2==\"UA\")\n",
    "hic.loc[P1, \"phase_type\"] = \"none\"\n",
    "P2 = (hic.hp1!=\"UA\") & (hic.hp2!=\"UA\")\n",
    "hic.loc[P2, \"phase_type\"] = \"two\"\n",
    "\n",
    "# contact_type\n",
    "hic[\"contact_type\"] = \"unknown\"\n",
    "P = hic.phase_type == \"two\"\n",
    "P1 = hic.chrom_type == \"inter\"\n",
    "hic.loc[P&P1, \"contact_type\"] = \"trans\"\n",
    "P2 = hic.hp1 == hic.hp2\n",
    "hic.loc[P&P2&(~P1), \"contact_type\"] = \"cis\"\n",
    "P3 = hic.hp1 != hic.hp2\n",
    "hic.loc[P&P3&(~P1), \"contact_type\"] = \"htrans\"\n",
    "\n",
    "# distance\n",
    "hic[\"distance\"] = -1\n",
    "P = (hic.contact_type==\"htrans\") | ( hic.contact_type == \"cis\")\n",
    "hic.loc[P, \"distance\"] = ( hic.loc[P, \"pos1\"].astype(int) - hic.loc[P, \"pos2\"].astype(int) ).abs()\n",
    "hic"
   ]
  },
  {
   "cell_type": "code",
   "execution_count": 11,
   "id": "c1f500b1",
   "metadata": {
    "ExecuteTime": {
     "end_time": "2023-08-22T07:41:47.241101Z",
     "start_time": "2023-08-22T07:41:29.263084Z"
    }
   },
   "outputs": [],
   "source": [
    "# ## Fig. xx: hybrid mouse Hi-C characteristic\n",
    "### chrom_type\n",
    "intra=hic.chrom_type.value_counts()['intra']/len(hic)*100\n",
    "inter=hic.chrom_type.value_counts()['inter']/len(hic)*100\n",
    "\n",
    "# sizes=[intra,inter]\n",
    "# labels=['Intra-chromosome','Inter-chromosome']\n",
    "# colors=['#8ECFC9','#ff8884']\n",
    "# explode = (0.05, 0)\n",
    "# fig, ax = plt.subplots(figsize=(4,4))\n",
    "# ax.pie(sizes, labels=labels, autopct='%1.2f%%',startangle=125,colors=colors,explode=explode)\n",
    "\n",
    "# fign=out_dir+'/Hi-C.chrom_type.pdf'\n",
    "# fig.savefig(fign,dpi=300,bbox_inches = 'tight')\n",
    "\n",
    "### phase_type\n",
    "intra_hic=hic.loc[hic.chrom_type=='intra']\n",
    "# one=intra_hic.phase_type.value_counts()['one']/len(intra_hic)*100\n",
    "# two=intra_hic.phase_type.value_counts()['two']/len(intra_hic)*100\n",
    "# none=intra_hic.phase_type.value_counts()['none']/len(intra_hic)*100\n",
    "\n",
    "# sizes=[none,one,two]\n",
    "# labels=['Unphased','One-end','Two-end']\n",
    "# colors=sns.color_palette('Blues', 3)\n",
    "# explode = (0, 0, 0.05)\n",
    "# fig, ax = plt.subplots(figsize=(4,4))\n",
    "# ax.pie(sizes, labels=labels, autopct='%1.2f%%',startangle=45,colors=colors,explode=explode)\n",
    "\n",
    "# fign=out_dir+'/Hi-C.intra_phase_type.pdf'\n",
    "# fig.savefig(fign,dpi=300,bbox_inches = 'tight')\n",
    "\n",
    "### contact_type\n",
    "phase_hic=intra_hic.loc[intra_hic.contact_type!='unknown']\n",
    "cis=phase_hic.contact_type.value_counts()['cis']/len(phase_hic)*100\n",
    "htrans=phase_hic.contact_type.value_counts()['htrans']/len(phase_hic)*100\n",
    "\n",
    "# sizes=[cis,htrans]\n",
    "# labels=['Cis','H-trans']\n",
    "# colors=['#FFBE7A','#9E9E9E']\n",
    "# explode = (0.05, 0)\n",
    "# fig, ax = plt.subplots(figsize=(4,4))\n",
    "# ax.pie(sizes, labels=labels, autopct='%1.2f%%',startangle=93,colors=colors,explode=explode)\n",
    "\n",
    "# fign=out_dir+'/Hi-C.intra_phase_contact_type.pdf'\n",
    "# fig.savefig(fign,dpi=300,bbox_inches = 'tight')"
   ]
  },
  {
   "cell_type": "code",
   "execution_count": 9,
   "id": "0bdfe17b",
   "metadata": {
    "ExecuteTime": {
     "end_time": "2023-08-22T07:27:08.406608Z",
     "start_time": "2023-08-22T07:27:08.385501Z"
    }
   },
   "outputs": [],
   "source": [
    "def add_flatten_lists(the_lists):\n",
    "    result = []\n",
    "    for _list in the_lists:\n",
    "        result += _list\n",
    "    return result\n",
    "\n",
    "def stats_Hap(df):\n",
    "    df=df.loc[df.hp!=0,]\n",
    "    df=df.sort_values(['rid','pos']).reset_index(drop=True)\n",
    "    statsdf=df.groupby('rid')['pos'].apply(list).reset_index()\n",
    "    statsdf['hp']=df.groupby('rid')['hp'].apply(list).reset_index()['hp']\n",
    "    statsdf['fnum']=statsdf['pos'].apply(lambda x: len(x))\n",
    "    statsdf=statsdf.loc[statsdf.fnum>1,]\n",
    "\n",
    "    statsdf['isize']=statsdf.pos.apply(lambda x: [abs(i[0]-i[1]) for i in list(combinations(x,2))])\n",
    "    statsdf['ihp']=statsdf.hp.apply(lambda x: [i[0]+i[1] for i in list(combinations(x,2))])\n",
    "    statsdf['ihp']=statsdf.ihp.apply(lambda x: ['h' if i==3 else 'c' for i in x])\n",
    "\n",
    "    statsdf['fid']=df.groupby('rid')['fid'].apply(list).reset_index()['fid']\n",
    "    statsdf['adj']=statsdf.fid.apply(lambda x: ['a' if abs(i[0]-i[1])==1 else 'u' for i in list(combinations(x,2)) ])\n",
    "    \n",
    "    isize=add_flatten_lists(statsdf.isize)\n",
    "    ihp=add_flatten_lists(statsdf.ihp)\n",
    "    adj=add_flatten_lists(statsdf.adj)\n",
    "\n",
    "    sdf=pd.DataFrame({'isize':isize,'ihp':ihp,'adj':adj})\n",
    "    return sdf\n",
    "\n",
    "def cal_htrans(sdf,min_freq=10,binsize=10**5,plotx=10**6,lowess_frac=0.05):\n",
    "    sdf['bin_isize']=sdf.isize.apply(lambda x: round(x/binsize)*binsize)\n",
    "    sdf=sdf.groupby(['bin_isize','ihp'])['isize'].count().reset_index()\n",
    "    sdf.columns=['bin_isize','interaction','freq']\n",
    "    sdf=sdf.sort_values(['bin_isize','interaction']).reset_index(drop=True)\n",
    "\n",
    "    hdf=sdf.groupby('bin_isize')['interaction'].apply(list).reset_index()\n",
    "    hdf['freq']=sdf.groupby('bin_isize')['freq'].apply(list).reset_index()['freq']\n",
    "    hdf['total_freq']=hdf.freq.apply(lambda x: sum(x))\n",
    "    hdf=hdf.loc[hdf.total_freq>=min_freq,]\n",
    "    hdf['itype']=hdf.interaction.apply(lambda x: 'b' if len(x)==2 else x[0])\n",
    "    hdf['hratio']=hdf.apply(lambda x: x.freq[1]/(x.total_freq)*100 if x.itype=='b' else 0 if x.itype=='c' else 100,axis=1)\n",
    "    hdf['bin_isize']=hdf.bin_isize/plotx\n",
    "    \n",
    "    hdf['lowess_hratio'] = lowess(hdf['hratio'],hdf['bin_isize'],frac=lowess_frac)[:,1]\n",
    "    return hdf"
   ]
  },
  {
   "cell_type": "code",
   "execution_count": 12,
   "id": "53ff1b44",
   "metadata": {
    "ExecuteTime": {
     "end_time": "2023-08-22T07:44:23.306636Z",
     "start_time": "2023-08-22T07:44:19.284830Z"
    }
   },
   "outputs": [
    {
     "data": {
      "image/png": "[encoded data removed]",
      "text/plain": [
       "<Figure size 300x300 with 1 Axes>"
      ]
     },
     "metadata": {},
     "output_type": "display_data"
    }
   ],
   "source": [
    "## Fig. 3B: H-trans varies with pairwise distance\n",
    "### Pore-C Total\n",
    "fhap=pd.read_csv(fhap_list,header=None,sep='\\t',names=['rid','fid','cid','pos','hp'])\n",
    "sdf=stats_Hap(fhap)\n",
    "hdf=cal_htrans(sdf,lowess_frac=0.2)\n",
    "total_hdf=hdf.copy()\n",
    "\n",
    "### Pore-C Adjacent\n",
    "#hdf=cal_htrans(sdf.loc[sdf.adj=='a'],lowess_frac=0.2)\n",
    "#adj_hdf=hdf.copy()\n",
    "\n",
    "### Hi-C\n",
    "sdf=phase_hic[['distance','contact_type']]\n",
    "sdf.columns=['isize','ihp']\n",
    "hdf=cal_htrans(sdf,lowess_frac=0.2)\n",
    "hic_hdf=hdf.copy()\n",
    "\n",
    "disthred = 130\n",
    "total_hdf = total_hdf.loc[total_hdf.bin_isize<=disthred, :]\n",
    "hic_hdf = hic_hdf.loc[hic_hdf.bin_isize<=disthred, :]\n",
    "\n",
    "\n",
    "plt.figure(figsize = (3,3)) \n",
    "plt.plot(total_hdf['bin_isize'],total_hdf['lowess_hratio'],color='r')\n",
    "#plt.plot(adj_hdf['bin_isize'],adj_hdf['lowess_hratio'],color='g')\n",
    "plt.plot(hic_hdf['bin_isize'],hic_hdf['lowess_hratio'],color='k')\n",
    "#plt.legend(['Total','Adjacent','Hi-C'],frameon=False)\n",
    "plt.legend(['Pore-C','Hi-C'],frameon=False)\n",
    "\n",
    "plt.plot([0,130],[5,5],color='grey',linestyle='--',linewidth=1)\n",
    "plt.plot([60,60],[0,5],color='grey',linestyle='--',linewidth=1)\n",
    "#plt.plot([70,70],[0,5],color='grey',linestyle='--',linewidth=1)\n",
    "plt.plot([95,95],[0,5],color='grey',linestyle='--',linewidth=1)\n",
    "\n",
    "plt.xlim(-1,130)\n",
    "plt.ylim(0,13)\n",
    "plt.xlabel('Inferred insert size (Mb)')\n",
    "plt.ylabel('H-trans interaction probabilities (%)')\n",
    "\n",
    "fign=out_dir+'/mouse_H-trans_threshold.pdf'\n",
    "plt.savefig(fign,dpi=300,bbox_inches = 'tight')"
   ]
  },
  {
   "cell_type": "code",
   "execution_count": 13,
   "id": "c7555a70",
   "metadata": {
    "ExecuteTime": {
     "end_time": "2023-08-22T07:44:32.977748Z",
     "start_time": "2023-08-22T07:44:32.332984Z"
    }
   },
   "outputs": [
    {
     "data": {
      "text/plain": [
       "0.6235671293227067"
      ]
     },
     "execution_count": 13,
     "metadata": {},
     "output_type": "execute_result"
    }
   ],
   "source": [
    "P = fhap.hp != 0\n",
    "sum(P) / len(fhap)"
   ]
  },
  {
   "cell_type": "code",
   "execution_count": 18,
   "id": "51d1738b",
   "metadata": {
    "ExecuteTime": {
     "end_time": "2023-08-22T07:55:39.412321Z",
     "start_time": "2023-08-22T07:55:25.510496Z"
    }
   },
   "outputs": [
    {
     "name": "stdout",
     "output_type": "stream",
     "text": [
      "25.651714809116015 60.857735979618155\n",
      "95.23462071083182\n",
      "8.003612340917014 18.988271558112128\n",
      "95.4632264099466\n"
     ]
    }
   ],
   "source": [
    "## Description of multi-way reads\n",
    "### read-level phasing stats\n",
    "df=fhap.groupby('rid')['hp'].apply(list).reset_index()\n",
    "df['h1']=df.hp.apply(lambda x: x.count(1) if 1 in x else 0)\n",
    "df['h2']=df.hp.apply(lambda x: x.count(2) if 2 in x else 0)\n",
    "df['un']=df.hp.apply(lambda x: x.count(0) if 0 in x else 0)\n",
    "df['hp']=df['h1']+df['h2']\n",
    "df['fc']=df['hp']+df['un']\n",
    "df['mod_fc']=df.fc.apply(lambda x: x if x<=10 else 10)\n",
    "df['ratio']=df.apply(lambda x: round(x.hp/x.fc*100,2),axis=1)\n",
    "### multi-way reads with multiple phased fragments\n",
    "multi_phase_df=df.loc[df.hp>=3]\n",
    "multi_phase_all=len(multi_phase_df)/len(df)*100\n",
    "multi_phase_multi=len(multi_phase_df)/sum(df.fc>=3)*100\n",
    "print(multi_phase_all,multi_phase_multi)\n",
    "\n",
    "multi_phase_df['phase_type']=multi_phase_df.apply(lambda x: 'hetero' if x.h1>0 and x.h2>0 else 'homo',axis=1)\n",
    "multi_phase_homo=multi_phase_df.phase_type.value_counts()['homo']/len(multi_phase_df)*100\n",
    "print(multi_phase_homo)\n",
    "\n",
    "multi_phase_df['hp_fold']=multi_phase_df.apply(lambda x: 0 if x.phase_type=='homo' else max(x.h1,x.h2)/min(x.h1,x.h2),axis=1)\n",
    "\n",
    "## multi-way reads with multiple phased fragments, complete phased reads only\n",
    "com_multi_phase_df=multi_phase_df.loc[multi_phase_df.ratio==100]\n",
    "com_multi_phase_all=len(com_multi_phase_df)/len(df)*100\n",
    "com_multi_phase_multi=len(com_multi_phase_df)/sum(df.fc>=3)*100\n",
    "print(com_multi_phase_all,com_multi_phase_multi)\n",
    "\n",
    "com_multi_phase_homo=com_multi_phase_df.phase_type.value_counts()['homo']/len(com_multi_phase_df)*100\n",
    "print(com_multi_phase_homo)"
   ]
  },
  {
   "cell_type": "code",
   "execution_count": 22,
   "id": "0d244418",
   "metadata": {
    "ExecuteTime": {
     "end_time": "2023-08-20T14:39:46.074321Z",
     "start_time": "2023-08-20T14:39:45.174977Z"
    }
   },
   "outputs": [
    {
     "name": "stdout",
     "output_type": "stream",
     "text": [
      "Fragment_count\n",
      "1     39.991234\n",
      "2     17.858471\n",
      "3     13.296487\n",
      "4     10.038908\n",
      "5      6.959449\n",
      "6      4.553718\n",
      "7      2.852517\n",
      "8      1.767528\n",
      "9      1.077892\n",
      "10     1.603795\n",
      "Name: Phased_Frag_propotion, dtype: float64\n"
     ]
    },
    {
     "data": {
      "image/png": "[encoded data removed]",
      "text/plain": [
       "<Figure size 300x300 with 2 Axes>"
      ]
     },
     "metadata": {},
     "output_type": "display_data"
    }
   ],
   "source": [
    "## Fig. 3C: Mouse Ratio of phased fragments\n",
    "### read-level phasing stats\n",
    "from scipy import stats\n",
    "plotdf =  pd.DataFrame({\n",
    "    'Fragment_count': df.mod_fc.values,\n",
    "    'Phased_Frag_propotion': df.ratio.values})\n",
    "#print(plotdf)\n",
    "# Calculate means and standard deviations\n",
    "grouped = plotdf.groupby('Fragment_count')['Phased_Frag_propotion']\n",
    "means = grouped.mean()\n",
    "stds = grouped.std()\n",
    "sems = grouped.apply(stats.sem)\n",
    "lower = grouped.apply(lambda x: stats.t.interval(0.95, len(x) -1, loc=np.mean(x), scale=stats.sem(x) )[0] )\n",
    "CIs = means - lower\n",
    "#print(sems, CIs)\n",
    "\n",
    "# Calculate counts\n",
    "counts = grouped.count() \n",
    "cPercent = 100*counts / len(plotdf)\n",
    "print(cPercent)\n",
    "# Create a new figure with subplots\n",
    "fig, axs = plt.subplots(2, 1, figsize=(3, 3), sharex=True, gridspec_kw={'height_ratios': [2, 4]})\n",
    "fig.subplots_adjust(hspace=0.1)  # Reduce space between plots\n",
    "\n",
    "# Plot counts as a bar plot on the top subplot\n",
    "axs[0].bar(range(len(counts) ), cPercent, color='grey', alpha=0.5)\n",
    "axs[0].set_ylabel('Read \\npercentage (%)')\n",
    "axs[0].set_ylim([0, 50])\n",
    "\n",
    "# Plot means\n",
    "axs[1].bar(range(len(means)), means.values, yerr=CIs, capsize=5, color='orange')\n",
    "axs[1].plot(range(len(means)), means.values, \"-\",color='k')\n",
    "# # Fill the area between mean + std and mean - std\n",
    "# axs[1].fill_between(range(len(means)), means - stds, means + stds, color='blue', alpha=0.2)\n",
    "#axs[1].set_ylim([0, 30])\n",
    "axs[1].set_ylabel('Phased fragements \\nin reads (%)')\n",
    "\n",
    "\n",
    "plt.xticks(range(0,10), means.index)  # Set x-ticks to be group names\n",
    "#plt.title('Mean ± std value curve for each group with counts')\n",
    "plt.xlabel(\"The number of fragment in reads\")\n",
    "#plt.show()\n",
    "fig=out_dir+'/Mouse_Ratio_of_phased_fragments_0629.pdf'\n",
    "plt.savefig(fig,dpi=300,bbox_inches = 'tight')"
   ]
  },
  {
   "cell_type": "code",
   "execution_count": 15,
   "id": "f74a0449",
   "metadata": {
    "ExecuteTime": {
     "end_time": "2023-08-22T07:49:52.984062Z",
     "start_time": "2023-08-22T07:49:52.980507Z"
    }
   },
   "outputs": [],
   "source": [
    "# ## Description of multi-way reads\n",
    "# ### read-level phasing stats\n",
    "# df=fhap.groupby('rid')['hp'].apply(list).reset_index()\n",
    "# df['h1']=df.hp.apply(lambda x: x.count(1) if 1 in x else 0)\n",
    "# df['h2']=df.hp.apply(lambda x: x.count(2) if 2 in x else 0)\n",
    "# df['un']=df.hp.apply(lambda x: x.count(0) if 0 in x else 0)\n",
    "# df['hp']=df['h1']+df['h2']\n",
    "# df['fc']=df['hp']+df['un']\n",
    "# df['mod_fc']=df.fc.apply(lambda x: x if x<=10 else 10)\n",
    "# df['ratio']=df.apply(lambda x: round(x.hp/x.fc*100,2),axis=1)\n",
    "# ### multi-way reads with multiple phased fragments\n",
    "# multi_phase_df=df.loc[df.hp>=3]\n",
    "# multi_phase_all=len(multi_phase_df)/len(df)*100\n",
    "# multi_phase_multi=len(multi_phase_df)/sum(df.fc>=3)*100\n",
    "# print(multi_phase_all,multi_phase_multi)\n",
    "\n",
    "# multi_phase_df['phase_type']=multi_phase_df.apply(lambda x: 'hetero' if x.h1>0 and x.h2>0 else 'homo',axis=1)\n",
    "# multi_phase_homo=multi_phase_df.phase_type.value_counts()['homo']/len(multi_phase_df)*100\n",
    "# print(multi_phase_homo)\n",
    "\n",
    "# multi_phase_df['hp_fold']=multi_phase_df.apply(lambda x: 0 if x.phase_type=='homo' else max(x.h1,x.h2)/min(x.h1,x.h2),axis=1)\n",
    "\n",
    "# ### multi-way reads with multiple phased fragments, complete phased reads only\n",
    "# com_multi_phase_df=multi_phase_df.loc[multi_phase_df.ratio==100]\n",
    "# com_multi_phase_all=len(com_multi_phase_df)/len(df)*100\n",
    "# com_multi_phase_multi=len(com_multi_phase_df)/sum(df.fc>=3)*100\n",
    "# print(com_multi_phase_all,com_multi_phase_multi)\n",
    "\n",
    "# com_multi_phase_homo=com_multi_phase_df.phase_type.value_counts()['homo']/len(com_multi_phase_df)*100\n",
    "# print(com_multi_phase_homo)"
   ]
  },
  {
   "cell_type": "code",
   "execution_count": 16,
   "id": "11bfa2be",
   "metadata": {
    "ExecuteTime": {
     "end_time": "2023-08-22T07:54:41.409156Z",
     "start_time": "2023-08-22T07:54:41.388472Z"
    }
   },
   "outputs": [
    {
     "data": {
      "text/html": [
       "<div>\n",
       "<style scoped>\n",
       "    .dataframe tbody tr th:only-of-type {\n",
       "        vertical-align: middle;\n",
       "    }\n",
       "\n",
       "    .dataframe tbody tr th {\n",
       "        vertical-align: top;\n",
       "    }\n",
       "\n",
       "    .dataframe thead th {\n",
       "        text-align: right;\n",
       "    }\n",
       "</style>\n",
       "<table border=\"1\" class=\"dataframe\">\n",
       "  <thead>\n",
       "    <tr style=\"text-align: right;\">\n",
       "      <th></th>\n",
       "      <th>rid</th>\n",
       "      <th>hp</th>\n",
       "      <th>h1</th>\n",
       "      <th>h2</th>\n",
       "      <th>un</th>\n",
       "      <th>fc</th>\n",
       "      <th>mod_fc</th>\n",
       "      <th>ratio</th>\n",
       "    </tr>\n",
       "  </thead>\n",
       "  <tbody>\n",
       "    <tr>\n",
       "      <th>0</th>\n",
       "      <td>8</td>\n",
       "      <td>2</td>\n",
       "      <td>2</td>\n",
       "      <td>0</td>\n",
       "      <td>1</td>\n",
       "      <td>3</td>\n",
       "      <td>3</td>\n",
       "      <td>66.67</td>\n",
       "    </tr>\n",
       "    <tr>\n",
       "      <th>1</th>\n",
       "      <td>25</td>\n",
       "      <td>2</td>\n",
       "      <td>2</td>\n",
       "      <td>0</td>\n",
       "      <td>1</td>\n",
       "      <td>3</td>\n",
       "      <td>3</td>\n",
       "      <td>66.67</td>\n",
       "    </tr>\n",
       "    <tr>\n",
       "      <th>2</th>\n",
       "      <td>27</td>\n",
       "      <td>1</td>\n",
       "      <td>0</td>\n",
       "      <td>1</td>\n",
       "      <td>4</td>\n",
       "      <td>5</td>\n",
       "      <td>5</td>\n",
       "      <td>20.00</td>\n",
       "    </tr>\n",
       "    <tr>\n",
       "      <th>3</th>\n",
       "      <td>31</td>\n",
       "      <td>0</td>\n",
       "      <td>0</td>\n",
       "      <td>0</td>\n",
       "      <td>1</td>\n",
       "      <td>1</td>\n",
       "      <td>1</td>\n",
       "      <td>0.00</td>\n",
       "    </tr>\n",
       "    <tr>\n",
       "      <th>4</th>\n",
       "      <td>45</td>\n",
       "      <td>1</td>\n",
       "      <td>0</td>\n",
       "      <td>1</td>\n",
       "      <td>0</td>\n",
       "      <td>1</td>\n",
       "      <td>1</td>\n",
       "      <td>100.00</td>\n",
       "    </tr>\n",
       "    <tr>\n",
       "      <th>...</th>\n",
       "      <td>...</td>\n",
       "      <td>...</td>\n",
       "      <td>...</td>\n",
       "      <td>...</td>\n",
       "      <td>...</td>\n",
       "      <td>...</td>\n",
       "      <td>...</td>\n",
       "      <td>...</td>\n",
       "    </tr>\n",
       "    <tr>\n",
       "      <th>2564537</th>\n",
       "      <td>19180091</td>\n",
       "      <td>5</td>\n",
       "      <td>0</td>\n",
       "      <td>5</td>\n",
       "      <td>2</td>\n",
       "      <td>7</td>\n",
       "      <td>7</td>\n",
       "      <td>71.43</td>\n",
       "    </tr>\n",
       "    <tr>\n",
       "      <th>2564538</th>\n",
       "      <td>19180098</td>\n",
       "      <td>2</td>\n",
       "      <td>2</td>\n",
       "      <td>0</td>\n",
       "      <td>1</td>\n",
       "      <td>3</td>\n",
       "      <td>3</td>\n",
       "      <td>66.67</td>\n",
       "    </tr>\n",
       "    <tr>\n",
       "      <th>2564539</th>\n",
       "      <td>19180104</td>\n",
       "      <td>0</td>\n",
       "      <td>0</td>\n",
       "      <td>0</td>\n",
       "      <td>1</td>\n",
       "      <td>1</td>\n",
       "      <td>1</td>\n",
       "      <td>0.00</td>\n",
       "    </tr>\n",
       "    <tr>\n",
       "      <th>2564540</th>\n",
       "      <td>19180110</td>\n",
       "      <td>1</td>\n",
       "      <td>1</td>\n",
       "      <td>0</td>\n",
       "      <td>0</td>\n",
       "      <td>1</td>\n",
       "      <td>1</td>\n",
       "      <td>100.00</td>\n",
       "    </tr>\n",
       "    <tr>\n",
       "      <th>2564541</th>\n",
       "      <td>19180138</td>\n",
       "      <td>4</td>\n",
       "      <td>4</td>\n",
       "      <td>0</td>\n",
       "      <td>2</td>\n",
       "      <td>6</td>\n",
       "      <td>6</td>\n",
       "      <td>66.67</td>\n",
       "    </tr>\n",
       "  </tbody>\n",
       "</table>\n",
       "<p>2564542 rows × 8 columns</p>\n",
       "</div>"
      ],
      "text/plain": [
       "              rid  hp  h1  h2  un  fc  mod_fc   ratio\n",
       "0               8   2   2   0   1   3       3   66.67\n",
       "1              25   2   2   0   1   3       3   66.67\n",
       "2              27   1   0   1   4   5       5   20.00\n",
       "3              31   0   0   0   1   1       1    0.00\n",
       "4              45   1   0   1   0   1       1  100.00\n",
       "...           ...  ..  ..  ..  ..  ..     ...     ...\n",
       "2564537  19180091   5   0   5   2   7       7   71.43\n",
       "2564538  19180098   2   2   0   1   3       3   66.67\n",
       "2564539  19180104   0   0   0   1   1       1    0.00\n",
       "2564540  19180110   1   1   0   0   1       1  100.00\n",
       "2564541  19180138   4   4   0   2   6       6   66.67\n",
       "\n",
       "[2564542 rows x 8 columns]"
      ]
     },
     "execution_count": 16,
     "metadata": {},
     "output_type": "execute_result"
    }
   ],
   "source": [
    "df"
   ]
  },
  {
   "cell_type": "code",
   "execution_count": 19,
   "id": "966604c9",
   "metadata": {
    "ExecuteTime": {
     "end_time": "2023-08-22T07:55:43.406502Z",
     "start_time": "2023-08-22T07:55:41.310913Z"
    }
   },
   "outputs": [
    {
     "name": "stdout",
     "output_type": "stream",
     "text": [
      "0.4768492775708099 1.1313071134785497 39.009218794857894\n"
     ]
    }
   ],
   "source": [
    "## Description of h-trans bridge\n",
    "### h-trans bridge: 1..2..1 or 2..1..2\n",
    "hetero_rid=multi_phase_df.loc[multi_phase_df.phase_type=='hetero'][['rid']]\n",
    "hetero_fhap=pd.merge(fhap,hetero_rid)\n",
    "hetero_fhap['hp']=hetero_fhap.hp.astype(str)\n",
    "hetero_rhap=hetero_fhap.loc[hetero_fhap.hp!='0'].sort_values(['rid','fid']).groupby('rid')['hp'].apply(list).reset_index()\n",
    "hetero_rhap['hp']=hetero_rhap.hp.apply(lambda x: ''.join(x))\n",
    "hetero_rhap['htrans_bridge']=hetero_rhap.hp.apply(lambda x: len(re.findall('12+?1',x))+len(re.findall('21+?2',x)))\n",
    "### reads with h-trans bridge\n",
    "htrans_bridge_rnum=len(hetero_rhap)-hetero_rhap.htrans_bridge.value_counts()[0]\n",
    "htrans_bridge_all=htrans_bridge_rnum/len(df)*100\n",
    "htrans_bridge_multi=htrans_bridge_rnum/sum(df.fc>=3)*100\n",
    "htrans_bridge_hetero=htrans_bridge_rnum/len(hetero_rhap)*100\n",
    "print(htrans_bridge_all,htrans_bridge_multi,htrans_bridge_hetero)"
   ]
  },
  {
   "cell_type": "code",
   "execution_count": 20,
   "id": "b274392e",
   "metadata": {
    "ExecuteTime": {
     "end_time": "2023-08-22T07:56:01.117964Z",
     "start_time": "2023-08-22T07:55:45.558387Z"
    }
   },
   "outputs": [
    {
     "name": "stdout",
     "output_type": "stream",
     "text": [
      "1.3404241407118413\n",
      "1.19689665778437\n"
     ]
    }
   ],
   "source": [
    "## Description of fragment with minor hp\n",
    "### fragment with minor hp in complete phased multi-way reads\n",
    "com_multi_phase_df['minor_hp']=com_multi_phase_df.apply(lambda x: min(x.h1,x.h2),axis=1)\n",
    "com_multi_minor_fnum=com_multi_phase_df.minor_hp.sum()\n",
    "com_multi_minor_com=com_multi_minor_fnum/com_multi_phase_df.fc.sum()*100\n",
    "print(com_multi_minor_com)\n",
    "\n",
    "### fragment with minor hp in complete phased reads\n",
    "com_phase_df=df.loc[df.ratio==100]\n",
    "com_phase_df['minor_hp']=com_phase_df.apply(lambda x: min(x.h1,x.h2),axis=1)\n",
    "com_minor_fnum=com_phase_df.minor_hp.sum()\n",
    "com_minor_com=com_minor_fnum/com_phase_df.fc.sum()*100\n",
    "print(com_minor_com)"
   ]
  },
  {
   "cell_type": "code",
   "execution_count": 21,
   "id": "5da9c7d2",
   "metadata": {
    "ExecuteTime": {
     "end_time": "2023-08-22T07:56:01.127437Z",
     "start_time": "2023-08-22T07:56:01.119930Z"
    }
   },
   "outputs": [
    {
     "name": "stdout",
     "output_type": "stream",
     "text": [
      "62.356712932270675\n"
     ]
    }
   ],
   "source": [
    "## Description\n",
    "### ratio of phased fragments\n",
    "phase_fratio=df.hp.sum()/df.fc.sum()*100\n",
    "print(phase_fratio)"
   ]
  },
  {
   "cell_type": "code",
   "execution_count": 22,
   "id": "c49f59e4",
   "metadata": {
    "ExecuteTime": {
     "end_time": "2023-08-22T07:56:08.032802Z",
     "start_time": "2023-08-22T07:56:07.617577Z"
    }
   },
   "outputs": [
    {
     "data": {
      "text/html": [
       "<div>\n",
       "<style scoped>\n",
       "    .dataframe tbody tr th:only-of-type {\n",
       "        vertical-align: middle;\n",
       "    }\n",
       "\n",
       "    .dataframe tbody tr th {\n",
       "        vertical-align: top;\n",
       "    }\n",
       "\n",
       "    .dataframe thead th {\n",
       "        text-align: right;\n",
       "    }\n",
       "</style>\n",
       "<table border=\"1\" class=\"dataframe\">\n",
       "  <thead>\n",
       "    <tr style=\"text-align: right;\">\n",
       "      <th></th>\n",
       "      <th>rid</th>\n",
       "      <th>hp</th>\n",
       "      <th>h1</th>\n",
       "      <th>h2</th>\n",
       "      <th>un</th>\n",
       "      <th>fc</th>\n",
       "      <th>mod_fc</th>\n",
       "      <th>ratio</th>\n",
       "      <th>Tag</th>\n",
       "      <th>HType</th>\n",
       "      <th>HTR</th>\n",
       "    </tr>\n",
       "  </thead>\n",
       "  <tbody>\n",
       "    <tr>\n",
       "      <th>0</th>\n",
       "      <td>8</td>\n",
       "      <td>2</td>\n",
       "      <td>2</td>\n",
       "      <td>0</td>\n",
       "      <td>1</td>\n",
       "      <td>3</td>\n",
       "      <td>3</td>\n",
       "      <td>66.67</td>\n",
       "      <td>Mouse</td>\n",
       "      <td>h1</td>\n",
       "      <td>0</td>\n",
       "    </tr>\n",
       "    <tr>\n",
       "      <th>1</th>\n",
       "      <td>25</td>\n",
       "      <td>2</td>\n",
       "      <td>2</td>\n",
       "      <td>0</td>\n",
       "      <td>1</td>\n",
       "      <td>3</td>\n",
       "      <td>3</td>\n",
       "      <td>66.67</td>\n",
       "      <td>Mouse</td>\n",
       "      <td>h1</td>\n",
       "      <td>0</td>\n",
       "    </tr>\n",
       "    <tr>\n",
       "      <th>2</th>\n",
       "      <td>27</td>\n",
       "      <td>1</td>\n",
       "      <td>0</td>\n",
       "      <td>1</td>\n",
       "      <td>4</td>\n",
       "      <td>5</td>\n",
       "      <td>5</td>\n",
       "      <td>20.00</td>\n",
       "      <td>Mouse</td>\n",
       "      <td>h2</td>\n",
       "      <td>0</td>\n",
       "    </tr>\n",
       "    <tr>\n",
       "      <th>6</th>\n",
       "      <td>56</td>\n",
       "      <td>0</td>\n",
       "      <td>0</td>\n",
       "      <td>0</td>\n",
       "      <td>3</td>\n",
       "      <td>3</td>\n",
       "      <td>3</td>\n",
       "      <td>0.00</td>\n",
       "      <td>Mouse</td>\n",
       "      <td>unknown</td>\n",
       "      <td>0</td>\n",
       "    </tr>\n",
       "    <tr>\n",
       "      <th>7</th>\n",
       "      <td>57</td>\n",
       "      <td>1</td>\n",
       "      <td>1</td>\n",
       "      <td>0</td>\n",
       "      <td>3</td>\n",
       "      <td>4</td>\n",
       "      <td>4</td>\n",
       "      <td>25.00</td>\n",
       "      <td>Mouse</td>\n",
       "      <td>h1</td>\n",
       "      <td>0</td>\n",
       "    </tr>\n",
       "    <tr>\n",
       "      <th>...</th>\n",
       "      <td>...</td>\n",
       "      <td>...</td>\n",
       "      <td>...</td>\n",
       "      <td>...</td>\n",
       "      <td>...</td>\n",
       "      <td>...</td>\n",
       "      <td>...</td>\n",
       "      <td>...</td>\n",
       "      <td>...</td>\n",
       "      <td>...</td>\n",
       "      <td>...</td>\n",
       "    </tr>\n",
       "    <tr>\n",
       "      <th>2564534</th>\n",
       "      <td>19180065</td>\n",
       "      <td>2</td>\n",
       "      <td>0</td>\n",
       "      <td>2</td>\n",
       "      <td>2</td>\n",
       "      <td>4</td>\n",
       "      <td>4</td>\n",
       "      <td>50.00</td>\n",
       "      <td>Mouse</td>\n",
       "      <td>h2</td>\n",
       "      <td>0</td>\n",
       "    </tr>\n",
       "    <tr>\n",
       "      <th>2564535</th>\n",
       "      <td>19180074</td>\n",
       "      <td>4</td>\n",
       "      <td>0</td>\n",
       "      <td>4</td>\n",
       "      <td>2</td>\n",
       "      <td>6</td>\n",
       "      <td>6</td>\n",
       "      <td>66.67</td>\n",
       "      <td>Mouse</td>\n",
       "      <td>h2</td>\n",
       "      <td>0</td>\n",
       "    </tr>\n",
       "    <tr>\n",
       "      <th>2564537</th>\n",
       "      <td>19180091</td>\n",
       "      <td>5</td>\n",
       "      <td>0</td>\n",
       "      <td>5</td>\n",
       "      <td>2</td>\n",
       "      <td>7</td>\n",
       "      <td>7</td>\n",
       "      <td>71.43</td>\n",
       "      <td>Mouse</td>\n",
       "      <td>h2</td>\n",
       "      <td>0</td>\n",
       "    </tr>\n",
       "    <tr>\n",
       "      <th>2564538</th>\n",
       "      <td>19180098</td>\n",
       "      <td>2</td>\n",
       "      <td>2</td>\n",
       "      <td>0</td>\n",
       "      <td>1</td>\n",
       "      <td>3</td>\n",
       "      <td>3</td>\n",
       "      <td>66.67</td>\n",
       "      <td>Mouse</td>\n",
       "      <td>h1</td>\n",
       "      <td>0</td>\n",
       "    </tr>\n",
       "    <tr>\n",
       "      <th>2564541</th>\n",
       "      <td>19180138</td>\n",
       "      <td>4</td>\n",
       "      <td>4</td>\n",
       "      <td>0</td>\n",
       "      <td>2</td>\n",
       "      <td>6</td>\n",
       "      <td>6</td>\n",
       "      <td>66.67</td>\n",
       "      <td>Mouse</td>\n",
       "      <td>h1</td>\n",
       "      <td>0</td>\n",
       "    </tr>\n",
       "  </tbody>\n",
       "</table>\n",
       "<p>1080962 rows × 11 columns</p>\n",
       "</div>"
      ],
      "text/plain": [
       "              rid  hp  h1  h2  un  fc  mod_fc  ratio    Tag    HType  HTR\n",
       "0               8   2   2   0   1   3       3  66.67  Mouse       h1    0\n",
       "1              25   2   2   0   1   3       3  66.67  Mouse       h1    0\n",
       "2              27   1   0   1   4   5       5  20.00  Mouse       h2    0\n",
       "6              56   0   0   0   3   3       3   0.00  Mouse  unknown    0\n",
       "7              57   1   1   0   3   4       4  25.00  Mouse       h1    0\n",
       "...           ...  ..  ..  ..  ..  ..     ...    ...    ...      ...  ...\n",
       "2564534  19180065   2   0   2   2   4       4  50.00  Mouse       h2    0\n",
       "2564535  19180074   4   0   4   2   6       6  66.67  Mouse       h2    0\n",
       "2564537  19180091   5   0   5   2   7       7  71.43  Mouse       h2    0\n",
       "2564538  19180098   2   2   0   1   3       3  66.67  Mouse       h1    0\n",
       "2564541  19180138   4   4   0   2   6       6  66.67  Mouse       h1    0\n",
       "\n",
       "[1080962 rows x 11 columns]"
      ]
     },
     "execution_count": 22,
     "metadata": {},
     "output_type": "execute_result"
    }
   ],
   "source": [
    "## Fig3 Fragment percentage and h1, h2 percentage\n",
    "df[\"Tag\"] = \"Mouse\"\n",
    "df[\"HType\"] = \"h-trans\"\n",
    "P1 = df.h1 == df.hp\n",
    "P2 = df.h2 == df.hp\n",
    "P3 = df.ratio == 0\n",
    "df.loc[P1, \"HType\"] = \"h1\"\n",
    "df.loc[P2, \"HType\"] = \"h2\"\n",
    "df.loc[P3, \"HType\"] = \"unknown\"\n",
    "\n",
    "## (h1/h2) h-trans ratio\n",
    "df[\"HTR\"] = 0\n",
    "\n",
    "## filter frag>=3\n",
    "df_frag3 = df.loc[df.fc>=3, :]\n",
    "df_frag3"
   ]
  },
  {
   "cell_type": "code",
   "execution_count": 23,
   "id": "b36e81fd",
   "metadata": {
    "ExecuteTime": {
     "end_time": "2023-08-22T07:56:17.234955Z",
     "start_time": "2023-08-22T07:56:17.064407Z"
    }
   },
   "outputs": [
    {
     "name": "stdout",
     "output_type": "stream",
     "text": [
      "Fragment distribution mod_hp\n",
      "0    23.069694\n",
      "1    32.650274\n",
      "2    18.628316\n",
      "3    25.651715\n",
      "Name: Tag, dtype: float64\n"
     ]
    }
   ],
   "source": [
    "df[\"mod_hp\"] = df[\"hp\"].values\n",
    "df.loc[df.hp>=3, \"mod_hp\"] = 3\n",
    "print( \"Fragment distribution\", 100* df.groupby(\"mod_hp\")[\"Tag\"].count() / len(df)  )"
   ]
  },
  {
   "cell_type": "code",
   "execution_count": 24,
   "id": "917c9db2",
   "metadata": {
    "ExecuteTime": {
     "end_time": "2023-08-22T07:56:26.374526Z",
     "start_time": "2023-08-22T07:56:26.262032Z"
    }
   },
   "outputs": [
    {
     "data": {
      "text/plain": [
       "HType\n",
       "h-trans    0.037195\n",
       "h1         0.457381\n",
       "h2         0.473068\n",
       "unknown    0.032355\n",
       "Name: Tag, dtype: float64"
      ]
     },
     "execution_count": 24,
     "metadata": {},
     "output_type": "execute_result"
    }
   ],
   "source": [
    "df_frag3.groupby(\"HType\")[\"Tag\"].count()/len(df_frag3)"
   ]
  },
  {
   "cell_type": "code",
   "execution_count": 25,
   "id": "04bf558d",
   "metadata": {
    "ExecuteTime": {
     "end_time": "2023-08-22T07:57:28.519797Z",
     "start_time": "2023-08-22T07:57:25.189519Z"
    },
    "scrolled": true
   },
   "outputs": [
    {
     "name": "stdout",
     "output_type": "stream",
     "text": [
      "HType percentage HType\n",
      "h-trans     3.719465\n",
      "h1         45.738148\n",
      "h2         47.306843\n",
      "unknown     3.235544\n",
      "Name: Tag, dtype: float64\n"
     ]
    },
    {
     "data": {
      "image/png": "[encoded data removed]",
      "text/plain": [
       "<Figure size 300x300 with 2 Axes>"
      ]
     },
     "metadata": {},
     "output_type": "display_data"
    }
   ],
   "source": [
    "## Fig3 Fragment percentage and h1, h2 percentage\n",
    "fig, axs = plt.subplots(1, 2, figsize=(3, 3), sharex=True)\n",
    "fig.subplots_adjust(wspace=1)  # Reduce space between plots\n",
    "## reads count percentage\n",
    "sns.histplot(df, x=\"Tag\", \n",
    "             hue=\"mod_hp\", \n",
    "             hue_order = [0,1,2,3],\n",
    "             multiple = \"stack\", \n",
    "             stat  = \"percent\",\n",
    "             palette='Spectral_r',\n",
    "            edgecolor=\".3\",\n",
    "            linewidth=.5,\n",
    "            binwidth=0.5,\n",
    "            ax= axs[0])\n",
    "#axs[0].set_xlabel(\"Mouse\")\n",
    "axs[0].set_ylabel(\"Percentage (%)\")\n",
    "\n",
    "## reads phased fragments hp1, hp2, h-trans\n",
    "sns.histplot(df_frag3, x=\"Tag\", \n",
    "             hue=\"HType\", \n",
    "             hue_order = [\"unknown\",\"h-trans\",\"h1\",\"h2\"],\n",
    "             multiple = \"stack\", \n",
    "             stat  = \"percent\",\n",
    "             palette='Set1',\n",
    "            edgecolor=\".3\",\n",
    "            linewidth=.5,\n",
    "            binwidth=0.5,\n",
    "            ax= axs[1])\n",
    "\n",
    "#axs[1].set_xlabel(\"Mouse\")\n",
    "axs[1].set_ylabel(\"Percentage (%)\")\n",
    "#plt.show()\n",
    "fig=out_dir+'/mouse_Fragment_phased_percentage.pdf'\n",
    "plt.savefig(fig,dpi=300,bbox_inches = 'tight')\n",
    "\n",
    "print( \"HType percentage\", 100* df_frag3.groupby(\"HType\")[\"Tag\"].count() / len(df_frag3)  )"
   ]
  },
  {
   "cell_type": "code",
   "execution_count": 32,
   "id": "42553600",
   "metadata": {
    "ExecuteTime": {
     "end_time": "2023-08-20T14:48:40.416600Z",
     "start_time": "2023-08-20T14:48:40.411697Z"
    }
   },
   "outputs": [],
   "source": [
    "# ## h-trans log2(h1/h2 ) ratio\n",
    "# fig, axs = plt.subplots(9, 1, figsize=(3, 6), sharex=True)\n",
    "# fig.subplots_adjust(hspace=0.05)  # Reduce space between plots\n",
    "\n",
    "# sns.distplot( df_frag3.loc[df_frag3.HType==\"h-trans\", \"HTR\"], ax= axs[0] )\n",
    "# axs[0].set_ylabel(\"All\\nh-trans\\nreads\")\n",
    "# axs[0].set_yticks([])\n",
    "# for n in range(1, 9):\n",
    "#     sns.distplot( df_frag3.loc[(df_frag3.HType==\"h-trans\")&(df_frag3.fc==n+2), \"HTR\"], ax= axs[n] )\n",
    "#     axs[n].set_ylabel(f\"{n+2}\")\n",
    "#     axs[n].set_yticks([])\n",
    "# plt.xlabel(\"Log2(hp1/hp2)\")\n",
    "# #plt.show()\n",
    "# fig=out_dir+'/Trans_reads_hp1_hp2_ratio.pdf'\n",
    "# plt.savefig(fig,dpi=300,bbox_inches = 'tight')"
   ]
  },
  {
   "cell_type": "code",
   "execution_count": 26,
   "id": "bec4327e",
   "metadata": {
    "ExecuteTime": {
     "end_time": "2023-08-22T07:58:47.077356Z",
     "start_time": "2023-08-22T07:58:47.019546Z"
    }
   },
   "outputs": [
    {
     "data": {
      "text/plain": [
       "array(['h1', 'h2', 'unknown', 'h-trans'], dtype=object)"
      ]
     },
     "execution_count": 26,
     "metadata": {},
     "output_type": "execute_result"
    }
   ],
   "source": [
    "df_frag3.HType.unique()"
   ]
  },
  {
   "cell_type": "code",
   "execution_count": 28,
   "id": "2d9ed02a",
   "metadata": {
    "ExecuteTime": {
     "end_time": "2023-08-22T07:59:02.039805Z",
     "start_time": "2023-08-22T07:59:00.679269Z"
    }
   },
   "outputs": [
    {
     "name": "stdout",
     "output_type": "stream",
     "text": [
      "Reads distribution HType    mod_fc\n",
      "h-trans  3         0.028435\n",
      "         4         0.032251\n",
      "         5         0.035775\n",
      "         6         0.042275\n",
      "         7         0.048842\n",
      "         8         0.055549\n",
      "         9         0.060413\n",
      "         10        0.075954\n",
      "h1       3         0.453424\n",
      "         4         0.463341\n",
      "         5         0.463559\n",
      "         6         0.458187\n",
      "         7         0.456134\n",
      "         8         0.450705\n",
      "         9         0.450892\n",
      "         10        0.437734\n",
      "h2       3         0.458166\n",
      "         4         0.472041\n",
      "         5         0.480625\n",
      "         6         0.486025\n",
      "         7         0.486740\n",
      "         8         0.488429\n",
      "         9         0.484716\n",
      "         10        0.484391\n",
      "unknown  3         0.059975\n",
      "         4         0.032367\n",
      "         5         0.020042\n",
      "         6         0.013512\n",
      "         7         0.008284\n",
      "         8         0.005317\n",
      "         9         0.003979\n",
      "         10        0.001921\n",
      "Name: Tag, dtype: float64\n"
     ]
    },
    {
     "data": {
      "image/png": "[encoded data removed]",
      "text/plain": [
       "<Figure size 300x300 with 1 Axes>"
      ]
     },
     "metadata": {},
     "output_type": "display_data"
    }
   ],
   "source": [
    "fig = plt.figure(figsize=(3,3))\n",
    "## reads phased fragments hp1, hp2, h-trans\n",
    "sns.histplot(df_frag3, x=\"mod_fc\", \n",
    "             hue=\"HType\", \n",
    "             hue_order = ['unknown',\"h-trans\",\"h1\",\"h2\"],\n",
    "             multiple = \"fill\", \n",
    "             stat  = \"percent\",\n",
    "             palette='Set1',\n",
    "            edgecolor=\".3\",\n",
    "            linewidth=.5,\n",
    "            binwidth=0.5,\n",
    "            discrete = True)\n",
    "plt.xlabel(\"Fragments in reads\")\n",
    "plt.ylabel(\"Percentage (%)\")\n",
    "#plt.show()\n",
    "fig=out_dir+'/mouse_H-trans_h1_h2_reads_ratio.pdf'\n",
    "plt.savefig(fig,dpi=300,bbox_inches = 'tight')\n",
    "print( \"Reads distribution\", df_frag3.groupby([\"HType\",\"mod_fc\"])[\"Tag\"].count() / df_frag3.groupby([\"mod_fc\"])[\"Tag\"].count() )"
   ]
  },
  {
   "cell_type": "code",
   "execution_count": 31,
   "id": "ca136a44",
   "metadata": {
    "ExecuteTime": {
     "end_time": "2023-08-22T08:00:46.875937Z",
     "start_time": "2023-08-22T08:00:45.912579Z"
    }
   },
   "outputs": [
    {
     "name": "stdout",
     "output_type": "stream",
     "text": [
      "All_phased_Reads ratio: 0.371\n",
      "All_phased_Reads ratio (>3 fragment) : 0.190\n",
      "All_phased_Reads ratio (>3 fragment) : 0.080\n",
      "All_phased_Reads Haplotypes count: HType\n",
      "h-trans    0.045368\n",
      "h1         0.505018\n",
      "h2         0.449614\n",
      "Name: Tag, dtype: float64\n"
     ]
    },
    {
     "data": {
      "image/png": "[encoded data removed]",
      "text/plain": [
       "<Figure size 300x300 with 1 Axes>"
      ]
     },
     "metadata": {},
     "output_type": "display_data"
    }
   ],
   "source": [
    "# Reads without unknown phased fragments\n",
    "P = df.un == 0\n",
    "print(\"All_phased_Reads ratio: %.3f\"%(sum(P)/len(df))  )\n",
    "\n",
    "P = df_frag3.un == 0\n",
    "print(\"All_phased_Reads ratio (>3 fragment) : %.3f\"%(sum(P)/len(df_frag3))  )\n",
    "print(\"All_phased_Reads ratio (>3 fragment) : %.3f\"%(sum(P)/len(df))  )\n",
    "Allp_reads =  df_frag3.loc[P, :]\n",
    "\n",
    "print(\"All_phased_Reads Haplotypes count:\" , Allp_reads.groupby(\"HType\")[\"Tag\"].count()/len(Allp_reads)  )\n",
    "\n",
    "fig = plt.figure(figsize=(3,3))\n",
    "## reads phased fragments hp1, hp2, h-trans\n",
    "sns.histplot(Allp_reads, x=\"mod_fc\", \n",
    "             hue=\"HType\", \n",
    "             hue_order = [\"h-trans\",\"h1\",\"h2\"],\n",
    "             multiple = \"fill\", \n",
    "             stat  = \"percent\",\n",
    "             palette='Set1',\n",
    "            edgecolor=\".3\",\n",
    "            linewidth=.5,\n",
    "            binwidth=0.5,\n",
    "            discrete = True )\n",
    "plt.xlabel(\"Fragments in reads\")\n",
    "plt.ylabel(\"Percentage (%)\")\n",
    "#plt.show()\n",
    "fig=out_dir+'/mouse_All_phased_reads_H-trans_h1_h2_reads_ratio.pdf'\n",
    "plt.savefig(fig,dpi=300,bbox_inches = 'tight')"
   ]
  },
  {
   "cell_type": "code",
   "execution_count": 32,
   "id": "f023d0fa",
   "metadata": {
    "ExecuteTime": {
     "end_time": "2023-08-22T08:03:16.427560Z",
     "start_time": "2023-08-22T08:03:16.420956Z"
    },
    "scrolled": true
   },
   "outputs": [],
   "source": [
    "# ## Fig 3C. Ratio of homo/hetero reads\n",
    "# sdf=multi_phase_df.groupby(['fc','phase_type'])['rid'].count().reset_index()\n",
    "# sdf.columns=['fc','phase_type','freq']\n",
    "# sdf=sdf.sort_values(['fc','phase_type']).reset_index(drop=True)\n",
    "# hdf=sdf.groupby('fc')['phase_type'].apply(list).reset_index()\n",
    "# hdf['freq']=sdf.groupby('fc')['freq'].apply(list).reset_index()['freq']\n",
    "# hdf['total_freq']=hdf.freq.apply(lambda x: sum(x))\n",
    "# hdf['homo_ratio']=hdf.apply(lambda x: x.freq[1]/x.total_freq*100 if len(x.phase_type)==2 else 100 if x.phase_type[0]=='homo' else 0,axis=1)\n",
    "# hdf['hetero_ratio']=100-hdf['homo_ratio']\n",
    "# hdf['hp_fold']=multi_phase_df.loc[multi_phase_df.phase_type=='hetero'].groupby('fc')['hp_fold'].mean().reset_index()['hp_fold']\n",
    "# hdf.index=hdf.fc.to_list()\n",
    "# hdf=hdf.loc[hdf.fc<=20]\n",
    "# ### bar and line plot\n",
    "# fig = plt.figure(figsize=(4,4))\n",
    "# ax1 = fig.add_subplot(111)\n",
    "\n",
    "# x = hdf.index\n",
    "# y1 = hdf['hetero_ratio']\n",
    "# y2 = hdf['homo_ratio']\n",
    "\n",
    "# ax1.bar(x,y1,width=0.8,label='H-trans',color='#f9766e',edgecolor='grey',zorder=5)\n",
    "# ax1.bar(x,y2,width=0.8,bottom=y1,label='Cis',color='#00bfc4',edgecolor='grey',zorder=5)\n",
    "# ax1.legend(frameon=False,bbox_to_anchor=(0.2,1),ncol=2)\n",
    "# ax1.set_ylabel('Ratio of reads (%)')\n",
    "# ax1.set_ylim(0,105)\n",
    "\n",
    "# y = hdf['hp_fold']\n",
    "# ax2 = ax1.twinx()\n",
    "# ax2.plot(x,y,marker='.',color='k')\n",
    "# ax2.set_ylabel('Ratio to major to minor haplotype')\n",
    "# ax2.set_ylim(0,7.35)\n",
    "\n",
    "# #ax1.set_xticks(x,x,rotation=0)\n",
    "# ax1.set_xlabel(\"Total fragments in reads\")#,fontsize=12\n",
    "\n",
    "# fig=out_dir+'/H-trans_reads.pdf'\n",
    "# plt.savefig(fig,dpi=300,bbox_inches = 'tight')"
   ]
  },
  {
   "cell_type": "code",
   "execution_count": 34,
   "id": "799468aa",
   "metadata": {
    "ExecuteTime": {
     "end_time": "2023-08-22T08:03:34.227960Z",
     "start_time": "2023-08-22T08:03:34.221465Z"
    }
   },
   "outputs": [],
   "source": [
    "# ## Fig 3E. Ratio of homo/hetero reads, complete phased reads only\n",
    "# sdf=com_multi_phase_df.groupby(['fc','phase_type'])['rid'].count().reset_index()\n",
    "# sdf.columns=['fc','phase_type','freq']\n",
    "# sdf=sdf.sort_values(['fc','phase_type']).reset_index(drop=True)\n",
    "# hdf=sdf.groupby('fc')['phase_type'].apply(list).reset_index()\n",
    "# hdf['freq']=sdf.groupby('fc')['freq'].apply(list).reset_index()['freq']\n",
    "# hdf['total_freq']=hdf.freq.apply(lambda x: sum(x))\n",
    "# hdf['homo_ratio']=hdf.apply(lambda x: x.freq[1]/x.total_freq*100 if len(x.phase_type)==2 else 100 if x.phase_type[0]=='homo' else 0,axis=1)\n",
    "# hdf['hetero_ratio']=100-hdf['homo_ratio']\n",
    "# hdf['hp_fold']=multi_phase_df.loc[multi_phase_df.phase_type=='hetero'].groupby('fc')['hp_fold'].mean().reset_index()['hp_fold']\n",
    "# hdf.index=hdf.fc.to_list()\n",
    "# hdf=hdf.loc[hdf.fc<=20]\n",
    "# ### bar and line plot\n",
    "# fig = plt.figure(figsize=(4,4))\n",
    "# ax1 = fig.add_subplot(111)\n",
    "\n",
    "# x = hdf.index\n",
    "# y1 = hdf['hetero_ratio']\n",
    "# y2 = hdf['homo_ratio']\n",
    "\n",
    "# ax1.bar(x,y1,width=0.8,label='H-trans',color='#f9766e',edgecolor='grey',zorder=5)\n",
    "# ax1.bar(x,y2,width=0.8,bottom=y1,label='Cis',color='#00bfc4',edgecolor='grey',zorder=5)\n",
    "# ax1.legend(frameon=False,bbox_to_anchor=(0.2,1),ncol=2)\n",
    "# ax1.set_ylabel('Ratio of reads (%)')\n",
    "# ax1.set_ylim(0,105)\n",
    "\n",
    "# y = hdf['hp_fold']\n",
    "# ax2 = ax1.twinx()\n",
    "# ax2.plot(x,y,marker='.',color='k')\n",
    "# ax2.set_ylabel('Ratio to major to minor haplotype')\n",
    "# ax2.set_ylim(0,7.35)\n",
    "\n",
    "# ax1.set_xticks([5,10,15],[5,10,15],rotation=0)\n",
    "# ax1.set_xlabel(\"Total fragments in reads\")#,fontsize=12\n",
    "\n",
    "# fig=out_dir+'/H-trans_reads.complete.pdf'\n",
    "# plt.savefig(fig,dpi=300,bbox_inches = 'tight')"
   ]
  },
  {
   "cell_type": "code",
   "execution_count": 39,
   "id": "6d819e07",
   "metadata": {
    "ExecuteTime": {
     "end_time": "2023-08-22T08:13:42.646558Z",
     "start_time": "2023-08-22T08:13:42.165492Z"
    }
   },
   "outputs": [
    {
     "data": {
      "image/png": "[encoded data removed]",
      "text/plain": [
       "<Figure size 300x300 with 2 Axes>"
      ]
     },
     "metadata": {},
     "output_type": "display_data"
    }
   ],
   "source": [
    "## Fig 3B. Dip3D phase set accuracy\n",
    "compare_file=f'{Datadir}/Fig3/compare.tsv'\n",
    "compare=pd.read_csv(compare_file,sep='\\t',usecols=[1,6,7,8,9,10,13,14])\n",
    "chr_list=[str(i) for i in  range(1,20)]+['X']\n",
    "compare['chromosome']=pd.Categorical(compare.chromosome,categories=chr_list,ordered=True)\n",
    "compare=compare.sort_values('chromosome').reset_index(drop=True)\n",
    "compare=compare.head(19)\n",
    "### bar and line plot\n",
    "fig = plt.figure(figsize=(3,3))\n",
    "ax1 = fig.add_subplot(111)\n",
    "\n",
    "ax1.plot(compare.chromosome,compare.all_switch_rate*100,marker='.', markersize=8,color='r',label='Switch')\n",
    "ax1.set_ylabel('Switch error (%)')\n",
    "ax1.set_ylim(0,0.061)\n",
    "ax1.legend(frameon=False,bbox_to_anchor=(0.5,1),ncol=2)\n",
    "\n",
    "ax2 = ax1.twinx()\n",
    "ax2.plot(compare.chromosome,compare.blockwise_hamming_rate*100,marker='s',markersize=5,color='b',label='Hamming')\n",
    "ax2.set_ylabel('Hamming error (%)')\n",
    "ax2.set_ylim(0,0.061)\n",
    "ax2.legend(frameon=False,bbox_to_anchor=(0.9,1),ncol=2)\n",
    "\n",
    "plt.xticks(compare.chromosome,compare.chromosome)\n",
    "plt.xlabel(\"Chromosome\")#,fontsize=12\n",
    "\n",
    "fig=out_dir+'/mouse_switch_hamming_error.pdf'\n",
    "plt.savefig(fig,dpi=300,bbox_inches = 'tight')"
   ]
  }
 ],
 "metadata": {
  "kernelspec": {
   "display_name": "Python 3 (ipykernel)",
   "language": "python",
   "name": "python3"
  },
  "language_info": {
   "codemirror_mode": {
    "name": "ipython",
    "version": 3
   },
   "file_extension": ".py",
   "mimetype": "text/x-python",
   "name": "python",
   "nbconvert_exporter": "python",
   "pygments_lexer": "ipython3",
   "version": "3.8.3"
  }
 },
 "nbformat": 4,
 "nbformat_minor": 5
}
