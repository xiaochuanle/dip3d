{
 "cells": [
  {
   "cell_type": "code",
   "execution_count": 9,
   "id": "33abd703",
   "metadata": {
    "ExecuteTime": {
     "end_time": "2023-08-16T03:22:34.370527Z",
     "start_time": "2023-08-16T03:22:34.363416Z"
    }
   },
   "outputs": [],
   "source": [
    "### Merge_PoreC v.s. HiC, at haplotype level\n",
    "### correlation of Insulation score (100kb)\n",
    "\n",
    "## import function\n",
    "import pandas as pd\n",
    "import numpy as np\n",
    "import matplotlib.pyplot as plt\n",
    "import seaborn as sns\n",
    "from sklearn.linear_model import LinearRegression\n",
    "from scipy import stats\n",
    "from scipy.stats import gaussian_kde\n",
    "from matplotlib.colors import LogNorm\n",
    "import matplotlib as mpl\n",
    "mpl.rcParams['pdf.fonttype'] = 42\n",
    "import seaborn as sns"
   ]
  },
  {
   "cell_type": "code",
   "execution_count": 10,
   "id": "cf777f9a",
   "metadata": {
    "ExecuteTime": {
     "end_time": "2023-08-16T03:22:34.941914Z",
     "start_time": "2023-08-16T03:22:34.935918Z"
    }
   },
   "outputs": [],
   "source": [
    "Rawdir=\"/data2/Hap3D_Figures/figure_processing_data/Fig5_supp\"\n",
    "ma_file=f'{Rawdir}/hi-c_10k_maternal_Insulation'\n",
    "pa_file=f'{Rawdir}/hi-c_10k_paternal_Insulationv'\n",
    "h1_file=f'{Rawdir}/pore-c_10k_paternal_Insulation'\n",
    "h2_file=f'{Rawdir}/pore-c_10k_paternal_Insulation'"
   ]
  },
  {
   "cell_type": "code",
   "execution_count": 11,
   "id": "2dfc0a7e",
   "metadata": {
    "ExecuteTime": {
     "end_time": "2023-08-16T03:22:35.489039Z",
     "start_time": "2023-08-16T03:22:35.476383Z"
    }
   },
   "outputs": [],
   "source": [
    "def compare_2hap_diff(h1_file,h2_file,chrom=None,bincol='log2_insulation_score_50000'):\n",
    "    h1=pd.read_csv(h1_file,sep='\\t')\n",
    "    h1['chrom']=h1['chrom'].astype(str)\n",
    "    h1['chrom'] = h1['chrom'].str.replace(\"chr\", \"\")\n",
    "    h1=h1.loc[h1.chrom==chrom,['chrom','start','end',bincol]]\n",
    "    h2=pd.read_csv(h2_file,sep='\\t')\n",
    "    h2['chrom']=h2['chrom'].astype(str)\n",
    "    h2['chrom'] = h2['chrom'].str.replace(\"chr\", \"\")\n",
    "    h2=h2.loc[h2.chrom==chrom,['chrom','start','end',bincol]]\n",
    "    Is_df=pd.merge(h1,h2,on=['chrom','start','end'])\n",
    "    Is_df=Is_df.fillna('na')\n",
    "    Is_df.columns=['chrom','start','end','h1','h2']\n",
    "    #print(Is_df)\n",
    "    #Is_df=Is_df[['h1','h2']]\n",
    "    Is_df=Is_df.fillna('na')\n",
    "    Is_df=Is_df.loc[(Is_df.h1!='na')&(Is_df.h2!='na'),]\n",
    "    # Correlation\n",
    "    pr = stats.pearsonr( Is_df.h1.values, Is_df.h2.values)\n",
    "    sr = stats.spearmanr( Is_df.h1.values, Is_df.h2.values)\n",
    "    print(pr)\n",
    "    print(sr)\n",
    "    return Is_df,pr,sr"
   ]
  },
  {
   "cell_type": "code",
   "execution_count": 12,
   "id": "343d629a",
   "metadata": {
    "ExecuteTime": {
     "end_time": "2023-08-16T03:22:36.975681Z",
     "start_time": "2023-08-16T03:22:36.971530Z"
    }
   },
   "outputs": [],
   "source": [
    "chrs=[str(i) for i in range(1,22+1)]\n",
    "chrs.append('X')"
   ]
  },
  {
   "cell_type": "code",
   "execution_count": 13,
   "id": "7446d8dc",
   "metadata": {
    "ExecuteTime": {
     "end_time": "2023-08-16T03:23:15.887436Z",
     "start_time": "2023-08-16T03:22:37.609371Z"
    },
    "scrolled": true
   },
   "outputs": [
    {
     "name": "stdout",
     "output_type": "stream",
     "text": [
      "1\n",
      "(0.8572043754703694, 0.0)\n",
      "SpearmanrResult(correlation=0.8123657194343964, pvalue=0.0)\n",
      "2\n"
     ]
    },
    {
     "name": "stderr",
     "output_type": "stream",
     "text": [
      "/tmp/ipykernel_21257/2925908550.py:6: FutureWarning: The frame.append method is deprecated and will be removed from pandas in a future version. Use pandas.concat instead.\n",
      "  porec_stats=porec_stats.append(stat, ignore_index=True)\n"
     ]
    },
    {
     "name": "stdout",
     "output_type": "stream",
     "text": [
      "(0.8236441546801343, 0.0)\n",
      "SpearmanrResult(correlation=0.7746881008277875, pvalue=0.0)\n",
      "3\n"
     ]
    },
    {
     "name": "stderr",
     "output_type": "stream",
     "text": [
      "/tmp/ipykernel_21257/2925908550.py:6: FutureWarning: The frame.append method is deprecated and will be removed from pandas in a future version. Use pandas.concat instead.\n",
      "  porec_stats=porec_stats.append(stat, ignore_index=True)\n"
     ]
    },
    {
     "name": "stdout",
     "output_type": "stream",
     "text": [
      "(0.8159084369042193, 0.0)\n",
      "SpearmanrResult(correlation=0.7539381220232353, pvalue=0.0)\n",
      "4\n"
     ]
    },
    {
     "name": "stderr",
     "output_type": "stream",
     "text": [
      "/tmp/ipykernel_21257/2925908550.py:6: FutureWarning: The frame.append method is deprecated and will be removed from pandas in a future version. Use pandas.concat instead.\n",
      "  porec_stats=porec_stats.append(stat, ignore_index=True)\n"
     ]
    },
    {
     "name": "stdout",
     "output_type": "stream",
     "text": [
      "(0.7983251760982275, 0.0)\n",
      "SpearmanrResult(correlation=0.6985173811398123, pvalue=0.0)\n",
      "5\n"
     ]
    },
    {
     "name": "stderr",
     "output_type": "stream",
     "text": [
      "/tmp/ipykernel_21257/2925908550.py:6: FutureWarning: The frame.append method is deprecated and will be removed from pandas in a future version. Use pandas.concat instead.\n",
      "  porec_stats=porec_stats.append(stat, ignore_index=True)\n"
     ]
    },
    {
     "name": "stdout",
     "output_type": "stream",
     "text": [
      "(0.8245386325003439, 0.0)\n",
      "SpearmanrResult(correlation=0.7610889708476507, pvalue=0.0)\n",
      "6\n"
     ]
    },
    {
     "name": "stderr",
     "output_type": "stream",
     "text": [
      "/tmp/ipykernel_21257/2925908550.py:6: FutureWarning: The frame.append method is deprecated and will be removed from pandas in a future version. Use pandas.concat instead.\n",
      "  porec_stats=porec_stats.append(stat, ignore_index=True)\n"
     ]
    },
    {
     "name": "stdout",
     "output_type": "stream",
     "text": [
      "(0.8575980150452226, 0.0)\n",
      "SpearmanrResult(correlation=0.7934405386537221, pvalue=0.0)\n",
      "7\n"
     ]
    },
    {
     "name": "stderr",
     "output_type": "stream",
     "text": [
      "/tmp/ipykernel_21257/2925908550.py:6: FutureWarning: The frame.append method is deprecated and will be removed from pandas in a future version. Use pandas.concat instead.\n",
      "  porec_stats=porec_stats.append(stat, ignore_index=True)\n"
     ]
    },
    {
     "name": "stdout",
     "output_type": "stream",
     "text": [
      "(0.8081246657508709, 0.0)\n",
      "SpearmanrResult(correlation=0.788414209417158, pvalue=0.0)\n",
      "8\n"
     ]
    },
    {
     "name": "stderr",
     "output_type": "stream",
     "text": [
      "/tmp/ipykernel_21257/2925908550.py:6: FutureWarning: The frame.append method is deprecated and will be removed from pandas in a future version. Use pandas.concat instead.\n",
      "  porec_stats=porec_stats.append(stat, ignore_index=True)\n"
     ]
    },
    {
     "name": "stdout",
     "output_type": "stream",
     "text": [
      "(0.8499178834900796, 0.0)\n",
      "SpearmanrResult(correlation=0.7662141540627304, pvalue=0.0)\n",
      "9\n"
     ]
    },
    {
     "name": "stderr",
     "output_type": "stream",
     "text": [
      "/tmp/ipykernel_21257/2925908550.py:6: FutureWarning: The frame.append method is deprecated and will be removed from pandas in a future version. Use pandas.concat instead.\n",
      "  porec_stats=porec_stats.append(stat, ignore_index=True)\n"
     ]
    },
    {
     "name": "stdout",
     "output_type": "stream",
     "text": [
      "(0.8637294031657606, 0.0)\n",
      "SpearmanrResult(correlation=0.8227025706245531, pvalue=0.0)\n",
      "10\n"
     ]
    },
    {
     "name": "stderr",
     "output_type": "stream",
     "text": [
      "/tmp/ipykernel_21257/2925908550.py:6: FutureWarning: The frame.append method is deprecated and will be removed from pandas in a future version. Use pandas.concat instead.\n",
      "  porec_stats=porec_stats.append(stat, ignore_index=True)\n"
     ]
    },
    {
     "name": "stdout",
     "output_type": "stream",
     "text": [
      "(0.8461260089799607, 0.0)\n",
      "SpearmanrResult(correlation=0.8080396627705613, pvalue=0.0)\n",
      "11\n"
     ]
    },
    {
     "name": "stderr",
     "output_type": "stream",
     "text": [
      "/tmp/ipykernel_21257/2925908550.py:6: FutureWarning: The frame.append method is deprecated and will be removed from pandas in a future version. Use pandas.concat instead.\n",
      "  porec_stats=porec_stats.append(stat, ignore_index=True)\n"
     ]
    },
    {
     "name": "stdout",
     "output_type": "stream",
     "text": [
      "(0.8553573298561351, 0.0)\n",
      "SpearmanrResult(correlation=0.8211051483764287, pvalue=0.0)\n",
      "12\n"
     ]
    },
    {
     "name": "stderr",
     "output_type": "stream",
     "text": [
      "/tmp/ipykernel_21257/2925908550.py:6: FutureWarning: The frame.append method is deprecated and will be removed from pandas in a future version. Use pandas.concat instead.\n",
      "  porec_stats=porec_stats.append(stat, ignore_index=True)\n"
     ]
    },
    {
     "name": "stdout",
     "output_type": "stream",
     "text": [
      "(0.8783543819843446, 0.0)\n",
      "SpearmanrResult(correlation=0.8399572857641171, pvalue=0.0)\n",
      "13\n"
     ]
    },
    {
     "name": "stderr",
     "output_type": "stream",
     "text": [
      "/tmp/ipykernel_21257/2925908550.py:6: FutureWarning: The frame.append method is deprecated and will be removed from pandas in a future version. Use pandas.concat instead.\n",
      "  porec_stats=porec_stats.append(stat, ignore_index=True)\n"
     ]
    },
    {
     "name": "stdout",
     "output_type": "stream",
     "text": [
      "(0.8128245351283676, 0.0)\n",
      "SpearmanrResult(correlation=0.7694760339669052, pvalue=0.0)\n",
      "14\n"
     ]
    },
    {
     "name": "stderr",
     "output_type": "stream",
     "text": [
      "/tmp/ipykernel_21257/2925908550.py:6: FutureWarning: The frame.append method is deprecated and will be removed from pandas in a future version. Use pandas.concat instead.\n",
      "  porec_stats=porec_stats.append(stat, ignore_index=True)\n"
     ]
    },
    {
     "name": "stdout",
     "output_type": "stream",
     "text": [
      "(0.8941376768157061, 0.0)\n",
      "SpearmanrResult(correlation=0.857675737648813, pvalue=0.0)\n",
      "15\n"
     ]
    },
    {
     "name": "stderr",
     "output_type": "stream",
     "text": [
      "/tmp/ipykernel_21257/2925908550.py:6: FutureWarning: The frame.append method is deprecated and will be removed from pandas in a future version. Use pandas.concat instead.\n",
      "  porec_stats=porec_stats.append(stat, ignore_index=True)\n"
     ]
    },
    {
     "name": "stdout",
     "output_type": "stream",
     "text": [
      "(0.8455338323513293, 0.0)\n",
      "SpearmanrResult(correlation=0.8271235196951551, pvalue=0.0)\n",
      "16\n"
     ]
    },
    {
     "name": "stderr",
     "output_type": "stream",
     "text": [
      "/tmp/ipykernel_21257/2925908550.py:6: FutureWarning: The frame.append method is deprecated and will be removed from pandas in a future version. Use pandas.concat instead.\n",
      "  porec_stats=porec_stats.append(stat, ignore_index=True)\n"
     ]
    },
    {
     "name": "stdout",
     "output_type": "stream",
     "text": [
      "(0.8789119606953595, 0.0)\n",
      "SpearmanrResult(correlation=0.8838228583902874, pvalue=0.0)\n",
      "17\n"
     ]
    },
    {
     "name": "stderr",
     "output_type": "stream",
     "text": [
      "/tmp/ipykernel_21257/2925908550.py:6: FutureWarning: The frame.append method is deprecated and will be removed from pandas in a future version. Use pandas.concat instead.\n",
      "  porec_stats=porec_stats.append(stat, ignore_index=True)\n"
     ]
    },
    {
     "name": "stdout",
     "output_type": "stream",
     "text": [
      "(0.8442112315367478, 0.0)\n",
      "SpearmanrResult(correlation=0.871104821407067, pvalue=0.0)\n",
      "18\n"
     ]
    },
    {
     "name": "stderr",
     "output_type": "stream",
     "text": [
      "/tmp/ipykernel_21257/2925908550.py:6: FutureWarning: The frame.append method is deprecated and will be removed from pandas in a future version. Use pandas.concat instead.\n",
      "  porec_stats=porec_stats.append(stat, ignore_index=True)\n"
     ]
    },
    {
     "name": "stdout",
     "output_type": "stream",
     "text": [
      "(0.8226649562940338, 0.0)\n",
      "SpearmanrResult(correlation=0.7708863937543118, pvalue=0.0)\n",
      "19\n"
     ]
    },
    {
     "name": "stderr",
     "output_type": "stream",
     "text": [
      "/tmp/ipykernel_21257/2925908550.py:6: FutureWarning: The frame.append method is deprecated and will be removed from pandas in a future version. Use pandas.concat instead.\n",
      "  porec_stats=porec_stats.append(stat, ignore_index=True)\n"
     ]
    },
    {
     "name": "stdout",
     "output_type": "stream",
     "text": [
      "(0.9199964180692951, 0.0)\n",
      "SpearmanrResult(correlation=0.9225954828958276, pvalue=0.0)\n",
      "20\n"
     ]
    },
    {
     "name": "stderr",
     "output_type": "stream",
     "text": [
      "/tmp/ipykernel_21257/2925908550.py:6: FutureWarning: The frame.append method is deprecated and will be removed from pandas in a future version. Use pandas.concat instead.\n",
      "  porec_stats=porec_stats.append(stat, ignore_index=True)\n"
     ]
    },
    {
     "name": "stdout",
     "output_type": "stream",
     "text": [
      "(0.8778428243100993, 0.0)\n",
      "SpearmanrResult(correlation=0.8437020281496148, pvalue=0.0)\n",
      "21\n"
     ]
    },
    {
     "name": "stderr",
     "output_type": "stream",
     "text": [
      "/tmp/ipykernel_21257/2925908550.py:6: FutureWarning: The frame.append method is deprecated and will be removed from pandas in a future version. Use pandas.concat instead.\n",
      "  porec_stats=porec_stats.append(stat, ignore_index=True)\n"
     ]
    },
    {
     "name": "stdout",
     "output_type": "stream",
     "text": [
      "(0.8953469259284302, 0.0)\n",
      "SpearmanrResult(correlation=0.8569474597679264, pvalue=0.0)\n",
      "22\n"
     ]
    },
    {
     "name": "stderr",
     "output_type": "stream",
     "text": [
      "/tmp/ipykernel_21257/2925908550.py:6: FutureWarning: The frame.append method is deprecated and will be removed from pandas in a future version. Use pandas.concat instead.\n",
      "  porec_stats=porec_stats.append(stat, ignore_index=True)\n"
     ]
    },
    {
     "name": "stdout",
     "output_type": "stream",
     "text": [
      "(0.8918778919936003, 0.0)\n",
      "SpearmanrResult(correlation=0.8809413191635348, pvalue=0.0)\n",
      "X\n"
     ]
    },
    {
     "name": "stderr",
     "output_type": "stream",
     "text": [
      "/tmp/ipykernel_21257/2925908550.py:6: FutureWarning: The frame.append method is deprecated and will be removed from pandas in a future version. Use pandas.concat instead.\n",
      "  porec_stats=porec_stats.append(stat, ignore_index=True)\n"
     ]
    },
    {
     "name": "stdout",
     "output_type": "stream",
     "text": [
      "(0.4412784415937254, 0.0)\n",
      "SpearmanrResult(correlation=0.39929899107408656, pvalue=0.0)\n"
     ]
    },
    {
     "name": "stderr",
     "output_type": "stream",
     "text": [
      "/tmp/ipykernel_21257/2925908550.py:6: FutureWarning: The frame.append method is deprecated and will be removed from pandas in a future version. Use pandas.concat instead.\n",
      "  porec_stats=porec_stats.append(stat, ignore_index=True)\n"
     ]
    }
   ],
   "source": [
    "porec_stats=pd.DataFrame()\n",
    "for c in chrs:\n",
    "    print(c)\n",
    "    E1_df,pr,sr=compare_2hap_diff(h1_file,h2_file,c)\n",
    "    stat=pd.DataFrame({'pr':abs(pr[0]),'sr':abs(sr[0])},index=[0])\n",
    "    porec_stats=porec_stats.append(stat, ignore_index=True)\n",
    "porec_stats['chrom']=chrs"
   ]
  },
  {
   "cell_type": "code",
   "execution_count": 14,
   "id": "ed4e0de0",
   "metadata": {
    "ExecuteTime": {
     "end_time": "2023-08-16T03:23:54.742461Z",
     "start_time": "2023-08-16T03:23:15.889604Z"
    },
    "scrolled": true
   },
   "outputs": [
    {
     "name": "stdout",
     "output_type": "stream",
     "text": [
      "1\n"
     ]
    },
    {
     "name": "stderr",
     "output_type": "stream",
     "text": [
      "/tmp/ipykernel_21257/3143931087.py:2: DtypeWarning: Columns (0,3) have mixed types. Specify dtype option on import or set low_memory=False.\n",
      "  h1=pd.read_csv(h1_file,sep='\\t')\n",
      "/tmp/ipykernel_21257/3143931087.py:6: DtypeWarning: Columns (0,3) have mixed types. Specify dtype option on import or set low_memory=False.\n",
      "  h2=pd.read_csv(h2_file,sep='\\t')\n"
     ]
    },
    {
     "name": "stdout",
     "output_type": "stream",
     "text": [
      "(0.8671006807153453, 0.0)\n",
      "SpearmanrResult(correlation=0.8900963095392032, pvalue=0.0)\n",
      "2\n"
     ]
    },
    {
     "name": "stderr",
     "output_type": "stream",
     "text": [
      "/tmp/ipykernel_21257/688361255.py:6: FutureWarning: The frame.append method is deprecated and will be removed from pandas in a future version. Use pandas.concat instead.\n",
      "  hic_stats=hic_stats.append(stat, ignore_index=True)\n",
      "/tmp/ipykernel_21257/3143931087.py:2: DtypeWarning: Columns (0,3) have mixed types. Specify dtype option on import or set low_memory=False.\n",
      "  h1=pd.read_csv(h1_file,sep='\\t')\n",
      "/tmp/ipykernel_21257/3143931087.py:6: DtypeWarning: Columns (0,3) have mixed types. Specify dtype option on import or set low_memory=False.\n",
      "  h2=pd.read_csv(h2_file,sep='\\t')\n"
     ]
    },
    {
     "name": "stdout",
     "output_type": "stream",
     "text": [
      "(0.834324629122751, 0.0)\n",
      "SpearmanrResult(correlation=0.8606893767565268, pvalue=0.0)\n",
      "3\n"
     ]
    },
    {
     "name": "stderr",
     "output_type": "stream",
     "text": [
      "/tmp/ipykernel_21257/688361255.py:6: FutureWarning: The frame.append method is deprecated and will be removed from pandas in a future version. Use pandas.concat instead.\n",
      "  hic_stats=hic_stats.append(stat, ignore_index=True)\n",
      "/tmp/ipykernel_21257/3143931087.py:2: DtypeWarning: Columns (0,3) have mixed types. Specify dtype option on import or set low_memory=False.\n",
      "  h1=pd.read_csv(h1_file,sep='\\t')\n",
      "/tmp/ipykernel_21257/3143931087.py:6: DtypeWarning: Columns (0,3) have mixed types. Specify dtype option on import or set low_memory=False.\n",
      "  h2=pd.read_csv(h2_file,sep='\\t')\n"
     ]
    },
    {
     "name": "stdout",
     "output_type": "stream",
     "text": [
      "(0.8473995506381398, 0.0)\n",
      "SpearmanrResult(correlation=0.866779975219292, pvalue=0.0)\n",
      "4\n"
     ]
    },
    {
     "name": "stderr",
     "output_type": "stream",
     "text": [
      "/tmp/ipykernel_21257/688361255.py:6: FutureWarning: The frame.append method is deprecated and will be removed from pandas in a future version. Use pandas.concat instead.\n",
      "  hic_stats=hic_stats.append(stat, ignore_index=True)\n",
      "/tmp/ipykernel_21257/3143931087.py:2: DtypeWarning: Columns (0,3) have mixed types. Specify dtype option on import or set low_memory=False.\n",
      "  h1=pd.read_csv(h1_file,sep='\\t')\n",
      "/tmp/ipykernel_21257/3143931087.py:6: DtypeWarning: Columns (0,3) have mixed types. Specify dtype option on import or set low_memory=False.\n",
      "  h2=pd.read_csv(h2_file,sep='\\t')\n"
     ]
    },
    {
     "name": "stdout",
     "output_type": "stream",
     "text": [
      "(0.8151370089300625, 0.0)\n",
      "SpearmanrResult(correlation=0.842041647629185, pvalue=0.0)\n",
      "5\n"
     ]
    },
    {
     "name": "stderr",
     "output_type": "stream",
     "text": [
      "/tmp/ipykernel_21257/688361255.py:6: FutureWarning: The frame.append method is deprecated and will be removed from pandas in a future version. Use pandas.concat instead.\n",
      "  hic_stats=hic_stats.append(stat, ignore_index=True)\n",
      "/tmp/ipykernel_21257/3143931087.py:2: DtypeWarning: Columns (0,3) have mixed types. Specify dtype option on import or set low_memory=False.\n",
      "  h1=pd.read_csv(h1_file,sep='\\t')\n",
      "/tmp/ipykernel_21257/3143931087.py:6: DtypeWarning: Columns (0,3) have mixed types. Specify dtype option on import or set low_memory=False.\n",
      "  h2=pd.read_csv(h2_file,sep='\\t')\n"
     ]
    },
    {
     "name": "stdout",
     "output_type": "stream",
     "text": [
      "(0.8420682879828327, 0.0)\n",
      "SpearmanrResult(correlation=0.8611401491718915, pvalue=0.0)\n",
      "6\n"
     ]
    },
    {
     "name": "stderr",
     "output_type": "stream",
     "text": [
      "/tmp/ipykernel_21257/688361255.py:6: FutureWarning: The frame.append method is deprecated and will be removed from pandas in a future version. Use pandas.concat instead.\n",
      "  hic_stats=hic_stats.append(stat, ignore_index=True)\n",
      "/tmp/ipykernel_21257/3143931087.py:2: DtypeWarning: Columns (0,3) have mixed types. Specify dtype option on import or set low_memory=False.\n",
      "  h1=pd.read_csv(h1_file,sep='\\t')\n",
      "/tmp/ipykernel_21257/3143931087.py:6: DtypeWarning: Columns (0,3) have mixed types. Specify dtype option on import or set low_memory=False.\n",
      "  h2=pd.read_csv(h2_file,sep='\\t')\n"
     ]
    },
    {
     "name": "stdout",
     "output_type": "stream",
     "text": [
      "(0.8666231317749667, 0.0)\n",
      "SpearmanrResult(correlation=0.88776487611973, pvalue=0.0)\n",
      "7\n"
     ]
    },
    {
     "name": "stderr",
     "output_type": "stream",
     "text": [
      "/tmp/ipykernel_21257/688361255.py:6: FutureWarning: The frame.append method is deprecated and will be removed from pandas in a future version. Use pandas.concat instead.\n",
      "  hic_stats=hic_stats.append(stat, ignore_index=True)\n",
      "/tmp/ipykernel_21257/3143931087.py:2: DtypeWarning: Columns (0,3) have mixed types. Specify dtype option on import or set low_memory=False.\n",
      "  h1=pd.read_csv(h1_file,sep='\\t')\n",
      "/tmp/ipykernel_21257/3143931087.py:6: DtypeWarning: Columns (0,3) have mixed types. Specify dtype option on import or set low_memory=False.\n",
      "  h2=pd.read_csv(h2_file,sep='\\t')\n"
     ]
    },
    {
     "name": "stdout",
     "output_type": "stream",
     "text": [
      "(0.847536992279091, 0.0)\n",
      "SpearmanrResult(correlation=0.8775814547954726, pvalue=0.0)\n",
      "8\n"
     ]
    },
    {
     "name": "stderr",
     "output_type": "stream",
     "text": [
      "/tmp/ipykernel_21257/688361255.py:6: FutureWarning: The frame.append method is deprecated and will be removed from pandas in a future version. Use pandas.concat instead.\n",
      "  hic_stats=hic_stats.append(stat, ignore_index=True)\n",
      "/tmp/ipykernel_21257/3143931087.py:2: DtypeWarning: Columns (0,3) have mixed types. Specify dtype option on import or set low_memory=False.\n",
      "  h1=pd.read_csv(h1_file,sep='\\t')\n",
      "/tmp/ipykernel_21257/3143931087.py:6: DtypeWarning: Columns (0,3) have mixed types. Specify dtype option on import or set low_memory=False.\n",
      "  h2=pd.read_csv(h2_file,sep='\\t')\n"
     ]
    },
    {
     "name": "stdout",
     "output_type": "stream",
     "text": [
      "(0.8462845085575983, 0.0)\n",
      "SpearmanrResult(correlation=0.8759011039104635, pvalue=0.0)\n",
      "9\n"
     ]
    },
    {
     "name": "stderr",
     "output_type": "stream",
     "text": [
      "/tmp/ipykernel_21257/688361255.py:6: FutureWarning: The frame.append method is deprecated and will be removed from pandas in a future version. Use pandas.concat instead.\n",
      "  hic_stats=hic_stats.append(stat, ignore_index=True)\n",
      "/tmp/ipykernel_21257/3143931087.py:2: DtypeWarning: Columns (0,3) have mixed types. Specify dtype option on import or set low_memory=False.\n",
      "  h1=pd.read_csv(h1_file,sep='\\t')\n",
      "/tmp/ipykernel_21257/3143931087.py:6: DtypeWarning: Columns (0,3) have mixed types. Specify dtype option on import or set low_memory=False.\n",
      "  h2=pd.read_csv(h2_file,sep='\\t')\n"
     ]
    },
    {
     "name": "stdout",
     "output_type": "stream",
     "text": [
      "(0.8399770041012371, 0.0)\n",
      "SpearmanrResult(correlation=0.8738668552925787, pvalue=0.0)\n",
      "10\n"
     ]
    },
    {
     "name": "stderr",
     "output_type": "stream",
     "text": [
      "/tmp/ipykernel_21257/688361255.py:6: FutureWarning: The frame.append method is deprecated and will be removed from pandas in a future version. Use pandas.concat instead.\n",
      "  hic_stats=hic_stats.append(stat, ignore_index=True)\n",
      "/tmp/ipykernel_21257/3143931087.py:2: DtypeWarning: Columns (0,3) have mixed types. Specify dtype option on import or set low_memory=False.\n",
      "  h1=pd.read_csv(h1_file,sep='\\t')\n",
      "/tmp/ipykernel_21257/3143931087.py:6: DtypeWarning: Columns (0,3) have mixed types. Specify dtype option on import or set low_memory=False.\n",
      "  h2=pd.read_csv(h2_file,sep='\\t')\n"
     ]
    },
    {
     "name": "stdout",
     "output_type": "stream",
     "text": [
      "(0.8547117538876079, 0.0)\n",
      "SpearmanrResult(correlation=0.8829220460053773, pvalue=0.0)\n",
      "11\n"
     ]
    },
    {
     "name": "stderr",
     "output_type": "stream",
     "text": [
      "/tmp/ipykernel_21257/688361255.py:6: FutureWarning: The frame.append method is deprecated and will be removed from pandas in a future version. Use pandas.concat instead.\n",
      "  hic_stats=hic_stats.append(stat, ignore_index=True)\n",
      "/tmp/ipykernel_21257/3143931087.py:2: DtypeWarning: Columns (0,3) have mixed types. Specify dtype option on import or set low_memory=False.\n",
      "  h1=pd.read_csv(h1_file,sep='\\t')\n",
      "/tmp/ipykernel_21257/3143931087.py:6: DtypeWarning: Columns (0,3) have mixed types. Specify dtype option on import or set low_memory=False.\n",
      "  h2=pd.read_csv(h2_file,sep='\\t')\n"
     ]
    },
    {
     "name": "stdout",
     "output_type": "stream",
     "text": [
      "(0.8608472138930928, 0.0)\n",
      "SpearmanrResult(correlation=0.8875578568095753, pvalue=0.0)\n",
      "12\n"
     ]
    },
    {
     "name": "stderr",
     "output_type": "stream",
     "text": [
      "/tmp/ipykernel_21257/688361255.py:6: FutureWarning: The frame.append method is deprecated and will be removed from pandas in a future version. Use pandas.concat instead.\n",
      "  hic_stats=hic_stats.append(stat, ignore_index=True)\n",
      "/tmp/ipykernel_21257/3143931087.py:2: DtypeWarning: Columns (0,3) have mixed types. Specify dtype option on import or set low_memory=False.\n",
      "  h1=pd.read_csv(h1_file,sep='\\t')\n",
      "/tmp/ipykernel_21257/3143931087.py:6: DtypeWarning: Columns (0,3) have mixed types. Specify dtype option on import or set low_memory=False.\n",
      "  h2=pd.read_csv(h2_file,sep='\\t')\n"
     ]
    },
    {
     "name": "stdout",
     "output_type": "stream",
     "text": [
      "(0.8585589552565742, 0.0)\n",
      "SpearmanrResult(correlation=0.8754644733166747, pvalue=0.0)\n",
      "13\n"
     ]
    },
    {
     "name": "stderr",
     "output_type": "stream",
     "text": [
      "/tmp/ipykernel_21257/688361255.py:6: FutureWarning: The frame.append method is deprecated and will be removed from pandas in a future version. Use pandas.concat instead.\n",
      "  hic_stats=hic_stats.append(stat, ignore_index=True)\n",
      "/tmp/ipykernel_21257/3143931087.py:2: DtypeWarning: Columns (0,3) have mixed types. Specify dtype option on import or set low_memory=False.\n",
      "  h1=pd.read_csv(h1_file,sep='\\t')\n",
      "/tmp/ipykernel_21257/3143931087.py:6: DtypeWarning: Columns (0,3) have mixed types. Specify dtype option on import or set low_memory=False.\n",
      "  h2=pd.read_csv(h2_file,sep='\\t')\n"
     ]
    },
    {
     "name": "stdout",
     "output_type": "stream",
     "text": [
      "(0.8596342183358893, 0.0)\n",
      "SpearmanrResult(correlation=0.8597218483117078, pvalue=0.0)\n",
      "14\n"
     ]
    },
    {
     "name": "stderr",
     "output_type": "stream",
     "text": [
      "/tmp/ipykernel_21257/688361255.py:6: FutureWarning: The frame.append method is deprecated and will be removed from pandas in a future version. Use pandas.concat instead.\n",
      "  hic_stats=hic_stats.append(stat, ignore_index=True)\n",
      "/tmp/ipykernel_21257/3143931087.py:2: DtypeWarning: Columns (0,3) have mixed types. Specify dtype option on import or set low_memory=False.\n",
      "  h1=pd.read_csv(h1_file,sep='\\t')\n",
      "/tmp/ipykernel_21257/3143931087.py:6: DtypeWarning: Columns (0,3) have mixed types. Specify dtype option on import or set low_memory=False.\n",
      "  h2=pd.read_csv(h2_file,sep='\\t')\n"
     ]
    },
    {
     "name": "stdout",
     "output_type": "stream",
     "text": [
      "(0.8616119276451302, 0.0)\n",
      "SpearmanrResult(correlation=0.8911332285626123, pvalue=0.0)\n",
      "15\n"
     ]
    },
    {
     "name": "stderr",
     "output_type": "stream",
     "text": [
      "/tmp/ipykernel_21257/688361255.py:6: FutureWarning: The frame.append method is deprecated and will be removed from pandas in a future version. Use pandas.concat instead.\n",
      "  hic_stats=hic_stats.append(stat, ignore_index=True)\n",
      "/tmp/ipykernel_21257/3143931087.py:2: DtypeWarning: Columns (0,3) have mixed types. Specify dtype option on import or set low_memory=False.\n",
      "  h1=pd.read_csv(h1_file,sep='\\t')\n",
      "/tmp/ipykernel_21257/3143931087.py:6: DtypeWarning: Columns (0,3) have mixed types. Specify dtype option on import or set low_memory=False.\n",
      "  h2=pd.read_csv(h2_file,sep='\\t')\n"
     ]
    },
    {
     "name": "stdout",
     "output_type": "stream",
     "text": [
      "(0.8458565148706527, 0.0)\n",
      "SpearmanrResult(correlation=0.8751067381077487, pvalue=0.0)\n",
      "16\n"
     ]
    },
    {
     "name": "stderr",
     "output_type": "stream",
     "text": [
      "/tmp/ipykernel_21257/688361255.py:6: FutureWarning: The frame.append method is deprecated and will be removed from pandas in a future version. Use pandas.concat instead.\n",
      "  hic_stats=hic_stats.append(stat, ignore_index=True)\n",
      "/tmp/ipykernel_21257/3143931087.py:2: DtypeWarning: Columns (0,3) have mixed types. Specify dtype option on import or set low_memory=False.\n",
      "  h1=pd.read_csv(h1_file,sep='\\t')\n",
      "/tmp/ipykernel_21257/3143931087.py:6: DtypeWarning: Columns (0,3) have mixed types. Specify dtype option on import or set low_memory=False.\n",
      "  h2=pd.read_csv(h2_file,sep='\\t')\n"
     ]
    },
    {
     "name": "stdout",
     "output_type": "stream",
     "text": [
      "(0.8561114616266425, 0.0)\n",
      "SpearmanrResult(correlation=0.8848730481473701, pvalue=0.0)\n",
      "17\n"
     ]
    },
    {
     "name": "stderr",
     "output_type": "stream",
     "text": [
      "/tmp/ipykernel_21257/688361255.py:6: FutureWarning: The frame.append method is deprecated and will be removed from pandas in a future version. Use pandas.concat instead.\n",
      "  hic_stats=hic_stats.append(stat, ignore_index=True)\n",
      "/tmp/ipykernel_21257/3143931087.py:2: DtypeWarning: Columns (0,3) have mixed types. Specify dtype option on import or set low_memory=False.\n",
      "  h1=pd.read_csv(h1_file,sep='\\t')\n",
      "/tmp/ipykernel_21257/3143931087.py:6: DtypeWarning: Columns (0,3) have mixed types. Specify dtype option on import or set low_memory=False.\n",
      "  h2=pd.read_csv(h2_file,sep='\\t')\n"
     ]
    },
    {
     "name": "stdout",
     "output_type": "stream",
     "text": [
      "(0.8721132056103779, 0.0)\n",
      "SpearmanrResult(correlation=0.8966561006356625, pvalue=0.0)\n",
      "18\n"
     ]
    },
    {
     "name": "stderr",
     "output_type": "stream",
     "text": [
      "/tmp/ipykernel_21257/688361255.py:6: FutureWarning: The frame.append method is deprecated and will be removed from pandas in a future version. Use pandas.concat instead.\n",
      "  hic_stats=hic_stats.append(stat, ignore_index=True)\n",
      "/tmp/ipykernel_21257/3143931087.py:2: DtypeWarning: Columns (0,3) have mixed types. Specify dtype option on import or set low_memory=False.\n",
      "  h1=pd.read_csv(h1_file,sep='\\t')\n",
      "/tmp/ipykernel_21257/3143931087.py:6: DtypeWarning: Columns (0,3) have mixed types. Specify dtype option on import or set low_memory=False.\n",
      "  h2=pd.read_csv(h2_file,sep='\\t')\n"
     ]
    },
    {
     "name": "stdout",
     "output_type": "stream",
     "text": [
      "(0.8672851871592814, 0.0)\n",
      "SpearmanrResult(correlation=0.8788665121850006, pvalue=0.0)\n",
      "19\n"
     ]
    },
    {
     "name": "stderr",
     "output_type": "stream",
     "text": [
      "/tmp/ipykernel_21257/688361255.py:6: FutureWarning: The frame.append method is deprecated and will be removed from pandas in a future version. Use pandas.concat instead.\n",
      "  hic_stats=hic_stats.append(stat, ignore_index=True)\n",
      "/tmp/ipykernel_21257/3143931087.py:2: DtypeWarning: Columns (0,3) have mixed types. Specify dtype option on import or set low_memory=False.\n",
      "  h1=pd.read_csv(h1_file,sep='\\t')\n",
      "/tmp/ipykernel_21257/3143931087.py:6: DtypeWarning: Columns (0,3) have mixed types. Specify dtype option on import or set low_memory=False.\n",
      "  h2=pd.read_csv(h2_file,sep='\\t')\n"
     ]
    },
    {
     "name": "stdout",
     "output_type": "stream",
     "text": [
      "(0.9183463891504422, 0.0)\n",
      "SpearmanrResult(correlation=0.9322220623229825, pvalue=0.0)\n",
      "20\n"
     ]
    },
    {
     "name": "stderr",
     "output_type": "stream",
     "text": [
      "/tmp/ipykernel_21257/688361255.py:6: FutureWarning: The frame.append method is deprecated and will be removed from pandas in a future version. Use pandas.concat instead.\n",
      "  hic_stats=hic_stats.append(stat, ignore_index=True)\n",
      "/tmp/ipykernel_21257/3143931087.py:2: DtypeWarning: Columns (0,3) have mixed types. Specify dtype option on import or set low_memory=False.\n",
      "  h1=pd.read_csv(h1_file,sep='\\t')\n",
      "/tmp/ipykernel_21257/3143931087.py:6: DtypeWarning: Columns (0,3) have mixed types. Specify dtype option on import or set low_memory=False.\n",
      "  h2=pd.read_csv(h2_file,sep='\\t')\n"
     ]
    },
    {
     "name": "stdout",
     "output_type": "stream",
     "text": [
      "(0.898862274760676, 0.0)\n",
      "SpearmanrResult(correlation=0.909097267920049, pvalue=0.0)\n",
      "21\n"
     ]
    },
    {
     "name": "stderr",
     "output_type": "stream",
     "text": [
      "/tmp/ipykernel_21257/688361255.py:6: FutureWarning: The frame.append method is deprecated and will be removed from pandas in a future version. Use pandas.concat instead.\n",
      "  hic_stats=hic_stats.append(stat, ignore_index=True)\n",
      "/tmp/ipykernel_21257/3143931087.py:2: DtypeWarning: Columns (0,3) have mixed types. Specify dtype option on import or set low_memory=False.\n",
      "  h1=pd.read_csv(h1_file,sep='\\t')\n",
      "/tmp/ipykernel_21257/3143931087.py:6: DtypeWarning: Columns (0,3) have mixed types. Specify dtype option on import or set low_memory=False.\n",
      "  h2=pd.read_csv(h2_file,sep='\\t')\n"
     ]
    },
    {
     "name": "stdout",
     "output_type": "stream",
     "text": [
      "(0.8692871556672321, 0.0)\n",
      "SpearmanrResult(correlation=0.8879238357423389, pvalue=0.0)\n",
      "22\n"
     ]
    },
    {
     "name": "stderr",
     "output_type": "stream",
     "text": [
      "/tmp/ipykernel_21257/688361255.py:6: FutureWarning: The frame.append method is deprecated and will be removed from pandas in a future version. Use pandas.concat instead.\n",
      "  hic_stats=hic_stats.append(stat, ignore_index=True)\n",
      "/tmp/ipykernel_21257/3143931087.py:2: DtypeWarning: Columns (0,3) have mixed types. Specify dtype option on import or set low_memory=False.\n",
      "  h1=pd.read_csv(h1_file,sep='\\t')\n",
      "/tmp/ipykernel_21257/3143931087.py:6: DtypeWarning: Columns (0,3) have mixed types. Specify dtype option on import or set low_memory=False.\n",
      "  h2=pd.read_csv(h2_file,sep='\\t')\n"
     ]
    },
    {
     "name": "stdout",
     "output_type": "stream",
     "text": [
      "(0.8911855117719232, 0.0)\n",
      "SpearmanrResult(correlation=0.9092172675218878, pvalue=0.0)\n",
      "X\n"
     ]
    },
    {
     "name": "stderr",
     "output_type": "stream",
     "text": [
      "/tmp/ipykernel_21257/688361255.py:6: FutureWarning: The frame.append method is deprecated and will be removed from pandas in a future version. Use pandas.concat instead.\n",
      "  hic_stats=hic_stats.append(stat, ignore_index=True)\n",
      "/tmp/ipykernel_21257/3143931087.py:2: DtypeWarning: Columns (0,3) have mixed types. Specify dtype option on import or set low_memory=False.\n",
      "  h1=pd.read_csv(h1_file,sep='\\t')\n",
      "/tmp/ipykernel_21257/3143931087.py:6: DtypeWarning: Columns (0,3) have mixed types. Specify dtype option on import or set low_memory=False.\n",
      "  h2=pd.read_csv(h2_file,sep='\\t')\n"
     ]
    },
    {
     "name": "stdout",
     "output_type": "stream",
     "text": [
      "(0.7147236073446366, 0.0)\n",
      "SpearmanrResult(correlation=0.7384429972044283, pvalue=0.0)\n"
     ]
    },
    {
     "name": "stderr",
     "output_type": "stream",
     "text": [
      "/tmp/ipykernel_21257/688361255.py:6: FutureWarning: The frame.append method is deprecated and will be removed from pandas in a future version. Use pandas.concat instead.\n",
      "  hic_stats=hic_stats.append(stat, ignore_index=True)\n"
     ]
    }
   ],
   "source": [
    "hic_stats=pd.DataFrame()\n",
    "for c in chrs:\n",
    "    print(c)\n",
    "    E1_df,pr,sr=compare_2hap_diff(ma_file,pa_file,c)\n",
    "    stat=pd.DataFrame({'pr':abs(pr[0]),'sr':abs(sr[0])},index=[0])\n",
    "    hic_stats=hic_stats.append(stat, ignore_index=True)\n",
    "hic_stats['chrom']=chrs"
   ]
  },
  {
   "cell_type": "code",
   "execution_count": 15,
   "id": "2f601aa3",
   "metadata": {
    "ExecuteTime": {
     "end_time": "2023-08-16T03:24:01.833600Z",
     "start_time": "2023-08-16T03:24:01.824092Z"
    }
   },
   "outputs": [
    {
     "name": "stdout",
     "output_type": "stream",
     "text": [
      "(0.9061973129592518, 2.657269280285389e-09)\n",
      "SpearmanrResult(correlation=0.6126482213438735, pvalue=0.0018850711980784925)\n"
     ]
    }
   ],
   "source": [
    "    # Correlation\n",
    "    pr = stats.pearsonr( hic_stats.pr.values, porec_stats.pr.values)\n",
    "    sr = stats.spearmanr( hic_stats.pr.values, porec_stats.pr.values)\n",
    "    print(pr)\n",
    "    print(sr)"
   ]
  },
  {
   "cell_type": "code",
   "execution_count": 16,
   "id": "df1612d0",
   "metadata": {
    "ExecuteTime": {
     "end_time": "2023-08-16T03:24:12.509781Z",
     "start_time": "2023-08-16T03:24:12.493458Z"
    },
    "scrolled": true
   },
   "outputs": [
    {
     "data": {
      "text/html": [
       "<div>\n",
       "<style scoped>\n",
       "    .dataframe tbody tr th:only-of-type {\n",
       "        vertical-align: middle;\n",
       "    }\n",
       "\n",
       "    .dataframe tbody tr th {\n",
       "        vertical-align: top;\n",
       "    }\n",
       "\n",
       "    .dataframe thead th {\n",
       "        text-align: right;\n",
       "    }\n",
       "</style>\n",
       "<table border=\"1\" class=\"dataframe\">\n",
       "  <thead>\n",
       "    <tr style=\"text-align: right;\">\n",
       "      <th></th>\n",
       "      <th>hic</th>\n",
       "      <th>porec</th>\n",
       "      <th>chrom</th>\n",
       "    </tr>\n",
       "  </thead>\n",
       "  <tbody>\n",
       "    <tr>\n",
       "      <th>0</th>\n",
       "      <td>0.867101</td>\n",
       "      <td>0.857204</td>\n",
       "      <td>1</td>\n",
       "    </tr>\n",
       "    <tr>\n",
       "      <th>1</th>\n",
       "      <td>0.834325</td>\n",
       "      <td>0.823644</td>\n",
       "      <td>2</td>\n",
       "    </tr>\n",
       "    <tr>\n",
       "      <th>2</th>\n",
       "      <td>0.847400</td>\n",
       "      <td>0.815908</td>\n",
       "      <td>3</td>\n",
       "    </tr>\n",
       "    <tr>\n",
       "      <th>3</th>\n",
       "      <td>0.815137</td>\n",
       "      <td>0.798325</td>\n",
       "      <td>4</td>\n",
       "    </tr>\n",
       "    <tr>\n",
       "      <th>4</th>\n",
       "      <td>0.842068</td>\n",
       "      <td>0.824539</td>\n",
       "      <td>5</td>\n",
       "    </tr>\n",
       "    <tr>\n",
       "      <th>5</th>\n",
       "      <td>0.866623</td>\n",
       "      <td>0.857598</td>\n",
       "      <td>6</td>\n",
       "    </tr>\n",
       "    <tr>\n",
       "      <th>6</th>\n",
       "      <td>0.847537</td>\n",
       "      <td>0.808125</td>\n",
       "      <td>7</td>\n",
       "    </tr>\n",
       "    <tr>\n",
       "      <th>7</th>\n",
       "      <td>0.846285</td>\n",
       "      <td>0.849918</td>\n",
       "      <td>8</td>\n",
       "    </tr>\n",
       "    <tr>\n",
       "      <th>8</th>\n",
       "      <td>0.839977</td>\n",
       "      <td>0.863729</td>\n",
       "      <td>9</td>\n",
       "    </tr>\n",
       "    <tr>\n",
       "      <th>9</th>\n",
       "      <td>0.854712</td>\n",
       "      <td>0.846126</td>\n",
       "      <td>10</td>\n",
       "    </tr>\n",
       "    <tr>\n",
       "      <th>10</th>\n",
       "      <td>0.860847</td>\n",
       "      <td>0.855357</td>\n",
       "      <td>11</td>\n",
       "    </tr>\n",
       "    <tr>\n",
       "      <th>11</th>\n",
       "      <td>0.858559</td>\n",
       "      <td>0.878354</td>\n",
       "      <td>12</td>\n",
       "    </tr>\n",
       "    <tr>\n",
       "      <th>12</th>\n",
       "      <td>0.859634</td>\n",
       "      <td>0.812825</td>\n",
       "      <td>13</td>\n",
       "    </tr>\n",
       "    <tr>\n",
       "      <th>13</th>\n",
       "      <td>0.861612</td>\n",
       "      <td>0.894138</td>\n",
       "      <td>14</td>\n",
       "    </tr>\n",
       "    <tr>\n",
       "      <th>14</th>\n",
       "      <td>0.845857</td>\n",
       "      <td>0.845534</td>\n",
       "      <td>15</td>\n",
       "    </tr>\n",
       "    <tr>\n",
       "      <th>15</th>\n",
       "      <td>0.856111</td>\n",
       "      <td>0.878912</td>\n",
       "      <td>16</td>\n",
       "    </tr>\n",
       "    <tr>\n",
       "      <th>16</th>\n",
       "      <td>0.872113</td>\n",
       "      <td>0.844211</td>\n",
       "      <td>17</td>\n",
       "    </tr>\n",
       "    <tr>\n",
       "      <th>17</th>\n",
       "      <td>0.867285</td>\n",
       "      <td>0.822665</td>\n",
       "      <td>18</td>\n",
       "    </tr>\n",
       "    <tr>\n",
       "      <th>18</th>\n",
       "      <td>0.918346</td>\n",
       "      <td>0.919996</td>\n",
       "      <td>19</td>\n",
       "    </tr>\n",
       "    <tr>\n",
       "      <th>19</th>\n",
       "      <td>0.898862</td>\n",
       "      <td>0.877843</td>\n",
       "      <td>20</td>\n",
       "    </tr>\n",
       "    <tr>\n",
       "      <th>20</th>\n",
       "      <td>0.869287</td>\n",
       "      <td>0.895347</td>\n",
       "      <td>21</td>\n",
       "    </tr>\n",
       "    <tr>\n",
       "      <th>21</th>\n",
       "      <td>0.891186</td>\n",
       "      <td>0.891878</td>\n",
       "      <td>22</td>\n",
       "    </tr>\n",
       "    <tr>\n",
       "      <th>22</th>\n",
       "      <td>0.714724</td>\n",
       "      <td>0.441278</td>\n",
       "      <td>X</td>\n",
       "    </tr>\n",
       "  </tbody>\n",
       "</table>\n",
       "</div>"
      ],
      "text/plain": [
       "         hic     porec chrom\n",
       "0   0.867101  0.857204     1\n",
       "1   0.834325  0.823644     2\n",
       "2   0.847400  0.815908     3\n",
       "3   0.815137  0.798325     4\n",
       "4   0.842068  0.824539     5\n",
       "5   0.866623  0.857598     6\n",
       "6   0.847537  0.808125     7\n",
       "7   0.846285  0.849918     8\n",
       "8   0.839977  0.863729     9\n",
       "9   0.854712  0.846126    10\n",
       "10  0.860847  0.855357    11\n",
       "11  0.858559  0.878354    12\n",
       "12  0.859634  0.812825    13\n",
       "13  0.861612  0.894138    14\n",
       "14  0.845857  0.845534    15\n",
       "15  0.856111  0.878912    16\n",
       "16  0.872113  0.844211    17\n",
       "17  0.867285  0.822665    18\n",
       "18  0.918346  0.919996    19\n",
       "19  0.898862  0.877843    20\n",
       "20  0.869287  0.895347    21\n",
       "21  0.891186  0.891878    22\n",
       "22  0.714724  0.441278     X"
      ]
     },
     "execution_count": 16,
     "metadata": {},
     "output_type": "execute_result"
    }
   ],
   "source": [
    "df=pd.DataFrame({'hic':hic_stats['pr'],'porec':porec_stats['pr'],'chrom':chrs})\n",
    "df#.head()"
   ]
  },
  {
   "cell_type": "code",
   "execution_count": 17,
   "id": "c4aba59e",
   "metadata": {
    "ExecuteTime": {
     "end_time": "2023-08-16T03:24:33.922290Z",
     "start_time": "2023-08-16T03:24:33.917923Z"
    }
   },
   "outputs": [],
   "source": [
    "outdir=\"/data2/Hap3D_Figures/pdf/\""
   ]
  },
  {
   "cell_type": "code",
   "execution_count": 18,
   "id": "ba05d7d4",
   "metadata": {
    "ExecuteTime": {
     "end_time": "2023-08-16T03:24:35.661447Z",
     "start_time": "2023-08-16T03:24:35.580146Z"
    }
   },
   "outputs": [
    {
     "name": "stdout",
     "output_type": "stream",
     "text": [
      "y=2.2239*x+-1.0637\n",
      "eval 0.8211935700145683\n"
     ]
    }
   ],
   "source": [
    "X=hic_stats['pr']\n",
    "Y=porec_stats['pr']\n",
    "X_train=np.array(X).reshape((len(X),1))\n",
    "Y_train=np.array(Y).reshape((len(Y),1))\n",
    "\n",
    "lineModel = LinearRegression()\n",
    "lineModel.fit(X_train,Y_train)\n",
    "\n",
    "Y_predict=lineModel.predict(X_train)\n",
    "\n",
    "a1 = lineModel.coef_[0][0]\n",
    "b = lineModel.intercept_[0]\n",
    "print(\"y=%.4f*x+%.4f\" % (a1,b))\n",
    "print(\"eval\",lineModel.score(X_train,Y_train))"
   ]
  },
  {
   "cell_type": "code",
   "execution_count": 22,
   "id": "7efe3cdc",
   "metadata": {
    "ExecuteTime": {
     "end_time": "2023-08-16T03:26:27.246643Z",
     "start_time": "2023-08-16T03:26:26.940967Z"
    }
   },
   "outputs": [
    {
     "data": {
      "image/png": "[encoded data removed]",
      "text/plain": [
       "<Figure size 400x400 with 1 Axes>"
      ]
     },
     "metadata": {},
     "output_type": "display_data"
    }
   ],
   "source": [
    "plt.figure(figsize = (4,4)) \n",
    "plt.scatter(hic_stats['pr'],porec_stats['pr'],c='k',s=10)\n",
    "plt.plot(X,Y_predict,c='r')\n",
    "plt.title(\"Insulation score \\n(10kb resolution 50kb window size)\")\n",
    "plt.xlabel(\"Hi-C\\nCorrelation between haplotypes\")\n",
    "plt.ylabel(\"Correlation between haplotypes\\nHiPore-C\")\n",
    "#plt.text(0.80,0.65, \"Pearson rho = %.3f\\nSpearman rho = %.3f\"%(pr[0],sr[0]), ha=\"left\", va=\"center\" )\n",
    "#plt.text(0.80,0.62, \"y=%.4f*x+%.4f\" % (a1,b), ha=\"left\", va=\"center\" )\n",
    "plt.text(0.85,0.50, \"R2=%.3f\" % (0.821), ha=\"left\", va=\"center\" )\n",
    "#plt.xlim(0.50,1.02)\n",
    "plt.ylim(0.40,1.02)\n",
    "fig=outdir+\"PoreC_vs_HiC.Insulation_score_10kb\"+\".haplotype_difference\"+\"_1.pdf\"\n",
    "plt.savefig(fig,bbox_inches = 'tight')"
   ]
  }
 ],
 "metadata": {
  "kernelspec": {
   "display_name": "Python 3 (ipykernel)",
   "language": "python",
   "name": "python3"
  },
  "language_info": {
   "codemirror_mode": {
    "name": "ipython",
    "version": 3
   },
   "file_extension": ".py",
   "mimetype": "text/x-python",
   "name": "python",
   "nbconvert_exporter": "python",
   "pygments_lexer": "ipython3",
   "version": "3.10.9"
  }
 },
 "nbformat": 4,
 "nbformat_minor": 5
}
