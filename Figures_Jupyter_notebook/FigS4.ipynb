{
 "cells": [
  {
   "cell_type": "code",
   "execution_count": 37,
   "id": "2cdd34ac",
   "metadata": {
    "ExecuteTime": {
     "end_time": "2024-06-20T14:00:22.752454Z",
     "start_time": "2024-06-20T14:00:22.747049Z"
    }
   },
   "outputs": [],
   "source": [
    "import warnings\n",
    "warnings.filterwarnings('ignore')\n",
    "# The contact count numbers in Xa Xi specific loop region \n",
    "import pandas as pd"
   ]
  },
  {
   "cell_type": "code",
   "execution_count": 29,
   "id": "15546687",
   "metadata": {
    "ExecuteTime": {
     "end_time": "2024-06-20T09:55:57.357628Z",
     "start_time": "2024-06-20T09:55:55.994990Z"
    }
   },
   "outputs": [
    {
     "name": "stdout",
     "output_type": "stream",
     "text": [
      "WARNING: sun.reflect.Reflection.getCallerClass is not supported. This will impact performance.\n",
      "WARN [2024-06-20T17:55:56,631]  [Globals.java:138] [main]  Development mode is enabled\n",
      "WARNING: sun.reflect.Reflection.getCallerClass is not supported. This will impact performance.\n",
      "WARN [2024-06-20T17:55:57,242]  [Globals.java:138] [main]  Development mode is enabled\n"
     ]
    }
   ],
   "source": [
    "%%bash\n",
    "##hic\n",
    "hicfile=\"/data2/linzhuobin/Temp/hi-c_hg19/maternal/GSE63525_GM12878_diploid_maternal.hic\"  \n",
    "java -jar /home/zyserver/software/Juicebox/juicer_tools_1.22.01.jar dump observed NONE $hicfile X:114950000:115050000 X:130850000:130950000 BP 5000 chrX_maternal_loop.txt\n",
    "\n",
    "hicfile=\"/data2/linzhuobin/Temp/hi-c_hg19/paternal/GSE63525_GM12878_diploid_paternal.hic\" \n",
    "java -jar /home/zyserver/software/Juicebox/juicer_tools_1.22.01.jar dump observed NONE $hicfile X:114950000:115050000 X:130850000:130950000 BP 5000 chrX_paternal_loop.txt"
   ]
  },
  {
   "cell_type": "code",
   "execution_count": 31,
   "id": "43e6d4e4",
   "metadata": {
    "ExecuteTime": {
     "end_time": "2024-06-20T09:56:18.997566Z",
     "start_time": "2024-06-20T09:56:18.992639Z"
    }
   },
   "outputs": [],
   "source": [
    "# %%bash\n",
    "# # hic\n",
    "# hicfile=\"/data2/linzhuobin/Temp/hi-c_hg19/maternal/GSE63525_GM12878_diploid_maternal.hic\"  \n",
    "# java -jar /home/zyserver/software/Juicebox/juicer_tools_1.22.01.jar dump observed NONE $hicfile X:114900000:115100000 X:130800000:131000000 BP 5000 chrX_maternal_loop.txt\n",
    "\n",
    "# hicfile=\"/data2/linzhuobin/Temp/hi-c_hg19/paternal/GSE63525_GM12878_diploid_paternal.hic\" \n",
    "# java -jar /home/zyserver/software/Juicebox/juicer_tools_1.22.01.jar dump observed NONE $hicfile X:114900000:115100000 X:130800000:131000000 BP 5000 chrX_paternal_loop.txt"
   ]
  },
  {
   "cell_type": "code",
   "execution_count": 30,
   "id": "c35f064e",
   "metadata": {
    "ExecuteTime": {
     "end_time": "2024-06-20T09:56:16.138950Z",
     "start_time": "2024-06-20T09:56:16.133489Z"
    }
   },
   "outputs": [],
   "source": [
    "# # Hi-C  X:114900000:115100000 X:130800000:131000000\n",
    "# def Hic_contacts(filename):\n",
    "#     with open(filename, 'r') as file:\n",
    "#         total_contacts = 0\n",
    "#         for line in file:\n",
    "#             parts = line.strip().split()\n",
    "#             # 假设contacts数在每行的最后一个位置\n",
    "#             contacts = float(parts[-1])\n",
    "#             total_contacts += contacts\n",
    "#     total_contacts = int(total_contacts)\n",
    "#     print(f\"{filename}: { total_contacts }\")\n",
    "#     return(total_contacts)\n",
    "\n",
    "# mc = Hic_contacts(\"chrX_maternal_loop.txt\")\n",
    "# pc = Hic_contacts(\"chrX_paternal_loop.txt\")\n",
    "# print(f\"Hi-C p/m:{pc/mc:.3f}\")"
   ]
  },
  {
   "cell_type": "code",
   "execution_count": 77,
   "id": "c3d8222d",
   "metadata": {
    "ExecuteTime": {
     "end_time": "2024-04-08T07:58:46.073813Z",
     "start_time": "2024-04-08T07:58:46.063273Z"
    }
   },
   "outputs": [
    {
     "name": "stdout",
     "output_type": "stream",
     "text": [
      "chrX_maternal_loop.txt: 21\n",
      "chrX_paternal_loop.txt: 112\n",
      "Hi-C p/m:5.333\n"
     ]
    }
   ],
   "source": [
    "# Hic\n",
    "# def Hic_contacts(filename):\n",
    "#     with open(filename, 'r') as file:\n",
    "#         total_contacts = 0\n",
    "#         for line in file:\n",
    "#             parts = line.strip().split()\n",
    "#             # 假设contacts数在每行的最后一个位置\n",
    "#             contacts = float(parts[-1])\n",
    "#             total_contacts += contacts\n",
    "#     total_contacts = int(total_contacts)\n",
    "#     print(f\"{filename}: { total_contacts }\")\n",
    "#     return(total_contacts)\n",
    "\n",
    "# mc = Hic_contacts(\"chrX_maternal_loop.txt\")\n",
    "# pc = Hic_contacts(\"chrX_paternal_loop.txt\")\n",
    "# print(f\"Hi-C p/m:{pc/mc:.3f}\")"
   ]
  },
  {
   "cell_type": "code",
   "execution_count": 32,
   "id": "58dd095c",
   "metadata": {
    "ExecuteTime": {
     "end_time": "2024-06-20T09:56:28.490102Z",
     "start_time": "2024-06-20T09:56:28.484432Z"
    }
   },
   "outputs": [],
   "source": [
    "# Specific Loops\n",
    "chrom = \"chrX\"\n",
    "region1 = [114_950_000, 115_050_000]\n",
    "region2 = [130_850_000, 130_950_000]\n",
    "# region1 = [114_900_000, 115_100_000]\n",
    "# region2 = [130_800_000, 131_000_000]"
   ]
  },
  {
   "cell_type": "code",
   "execution_count": 33,
   "id": "ebbdef5e",
   "metadata": {
    "ExecuteTime": {
     "end_time": "2024-06-20T09:57:03.803125Z",
     "start_time": "2024-06-20T09:57:03.794165Z"
    }
   },
   "outputs": [],
   "source": [
    "def Loop_PairwiseContact_Count(filename):\n",
    "    columns_to_read = [2, 3, 6, 7]  # 相当于第3、第4、第7、第8列\n",
    "    df = pd.read_csv(filename , sep=r'[ \\t]+', header=None, usecols=columns_to_read,engine='python')\n",
    "\n",
    "    condition = (\n",
    "        ( df[2]==\"chrX\" ) & \n",
    "        ( df[6]==\"chrX\" ) &\n",
    "        ( df[3].between(region1[0], region1[1]) ) & \n",
    "        ( df[7].between(region2[0], region2[1]) )\n",
    "    )\n",
    "    # 应用过滤条件，统计符合条件的行数\n",
    "    count = df[condition].shape[0]\n",
    "    df =None\n",
    "    print(filename)\n",
    "    print(f\"The pairwise contacts in Loop region: {count}\")\n",
    "    return( count )"
   ]
  },
  {
   "cell_type": "code",
   "execution_count": 34,
   "id": "4d21d9fd",
   "metadata": {
    "ExecuteTime": {
     "end_time": "2024-06-20T10:02:10.543095Z",
     "start_time": "2024-06-20T09:57:04.595879Z"
    }
   },
   "outputs": [
    {
     "name": "stdout",
     "output_type": "stream",
     "text": [
      "/data1/chenying/dip3d/chrX-pore-c/chrX_HP1_hg19.jmatrix\n",
      "The pairwise contacts in Loop region: 145\n",
      "/data1/chenying/dip3d/chrX-pore-c/chrX_HP2_hg19.jmatrix\n",
      "The pairwise contacts in Loop region: 27\n"
     ]
    }
   ],
   "source": [
    "# NBT pore-c\n",
    "filenames = [\"/data1/chenying/dip3d/chrX-pore-c/chrX_HP1_hg19.jmatrix\",\n",
    "             \"/data1/chenying/dip3d/chrX-pore-c/chrX_HP2_hg19.jmatrix\"]\n",
    "Counts = len(filenames)*[0]\n",
    "for n, filename in enumerate(filenames):\n",
    "    Counts[n] = Loop_PairwiseContact_Count(filename)"
   ]
  },
  {
   "cell_type": "code",
   "execution_count": 35,
   "id": "ae99c4a2",
   "metadata": {
    "ExecuteTime": {
     "end_time": "2024-06-20T10:07:43.110412Z",
     "start_time": "2024-06-20T10:02:10.545277Z"
    }
   },
   "outputs": [
    {
     "name": "stdout",
     "output_type": "stream",
     "text": [
      "/data1/chenying/dip3d/chrX-dip3d/chrX_HP1_hg19.jmatrix\n",
      "The pairwise contacts in Loop region: 197\n",
      "/data1/chenying/dip3d/chrX-dip3d/chrX_HP2_hg19.jmatrix\n",
      "The pairwise contacts in Loop region: 26\n"
     ]
    }
   ],
   "source": [
    "# Dip3d pipeline\n",
    "filenames = [\"/data1/chenying/dip3d/chrX-dip3d/chrX_HP1_hg19.jmatrix\",\n",
    "             \"/data1/chenying/dip3d/chrX-dip3d/chrX_HP2_hg19.jmatrix\"]\n",
    "Counts = len(filenames)*[0]\n",
    "for n, filename in enumerate(filenames):\n",
    "    Counts[n] = Loop_PairwiseContact_Count(filename)"
   ]
  },
  {
   "cell_type": "code",
   "execution_count": 36,
   "id": "b2f84b6b",
   "metadata": {
    "ExecuteTime": {
     "end_time": "2024-06-20T10:07:43.116544Z",
     "start_time": "2024-06-20T10:07:43.112189Z"
    }
   },
   "outputs": [
    {
     "name": "stdout",
     "output_type": "stream",
     "text": [
      "NBT Pore-C: 4.831578947368421\n",
      "Dip3d: 5.220338983050848\n"
     ]
    }
   ],
   "source": [
    "#print(\"Dip3d:\",197/26)\n",
    "#print(\"NBT Pore-C:\",145/27)\n",
    "print(\"NBT Pore-C:\",459/95) # NBT Pore-C: 4.831578947368421\n",
    "print(\"Dip3d:\",616/118) # Dip3d: 5.220338983050848"
   ]
  },
  {
   "cell_type": "code",
   "execution_count": 6,
   "id": "f21fbee4",
   "metadata": {
    "ExecuteTime": {
     "end_time": "2024-05-31T11:38:46.390247Z",
     "start_time": "2024-05-31T11:38:46.383869Z"
    }
   },
   "outputs": [
    {
     "name": "stdout",
     "output_type": "stream",
     "text": [
      "Dip3d: 7.576923076923077\n",
      "NBT Pore-C: 5.37037037037037\n"
     ]
    }
   ],
   "source": [
    "print(\"Dip3d:\",197/26)\n",
    "print(\"NBT Pore-C:\",145/27)"
   ]
  },
  {
   "cell_type": "code",
   "execution_count": 38,
   "id": "8e84034e",
   "metadata": {
    "ExecuteTime": {
     "end_time": "2024-06-20T14:00:32.238088Z",
     "start_time": "2024-06-20T14:00:32.231736Z"
    }
   },
   "outputs": [],
   "source": [
    "import cooltools\n",
    "import cooler\n",
    "import pandas as pd\n",
    "import bioframe\n",
    "import numpy as np\n",
    "import pyBigWig\n",
    "import bbi\n",
    "import copy\n",
    "import pybedtools\n",
    "import warnings\n",
    "warnings.filterwarnings('ignore')"
   ]
  },
  {
   "cell_type": "code",
   "execution_count": 39,
   "id": "3dce63ad",
   "metadata": {
    "ExecuteTime": {
     "end_time": "2024-06-20T14:00:33.001425Z",
     "start_time": "2024-06-20T14:00:32.995501Z"
    }
   },
   "outputs": [],
   "source": [
    "from coolpuppy import coolpup\n",
    "from coolpuppy.lib import numutils\n",
    "from coolpuppy.lib.puputils import divide_pups\n",
    "from coolpuppy import plotpup\n",
    "from cooltools import expected_cis, expected_trans\n",
    "from cooltools.lib import plotting"
   ]
  },
  {
   "cell_type": "code",
   "execution_count": 40,
   "id": "655154e4",
   "metadata": {
    "ExecuteTime": {
     "end_time": "2024-06-20T14:00:34.213173Z",
     "start_time": "2024-06-20T14:00:34.203575Z"
    }
   },
   "outputs": [],
   "source": [
    "import matplotlib.pyplot as plt\n",
    "import matplotlib.patches as patches\n",
    "from matplotlib.colors import LogNorm\n",
    "import matplotlib as mpl\n",
    "from matplotlib import rcParams \n",
    "mpl.rcParams['pdf.fonttype'] = 42\n",
    "rcParams['pdf.fonttype'] = 42 # True font\n",
    "rcParams['font.size'] =  8  \n",
    "rcParams['grid.linewidth'] =  0.5 \n",
    "rcParams['lines.color'] = 'b' \n",
    "rcParams['lines.linewidth'] = 1 \n",
    "rcParams['lines.markersize'] = 3\n",
    "rcParams['lines.markeredgewidth'] = 0 # set Marker with no edgelines\n",
    "rcParams['axes.linewidth'] = 0.5\n",
    "rcParams['axes.titlesize'] = 12\n",
    "rcParams['axes.labelsize'] = 8\n",
    "rcParams['xtick.labelsize'] = 8\n",
    "rcParams['ytick.labelsize'] = 8\n",
    "rcParams['legend.fontsize'] = 8\n",
    "rcParams['legend.title_fontsize'] = 8"
   ]
  },
  {
   "cell_type": "code",
   "execution_count": 60,
   "id": "6e188d16",
   "metadata": {
    "ExecuteTime": {
     "end_time": "2024-06-20T14:21:29.238412Z",
     "start_time": "2024-06-20T14:21:29.223421Z"
    }
   },
   "outputs": [],
   "source": [
    "def APAscores_v1(agg_matrix):\n",
    "    # total bins = 20\n",
    "    # center region = 3 x 3 bins\n",
    "    centerbins = 2\n",
    "    center_row = agg_matrix.shape[0] // 2\n",
    "    center_col = agg_matrix.shape[1] // 2\n",
    "    center_region = agg_matrix[center_row-centerbins:center_row+centerbins+1, center_col-centerbins:center_col+centerbins+1]\n",
    "    # 计算中心区域的平均contact值\n",
    "    center_avg = np.nanmean(center_region)\n",
    "    cornerbins = 10 # coner =15 x 15 bins (2/3)\n",
    "    # 为每个角落定义一个切片，并计算四个角落的平均值和比值\n",
    "    corners = {\n",
    "        'top_left': agg_matrix[:cornerbins, :cornerbins],\n",
    "        'top_right': agg_matrix[:cornerbins, -1*cornerbins:],\n",
    "        'bottom_left': agg_matrix[ -1*cornerbins:, : cornerbins],\n",
    "        'bottom_right': agg_matrix[ -1*cornerbins:,  -1*cornerbins:]\n",
    "    }\n",
    "\n",
    "    # 初始化比值字典\n",
    "    ratios = {}\n",
    "    # 计算每个角落的平均contact值以及与中心区域的比值\n",
    "    for corner_name, corner_matrix in corners.items():\n",
    "        corner_avg = np.nanmean(corner_matrix)\n",
    "        ratio = center_avg / corner_avg\n",
    "        ratios[corner_name] = ratio\n",
    "    # 打印每个角落的平均值与中心平均值的比率\n",
    "    for corner_name, ratio in ratios.items():\n",
    "        print(f\"{corner_name}: {ratio:.2f}\")\n",
    "    return(ratios)\n",
    "\n",
    "\n",
    "def APAscores(agg_matrix):\n",
    "    # total bins = 20\n",
    "    # center region = 3 x 3 bins\n",
    "    center_row = agg_matrix.shape[0] // 2\n",
    "    center_col = agg_matrix.shape[1] // 2\n",
    "    center_region = agg_matrix[center_row-2:center_row+3, center_col-2:center_col+3]\n",
    "    # 计算中心区域的平均contact值\n",
    "    center_avg = np.nanmean(center_region)\n",
    "    cornerbins = 15 # coner =15 x 15 bins (2/3)\n",
    "    # 为每个角落定义一个切片，并计算四个角落的平均值和比值\n",
    "    corners = {\n",
    "        'top_left': agg_matrix[:cornerbins, :cornerbins],\n",
    "        'top_right': agg_matrix[:cornerbins, -1*cornerbins:],\n",
    "        'bottom_left': agg_matrix[ -1*cornerbins:, : cornerbins],\n",
    "        'bottom_right': agg_matrix[ -1*cornerbins:,  -1*cornerbins:]\n",
    "    }\n",
    "\n",
    "    # 初始化比值字典\n",
    "    ratios = {}\n",
    "    # 计算每个角落的平均contact值以及与中心区域的比值\n",
    "    for corner_name, corner_matrix in corners.items():\n",
    "        corner_avg = np.nanmean(corner_matrix)\n",
    "        ratio = center_avg / corner_avg\n",
    "        ratios[corner_name] = ratio\n",
    "    # 打印每个角落的平均值与中心平均值的比率\n",
    "    for corner_name, ratio in ratios.items():\n",
    "        print(f\"{corner_name}: {ratio:.2f}\")\n",
    "    return(ratios)"
   ]
  },
  {
   "cell_type": "code",
   "execution_count": 42,
   "id": "f063bb62",
   "metadata": {
    "ExecuteTime": {
     "end_time": "2024-06-20T14:00:37.812087Z",
     "start_time": "2024-06-20T14:00:37.795768Z"
    }
   },
   "outputs": [
    {
     "data": {
      "text/html": [
       "<div>\n",
       "<style scoped>\n",
       "    .dataframe tbody tr th:only-of-type {\n",
       "        vertical-align: middle;\n",
       "    }\n",
       "\n",
       "    .dataframe tbody tr th {\n",
       "        vertical-align: top;\n",
       "    }\n",
       "\n",
       "    .dataframe thead th {\n",
       "        text-align: right;\n",
       "    }\n",
       "</style>\n",
       "<table border=\"1\" class=\"dataframe\">\n",
       "  <thead>\n",
       "    <tr style=\"text-align: right;\">\n",
       "      <th></th>\n",
       "      <th>chrom1</th>\n",
       "      <th>start1</th>\n",
       "      <th>end1</th>\n",
       "      <th>chrom2</th>\n",
       "      <th>start2</th>\n",
       "      <th>end2</th>\n",
       "    </tr>\n",
       "  </thead>\n",
       "  <tbody>\n",
       "    <tr>\n",
       "      <th>0</th>\n",
       "      <td>X</td>\n",
       "      <td>114950000</td>\n",
       "      <td>115050000</td>\n",
       "      <td>X</td>\n",
       "      <td>130850000</td>\n",
       "      <td>130950000</td>\n",
       "    </tr>\n",
       "  </tbody>\n",
       "</table>\n",
       "</div>"
      ],
      "text/plain": [
       "  chrom1     start1       end1 chrom2     start2       end2\n",
       "0      X  114950000  115050000      X  130850000  130950000"
      ]
     },
     "execution_count": 42,
     "metadata": {},
     "output_type": "execute_result"
    }
   ],
   "source": [
    "# loop regions\n",
    "paired_sites = pd.DataFrame({\"chrom1\": [\"X\"],\n",
    "                           \"start1\": [114_950_000],\n",
    "                           \"end1\": [115_050_000],\n",
    "                           \"chrom2\": [\"X\"],\n",
    "                           \"start2\": [130_850_000],\n",
    "                           \"end2\": [130_950_000]} )\n",
    "paired_sites"
   ]
  },
  {
   "cell_type": "code",
   "execution_count": 61,
   "id": "d5ce9327",
   "metadata": {
    "ExecuteTime": {
     "end_time": "2024-06-20T14:21:32.994642Z",
     "start_time": "2024-06-20T14:21:32.975773Z"
    }
   },
   "outputs": [],
   "source": [
    "def PlotAPA(pipeline, coolfile, paired_sites ,resolution):\n",
    "    #rawdir = \"/data2/zjy/Dip3D/dip3d_pipline_v2\"\n",
    "    coolfile = f\"{coolfile}::/resolutions/{resolution}\"\n",
    "    hic = cooler.Cooler(coolfile)\n",
    "    # bioframe\n",
    "    chromnames = [f\"chr{i}\" for i in hic.chromnames ]\n",
    "    chromnames.extend([\"chrX\", \"chrY\", \"chrMT\"])\n",
    "    hg19_chromsizes=bioframe.fetch_chromsizes(\"hg19\")\n",
    "    # hg19_chromsizes = hg19_chromsizes[ hg19_chromsizes.index !='chrM']\n",
    "    hg19_cens = bioframe.fetch_centromeres(\"hg19\")\n",
    "    hg19_arms = bioframe.make_chromarms(hg19_chromsizes, hg19_cens)\n",
    "    hg19_arms = hg19_arms.loc[hg19_arms[\"chrom\"].isin(chromnames), :]\n",
    "    # replace the chrom names\n",
    "    hg19_arms[\"chrom\"] = hg19_arms[\"chrom\"].str.replace(\"chr\", \"\")\n",
    "    hg19_arms[\"name\"] = hg19_arms[\"name\"].str.replace(\"chr\", \"\")\n",
    "\n",
    "    # expected\n",
    "    #expected = cooltools.expected_cis(hic, view_df=hg19_arms, nproc=20, chunksize=1_000_000)\n",
    "    figmat = cooltools.pileup(hic, paired_sites, view_df=hg19_arms, flank=500_000)\n",
    "    mtx=np.nanmean(figmat[:,::-1, ::-1], axis=0)\n",
    "\n",
    "    fig, ax = plt.subplots(1, figsize=(4,4))\n",
    "    im = ax.imshow( np.log2(mtx), \n",
    "                  cmap='coolwarm',interpolation='none')\n",
    "    plt.colorbar(im, label = 'Normalized counts(log2)')\n",
    "    plt.title(f\"{pipeline}\\nAPA_25kb_1Mb\")\n",
    "    \n",
    "    # APA\n",
    "    APAresults = APAscores(mtx)\n",
    "    corner_size = 15\n",
    "    adjpos = corner_size/2\n",
    "    text_positions = {\n",
    "        'top_left': (adjpos , adjpos ),\n",
    "        'top_right': (mtx.shape[1]-adjpos , adjpos ),\n",
    "        'bottom_left': (adjpos , mtx.shape[0]-adjpos ),\n",
    "        'bottom_right': (mtx.shape[1]-adjpos , mtx.shape[0]-adjpos ),\n",
    "    }\n",
    "    for corner, pos in text_positions.items():\n",
    "        plt.text(pos[0], pos[1], f\"{APAresults[corner]:.2f}\",\n",
    "                 verticalalignment='top' if 'top' in corner else 'bottom',\n",
    "                 horizontalalignment='left' if 'left' in corner else 'right',\n",
    "                 color='black', fontsize=10, weight='bold')\n",
    "\n",
    "    \n",
    "    top_left_corner = (0, mtx.shape[0] - corner_size)\n",
    "    top_right_corner = (mtx.shape[1] - corner_size, mtx.shape[0] - corner_size)\n",
    "    bottom_left_corner = (0, 0)\n",
    "    bottom_right_corner = (mtx.shape[1] - corner_size, 0)\n",
    "    rectangles = {\n",
    "        'top_left': patches.Rectangle(top_left_corner, corner_size, corner_size, linewidth=1, edgecolor='black', facecolor='none'),\n",
    "        'top_right': patches.Rectangle(top_right_corner, corner_size, corner_size, linewidth=1, edgecolor='black', facecolor='none'),\n",
    "        'bottom_left': patches.Rectangle(bottom_left_corner, corner_size, corner_size, linewidth=1, edgecolor='black', facecolor='none'),\n",
    "        'bottom_right': patches.Rectangle(bottom_right_corner, corner_size, corner_size, linewidth=1, edgecolor='black', facecolor='none'),\n",
    "       }\n",
    "    for rect in rectangles.values():\n",
    "        ax.add_patch(rect)\n",
    "\n",
    "    # X and Y ticks\n",
    "    ticks_pixels = np.linspace(0, 500_000*2//resolution, 5 )\n",
    "    ticks_kbp = ((ticks_pixels-ticks_pixels[-1]/2)*resolution//1000).astype(int)\n",
    "    ax.set_xlim([0, 40])\n",
    "    ax.set_ylim([0, 40])\n",
    "    ax.set(\n",
    "           xticks=ticks_pixels,\n",
    "           xticklabels=ticks_kbp,\n",
    "           yticks=ticks_pixels,\n",
    "           yticklabels=ticks_kbp,\n",
    "           xlabel='Loop anchor, kbp' )\n",
    "#     plt.show()\n",
    "    plt.savefig(f\"{pipeline}_APA_25kb_1Mb.pdf\")"
   ]
  },
  {
   "cell_type": "code",
   "execution_count": 62,
   "id": "61fa5d19",
   "metadata": {
    "ExecuteTime": {
     "end_time": "2024-06-20T14:21:38.887639Z",
     "start_time": "2024-06-20T14:21:34.655844Z"
    }
   },
   "outputs": [
    {
     "name": "stderr",
     "output_type": "stream",
     "text": [
      "INFO:fontTools.subset:maxp pruned\n",
      "INFO:fontTools.subset:cmap pruned\n",
      "INFO:fontTools.subset:kern dropped\n",
      "INFO:fontTools.subset:post pruned\n",
      "INFO:fontTools.subset:FFTM dropped\n",
      "INFO:fontTools.subset:GPOS pruned\n",
      "INFO:fontTools.subset:GSUB pruned\n",
      "INFO:fontTools.subset:glyf pruned\n",
      "INFO:fontTools.subset:Added gid0 to subset\n",
      "INFO:fontTools.subset:Added first four glyphs to subset\n",
      "INFO:fontTools.subset:Closing glyph list over 'GSUB': 14 glyphs before\n",
      "INFO:fontTools.subset:Glyph names: ['.notdef', '.null', 'eight', 'five', 'four', 'nine', 'nonmarkingreturn', 'period', 'seven', 'six', 'space', 'three', 'two', 'zero']\n",
      "INFO:fontTools.subset:Glyph IDs:   [0, 1, 2, 3, 17, 19, 21, 22, 23, 24, 25, 26, 27, 28]\n",
      "INFO:fontTools.subset:Closed glyph list over 'GSUB': 14 glyphs after\n",
      "INFO:fontTools.subset:Glyph names: ['.notdef', '.null', 'eight', 'five', 'four', 'nine', 'nonmarkingreturn', 'period', 'seven', 'six', 'space', 'three', 'two', 'zero']\n",
      "INFO:fontTools.subset:Glyph IDs:   [0, 1, 2, 3, 17, 19, 21, 22, 23, 24, 25, 26, 27, 28]\n",
      "INFO:fontTools.subset:Closing glyph list over 'glyf': 14 glyphs before\n",
      "INFO:fontTools.subset:Glyph names: ['.notdef', '.null', 'eight', 'five', 'four', 'nine', 'nonmarkingreturn', 'period', 'seven', 'six', 'space', 'three', 'two', 'zero']\n",
      "INFO:fontTools.subset:Glyph IDs:   [0, 1, 2, 3, 17, 19, 21, 22, 23, 24, 25, 26, 27, 28]\n",
      "INFO:fontTools.subset:Closed glyph list over 'glyf': 14 glyphs after\n",
      "INFO:fontTools.subset:Glyph names: ['.notdef', '.null', 'eight', 'five', 'four', 'nine', 'nonmarkingreturn', 'period', 'seven', 'six', 'space', 'three', 'two', 'zero']\n",
      "INFO:fontTools.subset:Glyph IDs:   [0, 1, 2, 3, 17, 19, 21, 22, 23, 24, 25, 26, 27, 28]\n",
      "INFO:fontTools.subset:Retaining 14 glyphs\n",
      "INFO:fontTools.subset:head subsetting not needed\n",
      "INFO:fontTools.subset:hhea subsetting not needed\n",
      "INFO:fontTools.subset:maxp subsetting not needed\n",
      "INFO:fontTools.subset:OS/2 subsetting not needed\n",
      "INFO:fontTools.subset:hmtx subsetted\n",
      "INFO:fontTools.subset:cmap subsetted\n",
      "INFO:fontTools.subset:fpgm subsetting not needed\n",
      "INFO:fontTools.subset:prep subsetting not needed\n",
      "INFO:fontTools.subset:cvt  subsetting not needed\n",
      "INFO:fontTools.subset:loca subsetting not needed\n",
      "INFO:fontTools.subset:post subsetted\n",
      "INFO:fontTools.subset:gasp subsetting not needed\n",
      "INFO:fontTools.subset:GDEF subsetted\n",
      "INFO:fontTools.subset:GPOS subsetted\n",
      "INFO:fontTools.subset:GSUB subsetted\n",
      "INFO:fontTools.subset:name subsetting not needed\n",
      "INFO:fontTools.subset:glyf subsetted\n",
      "INFO:fontTools.subset:head pruned\n",
      "INFO:fontTools.subset:OS/2 Unicode ranges pruned: [0]\n",
      "INFO:fontTools.subset:glyf pruned\n",
      "INFO:fontTools.subset:GDEF pruned\n",
      "INFO:fontTools.subset:GPOS pruned\n",
      "INFO:fontTools.subset:GSUB pruned\n",
      "INFO:fontTools.subset:name pruned\n",
      "INFO:fontTools.subset:maxp pruned\n",
      "INFO:fontTools.subset:cmap pruned\n",
      "INFO:fontTools.subset:kern dropped\n",
      "INFO:fontTools.subset:post pruned\n",
      "INFO:fontTools.subset:FFTM dropped\n",
      "INFO:fontTools.subset:GPOS pruned\n",
      "INFO:fontTools.subset:GSUB pruned\n",
      "INFO:fontTools.subset:glyf pruned\n",
      "INFO:fontTools.subset:Added gid0 to subset\n",
      "INFO:fontTools.subset:Added first four glyphs to subset\n",
      "INFO:fontTools.subset:Closing glyph list over 'GSUB': 42 glyphs before\n",
      "INFO:fontTools.subset:Glyph names: ['.notdef', '.null', 'A', 'B', 'L', 'M', 'N', 'P', 'T', 'a', 'b', 'c', 'comma', 'd', 'e', 'five', 'g', 'h', 'hyphen', 'i', 'k', 'l', 'm', 'minus', 'n', 'nine', 'nonmarkingreturn', 'o', 'one', 'p', 'parenleft', 'parenright', 'r', 's', 'space', 't', 'three', 'two', 'u', 'underscore', 'z', 'zero']\n"
     ]
    },
    {
     "name": "stdout",
     "output_type": "stream",
     "text": [
      "top_left: 4.52\n",
      "top_right: 4.30\n",
      "bottom_left: 7.69\n",
      "bottom_right: 6.88\n"
     ]
    },
    {
     "name": "stderr",
     "output_type": "stream",
     "text": [
      "INFO:fontTools.subset:Glyph IDs:   [0, 1, 2, 3, 11, 12, 15, 16, 19, 20, 21, 22, 24, 28, 36, 37, 47, 48, 49, 51, 55, 66, 68, 69, 70, 71, 72, 74, 75, 76, 78, 79, 80, 81, 82, 83, 85, 86, 87, 88, 93, 3228]\n",
      "INFO:fontTools.subset:Closed glyph list over 'GSUB': 42 glyphs after\n",
      "INFO:fontTools.subset:Glyph names: ['.notdef', '.null', 'A', 'B', 'L', 'M', 'N', 'P', 'T', 'a', 'b', 'c', 'comma', 'd', 'e', 'five', 'g', 'h', 'hyphen', 'i', 'k', 'l', 'm', 'minus', 'n', 'nine', 'nonmarkingreturn', 'o', 'one', 'p', 'parenleft', 'parenright', 'r', 's', 'space', 't', 'three', 'two', 'u', 'underscore', 'z', 'zero']\n",
      "INFO:fontTools.subset:Glyph IDs:   [0, 1, 2, 3, 11, 12, 15, 16, 19, 20, 21, 22, 24, 28, 36, 37, 47, 48, 49, 51, 55, 66, 68, 69, 70, 71, 72, 74, 75, 76, 78, 79, 80, 81, 82, 83, 85, 86, 87, 88, 93, 3228]\n",
      "INFO:fontTools.subset:Closing glyph list over 'MATH': 42 glyphs before\n",
      "INFO:fontTools.subset:Glyph names: ['.notdef', '.null', 'A', 'B', 'L', 'M', 'N', 'P', 'T', 'a', 'b', 'c', 'comma', 'd', 'e', 'five', 'g', 'h', 'hyphen', 'i', 'k', 'l', 'm', 'minus', 'n', 'nine', 'nonmarkingreturn', 'o', 'one', 'p', 'parenleft', 'parenright', 'r', 's', 'space', 't', 'three', 'two', 'u', 'underscore', 'z', 'zero']\n",
      "INFO:fontTools.subset:Glyph IDs:   [0, 1, 2, 3, 11, 12, 15, 16, 19, 20, 21, 22, 24, 28, 36, 37, 47, 48, 49, 51, 55, 66, 68, 69, 70, 71, 72, 74, 75, 76, 78, 79, 80, 81, 82, 83, 85, 86, 87, 88, 93, 3228]\n",
      "INFO:fontTools.subset:Closed glyph list over 'MATH': 48 glyphs after\n",
      "INFO:fontTools.subset:Glyph names: ['.notdef', '.null', 'A', 'B', 'L', 'M', 'N', 'P', 'T', 'a', 'b', 'c', 'comma', 'd', 'e', 'five', 'g', 'h', 'hyphen', 'i', 'k', 'l', 'm', 'minus', 'n', 'nine', 'nonmarkingreturn', 'o', 'one', 'p', 'parenleft', 'parenright', 'r', 's', 'space', 't', 'three', 'two', 'u', 'underscore', 'uni239B', 'uni239C', 'uni239D', 'uni239E', 'uni239F', 'uni23A0', 'z', 'zero']\n",
      "INFO:fontTools.subset:Glyph IDs:   [0, 1, 2, 3, 11, 12, 15, 16, 19, 20, 21, 22, 24, 28, 36, 37, 47, 48, 49, 51, 55, 66, 68, 69, 70, 71, 72, 74, 75, 76, 78, 79, 80, 81, 82, 83, 85, 86, 87, 88, 93, 3228, 3506, 3507, 3508, 3509, 3510, 3511]\n",
      "INFO:fontTools.subset:Closing glyph list over 'glyf': 48 glyphs before\n",
      "INFO:fontTools.subset:Glyph names: ['.notdef', '.null', 'A', 'B', 'L', 'M', 'N', 'P', 'T', 'a', 'b', 'c', 'comma', 'd', 'e', 'five', 'g', 'h', 'hyphen', 'i', 'k', 'l', 'm', 'minus', 'n', 'nine', 'nonmarkingreturn', 'o', 'one', 'p', 'parenleft', 'parenright', 'r', 's', 'space', 't', 'three', 'two', 'u', 'underscore', 'uni239B', 'uni239C', 'uni239D', 'uni239E', 'uni239F', 'uni23A0', 'z', 'zero']\n",
      "INFO:fontTools.subset:Glyph IDs:   [0, 1, 2, 3, 11, 12, 15, 16, 19, 20, 21, 22, 24, 28, 36, 37, 47, 48, 49, 51, 55, 66, 68, 69, 70, 71, 72, 74, 75, 76, 78, 79, 80, 81, 82, 83, 85, 86, 87, 88, 93, 3228, 3506, 3507, 3508, 3509, 3510, 3511]\n",
      "INFO:fontTools.subset:Closed glyph list over 'glyf': 48 glyphs after\n",
      "INFO:fontTools.subset:Glyph names: ['.notdef', '.null', 'A', 'B', 'L', 'M', 'N', 'P', 'T', 'a', 'b', 'c', 'comma', 'd', 'e', 'five', 'g', 'h', 'hyphen', 'i', 'k', 'l', 'm', 'minus', 'n', 'nine', 'nonmarkingreturn', 'o', 'one', 'p', 'parenleft', 'parenright', 'r', 's', 'space', 't', 'three', 'two', 'u', 'underscore', 'uni239B', 'uni239C', 'uni239D', 'uni239E', 'uni239F', 'uni23A0', 'z', 'zero']\n",
      "INFO:fontTools.subset:Glyph IDs:   [0, 1, 2, 3, 11, 12, 15, 16, 19, 20, 21, 22, 24, 28, 36, 37, 47, 48, 49, 51, 55, 66, 68, 69, 70, 71, 72, 74, 75, 76, 78, 79, 80, 81, 82, 83, 85, 86, 87, 88, 93, 3228, 3506, 3507, 3508, 3509, 3510, 3511]\n",
      "INFO:fontTools.subset:Retaining 48 glyphs\n",
      "INFO:fontTools.subset:head subsetting not needed\n",
      "INFO:fontTools.subset:hhea subsetting not needed\n",
      "INFO:fontTools.subset:maxp subsetting not needed\n",
      "INFO:fontTools.subset:OS/2 subsetting not needed\n",
      "INFO:fontTools.subset:hmtx subsetted\n",
      "INFO:fontTools.subset:cmap subsetted\n",
      "INFO:fontTools.subset:fpgm subsetting not needed\n",
      "INFO:fontTools.subset:prep subsetting not needed\n",
      "INFO:fontTools.subset:cvt  subsetting not needed\n",
      "INFO:fontTools.subset:loca subsetting not needed\n",
      "INFO:fontTools.subset:post subsetted\n",
      "INFO:fontTools.subset:gasp subsetting not needed\n",
      "INFO:fontTools.subset:MATH subsetted\n",
      "INFO:fontTools.subset:GDEF subsetted\n",
      "INFO:fontTools.subset:GPOS subsetted\n",
      "INFO:fontTools.subset:GSUB subsetted\n",
      "INFO:fontTools.subset:name subsetting not needed\n",
      "INFO:fontTools.subset:glyf subsetted\n",
      "INFO:fontTools.subset:head pruned\n",
      "INFO:fontTools.subset:OS/2 Unicode ranges pruned: [0, 38]\n",
      "INFO:fontTools.subset:glyf pruned\n",
      "INFO:fontTools.subset:GDEF pruned\n",
      "INFO:fontTools.subset:GPOS pruned\n",
      "INFO:fontTools.subset:GSUB pruned\n",
      "INFO:fontTools.subset:name pruned\n",
      "INFO:fontTools.subset:maxp pruned\n",
      "INFO:fontTools.subset:cmap pruned\n",
      "INFO:fontTools.subset:kern dropped\n",
      "INFO:fontTools.subset:post pruned\n",
      "INFO:fontTools.subset:FFTM dropped\n",
      "INFO:fontTools.subset:GPOS pruned\n",
      "INFO:fontTools.subset:GSUB pruned\n",
      "INFO:fontTools.subset:glyf pruned\n",
      "INFO:fontTools.subset:Added gid0 to subset\n",
      "INFO:fontTools.subset:Added first four glyphs to subset\n",
      "INFO:fontTools.subset:Closing glyph list over 'GSUB': 11 glyphs before\n",
      "INFO:fontTools.subset:Glyph names: ['.notdef', '.null', 'eight', 'four', 'nonmarkingreturn', 'one', 'period', 'space', 'three', 'two', 'zero']\n",
      "INFO:fontTools.subset:Glyph IDs:   [0, 1, 2, 3, 17, 19, 20, 21, 22, 23, 27]\n",
      "INFO:fontTools.subset:Closed glyph list over 'GSUB': 11 glyphs after\n",
      "INFO:fontTools.subset:Glyph names: ['.notdef', '.null', 'eight', 'four', 'nonmarkingreturn', 'one', 'period', 'space', 'three', 'two', 'zero']\n",
      "INFO:fontTools.subset:Glyph IDs:   [0, 1, 2, 3, 17, 19, 20, 21, 22, 23, 27]\n",
      "INFO:fontTools.subset:Closing glyph list over 'glyf': 11 glyphs before\n",
      "INFO:fontTools.subset:Glyph names: ['.notdef', '.null', 'eight', 'four', 'nonmarkingreturn', 'one', 'period', 'space', 'three', 'two', 'zero']\n",
      "INFO:fontTools.subset:Glyph IDs:   [0, 1, 2, 3, 17, 19, 20, 21, 22, 23, 27]\n",
      "INFO:fontTools.subset:Closed glyph list over 'glyf': 11 glyphs after\n",
      "INFO:fontTools.subset:Glyph names: ['.notdef', '.null', 'eight', 'four', 'nonmarkingreturn', 'one', 'period', 'space', 'three', 'two', 'zero']\n",
      "INFO:fontTools.subset:Glyph IDs:   [0, 1, 2, 3, 17, 19, 20, 21, 22, 23, 27]\n",
      "INFO:fontTools.subset:Retaining 11 glyphs\n",
      "INFO:fontTools.subset:head subsetting not needed\n",
      "INFO:fontTools.subset:hhea subsetting not needed\n",
      "INFO:fontTools.subset:maxp subsetting not needed\n",
      "INFO:fontTools.subset:OS/2 subsetting not needed\n",
      "INFO:fontTools.subset:hmtx subsetted\n",
      "INFO:fontTools.subset:cmap subsetted\n",
      "INFO:fontTools.subset:fpgm subsetting not needed\n",
      "INFO:fontTools.subset:prep subsetting not needed\n",
      "INFO:fontTools.subset:cvt  subsetting not needed\n",
      "INFO:fontTools.subset:loca subsetting not needed\n",
      "INFO:fontTools.subset:post subsetted\n",
      "INFO:fontTools.subset:gasp subsetting not needed\n",
      "INFO:fontTools.subset:GDEF subsetted\n",
      "INFO:fontTools.subset:GPOS subsetted\n",
      "INFO:fontTools.subset:GSUB subsetted\n",
      "INFO:fontTools.subset:name subsetting not needed\n",
      "INFO:fontTools.subset:glyf subsetted\n",
      "INFO:fontTools.subset:head pruned\n",
      "INFO:fontTools.subset:OS/2 Unicode ranges pruned: [0]\n",
      "INFO:fontTools.subset:glyf pruned\n",
      "INFO:fontTools.subset:GDEF pruned\n",
      "INFO:fontTools.subset:GPOS pruned\n",
      "INFO:fontTools.subset:GSUB pruned\n",
      "INFO:fontTools.subset:name pruned\n",
      "INFO:fontTools.subset:maxp pruned\n",
      "INFO:fontTools.subset:cmap pruned\n",
      "INFO:fontTools.subset:kern dropped\n",
      "INFO:fontTools.subset:post pruned\n",
      "INFO:fontTools.subset:FFTM dropped\n",
      "INFO:fontTools.subset:GPOS pruned\n",
      "INFO:fontTools.subset:GSUB pruned\n",
      "INFO:fontTools.subset:glyf pruned\n"
     ]
    },
    {
     "name": "stdout",
     "output_type": "stream",
     "text": [
      "top_left: 3.20\n",
      "top_right: 1.80\n",
      "bottom_left: 2.30\n",
      "bottom_right: 1.84\n"
     ]
    },
    {
     "name": "stderr",
     "output_type": "stream",
     "text": [
      "INFO:fontTools.subset:Added gid0 to subset\n",
      "INFO:fontTools.subset:Added first four glyphs to subset\n",
      "INFO:fontTools.subset:Closing glyph list over 'GSUB': 42 glyphs before\n",
      "INFO:fontTools.subset:Glyph names: ['.notdef', '.null', 'A', 'B', 'L', 'M', 'N', 'P', 'T', 'a', 'b', 'c', 'comma', 'd', 'e', 'five', 'g', 'h', 'hyphen', 'i', 'k', 'l', 'm', 'minus', 'n', 'nonmarkingreturn', 'o', 'one', 'p', 'parenleft', 'parenright', 'period', 'r', 's', 'space', 't', 'three', 'two', 'u', 'underscore', 'z', 'zero']\n",
      "INFO:fontTools.subset:Glyph IDs:   [0, 1, 2, 3, 11, 12, 15, 16, 17, 19, 20, 21, 22, 24, 36, 37, 47, 48, 49, 51, 55, 66, 68, 69, 70, 71, 72, 74, 75, 76, 78, 79, 80, 81, 82, 83, 85, 86, 87, 88, 93, 3228]\n",
      "INFO:fontTools.subset:Closed glyph list over 'GSUB': 42 glyphs after\n",
      "INFO:fontTools.subset:Glyph names: ['.notdef', '.null', 'A', 'B', 'L', 'M', 'N', 'P', 'T', 'a', 'b', 'c', 'comma', 'd', 'e', 'five', 'g', 'h', 'hyphen', 'i', 'k', 'l', 'm', 'minus', 'n', 'nonmarkingreturn', 'o', 'one', 'p', 'parenleft', 'parenright', 'period', 'r', 's', 'space', 't', 'three', 'two', 'u', 'underscore', 'z', 'zero']\n",
      "INFO:fontTools.subset:Glyph IDs:   [0, 1, 2, 3, 11, 12, 15, 16, 17, 19, 20, 21, 22, 24, 36, 37, 47, 48, 49, 51, 55, 66, 68, 69, 70, 71, 72, 74, 75, 76, 78, 79, 80, 81, 82, 83, 85, 86, 87, 88, 93, 3228]\n",
      "INFO:fontTools.subset:Closing glyph list over 'MATH': 42 glyphs before\n",
      "INFO:fontTools.subset:Glyph names: ['.notdef', '.null', 'A', 'B', 'L', 'M', 'N', 'P', 'T', 'a', 'b', 'c', 'comma', 'd', 'e', 'five', 'g', 'h', 'hyphen', 'i', 'k', 'l', 'm', 'minus', 'n', 'nonmarkingreturn', 'o', 'one', 'p', 'parenleft', 'parenright', 'period', 'r', 's', 'space', 't', 'three', 'two', 'u', 'underscore', 'z', 'zero']\n",
      "INFO:fontTools.subset:Glyph IDs:   [0, 1, 2, 3, 11, 12, 15, 16, 17, 19, 20, 21, 22, 24, 36, 37, 47, 48, 49, 51, 55, 66, 68, 69, 70, 71, 72, 74, 75, 76, 78, 79, 80, 81, 82, 83, 85, 86, 87, 88, 93, 3228]\n",
      "INFO:fontTools.subset:Closed glyph list over 'MATH': 48 glyphs after\n",
      "INFO:fontTools.subset:Glyph names: ['.notdef', '.null', 'A', 'B', 'L', 'M', 'N', 'P', 'T', 'a', 'b', 'c', 'comma', 'd', 'e', 'five', 'g', 'h', 'hyphen', 'i', 'k', 'l', 'm', 'minus', 'n', 'nonmarkingreturn', 'o', 'one', 'p', 'parenleft', 'parenright', 'period', 'r', 's', 'space', 't', 'three', 'two', 'u', 'underscore', 'uni239B', 'uni239C', 'uni239D', 'uni239E', 'uni239F', 'uni23A0', 'z', 'zero']\n",
      "INFO:fontTools.subset:Glyph IDs:   [0, 1, 2, 3, 11, 12, 15, 16, 17, 19, 20, 21, 22, 24, 36, 37, 47, 48, 49, 51, 55, 66, 68, 69, 70, 71, 72, 74, 75, 76, 78, 79, 80, 81, 82, 83, 85, 86, 87, 88, 93, 3228, 3506, 3507, 3508, 3509, 3510, 3511]\n",
      "INFO:fontTools.subset:Closing glyph list over 'glyf': 48 glyphs before\n",
      "INFO:fontTools.subset:Glyph names: ['.notdef', '.null', 'A', 'B', 'L', 'M', 'N', 'P', 'T', 'a', 'b', 'c', 'comma', 'd', 'e', 'five', 'g', 'h', 'hyphen', 'i', 'k', 'l', 'm', 'minus', 'n', 'nonmarkingreturn', 'o', 'one', 'p', 'parenleft', 'parenright', 'period', 'r', 's', 'space', 't', 'three', 'two', 'u', 'underscore', 'uni239B', 'uni239C', 'uni239D', 'uni239E', 'uni239F', 'uni23A0', 'z', 'zero']\n",
      "INFO:fontTools.subset:Glyph IDs:   [0, 1, 2, 3, 11, 12, 15, 16, 17, 19, 20, 21, 22, 24, 36, 37, 47, 48, 49, 51, 55, 66, 68, 69, 70, 71, 72, 74, 75, 76, 78, 79, 80, 81, 82, 83, 85, 86, 87, 88, 93, 3228, 3506, 3507, 3508, 3509, 3510, 3511]\n",
      "INFO:fontTools.subset:Closed glyph list over 'glyf': 48 glyphs after\n",
      "INFO:fontTools.subset:Glyph names: ['.notdef', '.null', 'A', 'B', 'L', 'M', 'N', 'P', 'T', 'a', 'b', 'c', 'comma', 'd', 'e', 'five', 'g', 'h', 'hyphen', 'i', 'k', 'l', 'm', 'minus', 'n', 'nonmarkingreturn', 'o', 'one', 'p', 'parenleft', 'parenright', 'period', 'r', 's', 'space', 't', 'three', 'two', 'u', 'underscore', 'uni239B', 'uni239C', 'uni239D', 'uni239E', 'uni239F', 'uni23A0', 'z', 'zero']\n",
      "INFO:fontTools.subset:Glyph IDs:   [0, 1, 2, 3, 11, 12, 15, 16, 17, 19, 20, 21, 22, 24, 36, 37, 47, 48, 49, 51, 55, 66, 68, 69, 70, 71, 72, 74, 75, 76, 78, 79, 80, 81, 82, 83, 85, 86, 87, 88, 93, 3228, 3506, 3507, 3508, 3509, 3510, 3511]\n",
      "INFO:fontTools.subset:Retaining 48 glyphs\n",
      "INFO:fontTools.subset:head subsetting not needed\n",
      "INFO:fontTools.subset:hhea subsetting not needed\n",
      "INFO:fontTools.subset:maxp subsetting not needed\n",
      "INFO:fontTools.subset:OS/2 subsetting not needed\n",
      "INFO:fontTools.subset:hmtx subsetted\n",
      "INFO:fontTools.subset:cmap subsetted\n",
      "INFO:fontTools.subset:fpgm subsetting not needed\n",
      "INFO:fontTools.subset:prep subsetting not needed\n",
      "INFO:fontTools.subset:cvt  subsetting not needed\n",
      "INFO:fontTools.subset:loca subsetting not needed\n",
      "INFO:fontTools.subset:post subsetted\n",
      "INFO:fontTools.subset:gasp subsetting not needed\n",
      "INFO:fontTools.subset:MATH subsetted\n",
      "INFO:fontTools.subset:GDEF subsetted\n",
      "INFO:fontTools.subset:GPOS subsetted\n",
      "INFO:fontTools.subset:GSUB subsetted\n",
      "INFO:fontTools.subset:name subsetting not needed\n",
      "INFO:fontTools.subset:glyf subsetted\n",
      "INFO:fontTools.subset:head pruned\n",
      "INFO:fontTools.subset:OS/2 Unicode ranges pruned: [0, 38]\n",
      "INFO:fontTools.subset:glyf pruned\n",
      "INFO:fontTools.subset:GDEF pruned\n",
      "INFO:fontTools.subset:GPOS pruned\n",
      "INFO:fontTools.subset:GSUB pruned\n",
      "INFO:fontTools.subset:name pruned\n"
     ]
    },
    {
     "data": {
      "image/png": "[encoded data removed]",
      "text/plain": [
       "<Figure size 400x400 with 2 Axes>"
      ]
     },
     "metadata": {},
     "output_type": "display_data"
    },
    {
     "data": {
      "image/png": "[encoded data removed]",
      "text/plain": [
       "<Figure size 400x400 with 2 Axes>"
      ]
     },
     "metadata": {},
     "output_type": "display_data"
    }
   ],
   "source": [
    "pipeline = \"NBT_pathernal\"\n",
    "coolfile = \"/data1/chenying/dip3d/chrX-pore-c/chrX_HP1_hg19_jmatrix.mcool\"\n",
    "resolution = 25_000\n",
    "PlotAPA(pipeline, coolfile, paired_sites ,resolution)\n",
    "\n",
    "pipeline = \"NBT_mathernal\"\n",
    "coolfile = \"/data1/chenying/dip3d/chrX-pore-c/chrX_HP2_hg19_jmatrix.mcool\"\n",
    "resolution = 25_000\n",
    "PlotAPA(pipeline, coolfile, paired_sites ,resolution)"
   ]
  },
  {
   "cell_type": "code",
   "execution_count": 63,
   "id": "ca3bf417",
   "metadata": {
    "ExecuteTime": {
     "end_time": "2024-06-20T14:21:50.774996Z",
     "start_time": "2024-06-20T14:21:46.396384Z"
    }
   },
   "outputs": [
    {
     "name": "stderr",
     "output_type": "stream",
     "text": [
      "INFO:fontTools.subset:maxp pruned\n",
      "INFO:fontTools.subset:cmap pruned\n",
      "INFO:fontTools.subset:kern dropped\n",
      "INFO:fontTools.subset:post pruned\n",
      "INFO:fontTools.subset:FFTM dropped\n",
      "INFO:fontTools.subset:GPOS pruned\n",
      "INFO:fontTools.subset:GSUB pruned\n",
      "INFO:fontTools.subset:glyf pruned\n",
      "INFO:fontTools.subset:Added gid0 to subset\n",
      "INFO:fontTools.subset:Added first four glyphs to subset\n",
      "INFO:fontTools.subset:Closing glyph list over 'GSUB': 12 glyphs before\n",
      "INFO:fontTools.subset:Glyph names: ['.notdef', '.null', 'eight', 'five', 'four', 'nine', 'nonmarkingreturn', 'one', 'period', 'six', 'space', 'zero']\n",
      "INFO:fontTools.subset:Glyph IDs:   [0, 1, 2, 3, 17, 19, 20, 23, 24, 25, 27, 28]\n",
      "INFO:fontTools.subset:Closed glyph list over 'GSUB': 12 glyphs after\n",
      "INFO:fontTools.subset:Glyph names: ['.notdef', '.null', 'eight', 'five', 'four', 'nine', 'nonmarkingreturn', 'one', 'period', 'six', 'space', 'zero']\n",
      "INFO:fontTools.subset:Glyph IDs:   [0, 1, 2, 3, 17, 19, 20, 23, 24, 25, 27, 28]\n",
      "INFO:fontTools.subset:Closing glyph list over 'glyf': 12 glyphs before\n",
      "INFO:fontTools.subset:Glyph names: ['.notdef', '.null', 'eight', 'five', 'four', 'nine', 'nonmarkingreturn', 'one', 'period', 'six', 'space', 'zero']\n",
      "INFO:fontTools.subset:Glyph IDs:   [0, 1, 2, 3, 17, 19, 20, 23, 24, 25, 27, 28]\n",
      "INFO:fontTools.subset:Closed glyph list over 'glyf': 12 glyphs after\n",
      "INFO:fontTools.subset:Glyph names: ['.notdef', '.null', 'eight', 'five', 'four', 'nine', 'nonmarkingreturn', 'one', 'period', 'six', 'space', 'zero']\n",
      "INFO:fontTools.subset:Glyph IDs:   [0, 1, 2, 3, 17, 19, 20, 23, 24, 25, 27, 28]\n",
      "INFO:fontTools.subset:Retaining 12 glyphs\n",
      "INFO:fontTools.subset:head subsetting not needed\n",
      "INFO:fontTools.subset:hhea subsetting not needed\n",
      "INFO:fontTools.subset:maxp subsetting not needed\n",
      "INFO:fontTools.subset:OS/2 subsetting not needed\n",
      "INFO:fontTools.subset:hmtx subsetted\n",
      "INFO:fontTools.subset:cmap subsetted\n",
      "INFO:fontTools.subset:fpgm subsetting not needed\n",
      "INFO:fontTools.subset:prep subsetting not needed\n",
      "INFO:fontTools.subset:cvt  subsetting not needed\n",
      "INFO:fontTools.subset:loca subsetting not needed\n",
      "INFO:fontTools.subset:post subsetted\n",
      "INFO:fontTools.subset:gasp subsetting not needed\n",
      "INFO:fontTools.subset:GDEF subsetted\n",
      "INFO:fontTools.subset:GPOS subsetted\n",
      "INFO:fontTools.subset:GSUB subsetted\n",
      "INFO:fontTools.subset:name subsetting not needed\n",
      "INFO:fontTools.subset:glyf subsetted\n",
      "INFO:fontTools.subset:head pruned\n",
      "INFO:fontTools.subset:OS/2 Unicode ranges pruned: [0]\n",
      "INFO:fontTools.subset:glyf pruned\n",
      "INFO:fontTools.subset:GDEF pruned\n",
      "INFO:fontTools.subset:GPOS pruned\n",
      "INFO:fontTools.subset:GSUB pruned\n",
      "INFO:fontTools.subset:name pruned\n",
      "INFO:fontTools.subset:maxp pruned\n",
      "INFO:fontTools.subset:cmap pruned\n",
      "INFO:fontTools.subset:kern dropped\n",
      "INFO:fontTools.subset:post pruned\n",
      "INFO:fontTools.subset:FFTM dropped\n",
      "INFO:fontTools.subset:GPOS pruned\n",
      "INFO:fontTools.subset:GSUB pruned\n",
      "INFO:fontTools.subset:glyf pruned\n"
     ]
    },
    {
     "name": "stdout",
     "output_type": "stream",
     "text": [
      "top_left: 4.91\n",
      "top_right: 4.60\n",
      "bottom_left: 8.15\n",
      "bottom_right: 8.05\n"
     ]
    },
    {
     "name": "stderr",
     "output_type": "stream",
     "text": [
      "INFO:fontTools.subset:Added gid0 to subset\n",
      "INFO:fontTools.subset:Added first four glyphs to subset\n",
      "INFO:fontTools.subset:Closing glyph list over 'GSUB': 41 glyphs before\n",
      "INFO:fontTools.subset:Glyph names: ['.notdef', '.null', 'A', 'D', 'L', 'M', 'N', 'P', 'a', 'b', 'c', 'comma', 'd', 'e', 'five', 'g', 'h', 'hyphen', 'i', 'k', 'l', 'm', 'minus', 'n', 'nine', 'nonmarkingreturn', 'o', 'one', 'p', 'parenleft', 'parenright', 'r', 's', 'space', 't', 'three', 'two', 'u', 'underscore', 'z', 'zero']\n",
      "INFO:fontTools.subset:Glyph IDs:   [0, 1, 2, 3, 11, 12, 15, 16, 19, 20, 21, 22, 24, 28, 36, 39, 47, 48, 49, 51, 66, 68, 69, 70, 71, 72, 74, 75, 76, 78, 79, 80, 81, 82, 83, 85, 86, 87, 88, 93, 3228]\n",
      "INFO:fontTools.subset:Closed glyph list over 'GSUB': 41 glyphs after\n",
      "INFO:fontTools.subset:Glyph names: ['.notdef', '.null', 'A', 'D', 'L', 'M', 'N', 'P', 'a', 'b', 'c', 'comma', 'd', 'e', 'five', 'g', 'h', 'hyphen', 'i', 'k', 'l', 'm', 'minus', 'n', 'nine', 'nonmarkingreturn', 'o', 'one', 'p', 'parenleft', 'parenright', 'r', 's', 'space', 't', 'three', 'two', 'u', 'underscore', 'z', 'zero']\n",
      "INFO:fontTools.subset:Glyph IDs:   [0, 1, 2, 3, 11, 12, 15, 16, 19, 20, 21, 22, 24, 28, 36, 39, 47, 48, 49, 51, 66, 68, 69, 70, 71, 72, 74, 75, 76, 78, 79, 80, 81, 82, 83, 85, 86, 87, 88, 93, 3228]\n",
      "INFO:fontTools.subset:Closing glyph list over 'MATH': 41 glyphs before\n",
      "INFO:fontTools.subset:Glyph names: ['.notdef', '.null', 'A', 'D', 'L', 'M', 'N', 'P', 'a', 'b', 'c', 'comma', 'd', 'e', 'five', 'g', 'h', 'hyphen', 'i', 'k', 'l', 'm', 'minus', 'n', 'nine', 'nonmarkingreturn', 'o', 'one', 'p', 'parenleft', 'parenright', 'r', 's', 'space', 't', 'three', 'two', 'u', 'underscore', 'z', 'zero']\n",
      "INFO:fontTools.subset:Glyph IDs:   [0, 1, 2, 3, 11, 12, 15, 16, 19, 20, 21, 22, 24, 28, 36, 39, 47, 48, 49, 51, 66, 68, 69, 70, 71, 72, 74, 75, 76, 78, 79, 80, 81, 82, 83, 85, 86, 87, 88, 93, 3228]\n",
      "INFO:fontTools.subset:Closed glyph list over 'MATH': 47 glyphs after\n",
      "INFO:fontTools.subset:Glyph names: ['.notdef', '.null', 'A', 'D', 'L', 'M', 'N', 'P', 'a', 'b', 'c', 'comma', 'd', 'e', 'five', 'g', 'h', 'hyphen', 'i', 'k', 'l', 'm', 'minus', 'n', 'nine', 'nonmarkingreturn', 'o', 'one', 'p', 'parenleft', 'parenright', 'r', 's', 'space', 't', 'three', 'two', 'u', 'underscore', 'uni239B', 'uni239C', 'uni239D', 'uni239E', 'uni239F', 'uni23A0', 'z', 'zero']\n",
      "INFO:fontTools.subset:Glyph IDs:   [0, 1, 2, 3, 11, 12, 15, 16, 19, 20, 21, 22, 24, 28, 36, 39, 47, 48, 49, 51, 66, 68, 69, 70, 71, 72, 74, 75, 76, 78, 79, 80, 81, 82, 83, 85, 86, 87, 88, 93, 3228, 3506, 3507, 3508, 3509, 3510, 3511]\n",
      "INFO:fontTools.subset:Closing glyph list over 'glyf': 47 glyphs before\n",
      "INFO:fontTools.subset:Glyph names: ['.notdef', '.null', 'A', 'D', 'L', 'M', 'N', 'P', 'a', 'b', 'c', 'comma', 'd', 'e', 'five', 'g', 'h', 'hyphen', 'i', 'k', 'l', 'm', 'minus', 'n', 'nine', 'nonmarkingreturn', 'o', 'one', 'p', 'parenleft', 'parenright', 'r', 's', 'space', 't', 'three', 'two', 'u', 'underscore', 'uni239B', 'uni239C', 'uni239D', 'uni239E', 'uni239F', 'uni23A0', 'z', 'zero']\n",
      "INFO:fontTools.subset:Glyph IDs:   [0, 1, 2, 3, 11, 12, 15, 16, 19, 20, 21, 22, 24, 28, 36, 39, 47, 48, 49, 51, 66, 68, 69, 70, 71, 72, 74, 75, 76, 78, 79, 80, 81, 82, 83, 85, 86, 87, 88, 93, 3228, 3506, 3507, 3508, 3509, 3510, 3511]\n",
      "INFO:fontTools.subset:Closed glyph list over 'glyf': 47 glyphs after\n",
      "INFO:fontTools.subset:Glyph names: ['.notdef', '.null', 'A', 'D', 'L', 'M', 'N', 'P', 'a', 'b', 'c', 'comma', 'd', 'e', 'five', 'g', 'h', 'hyphen', 'i', 'k', 'l', 'm', 'minus', 'n', 'nine', 'nonmarkingreturn', 'o', 'one', 'p', 'parenleft', 'parenright', 'r', 's', 'space', 't', 'three', 'two', 'u', 'underscore', 'uni239B', 'uni239C', 'uni239D', 'uni239E', 'uni239F', 'uni23A0', 'z', 'zero']\n",
      "INFO:fontTools.subset:Glyph IDs:   [0, 1, 2, 3, 11, 12, 15, 16, 19, 20, 21, 22, 24, 28, 36, 39, 47, 48, 49, 51, 66, 68, 69, 70, 71, 72, 74, 75, 76, 78, 79, 80, 81, 82, 83, 85, 86, 87, 88, 93, 3228, 3506, 3507, 3508, 3509, 3510, 3511]\n",
      "INFO:fontTools.subset:Retaining 47 glyphs\n",
      "INFO:fontTools.subset:head subsetting not needed\n",
      "INFO:fontTools.subset:hhea subsetting not needed\n",
      "INFO:fontTools.subset:maxp subsetting not needed\n",
      "INFO:fontTools.subset:OS/2 subsetting not needed\n",
      "INFO:fontTools.subset:hmtx subsetted\n",
      "INFO:fontTools.subset:cmap subsetted\n",
      "INFO:fontTools.subset:fpgm subsetting not needed\n",
      "INFO:fontTools.subset:prep subsetting not needed\n",
      "INFO:fontTools.subset:cvt  subsetting not needed\n",
      "INFO:fontTools.subset:loca subsetting not needed\n",
      "INFO:fontTools.subset:post subsetted\n",
      "INFO:fontTools.subset:gasp subsetting not needed\n",
      "INFO:fontTools.subset:MATH subsetted\n",
      "INFO:fontTools.subset:GDEF subsetted\n",
      "INFO:fontTools.subset:GPOS subsetted\n",
      "INFO:fontTools.subset:GSUB subsetted\n",
      "INFO:fontTools.subset:name subsetting not needed\n",
      "INFO:fontTools.subset:glyf subsetted\n",
      "INFO:fontTools.subset:head pruned\n",
      "INFO:fontTools.subset:OS/2 Unicode ranges pruned: [0, 38]\n",
      "INFO:fontTools.subset:glyf pruned\n",
      "INFO:fontTools.subset:GDEF pruned\n",
      "INFO:fontTools.subset:GPOS pruned\n",
      "INFO:fontTools.subset:GSUB pruned\n",
      "INFO:fontTools.subset:name pruned\n",
      "INFO:fontTools.subset:maxp pruned\n",
      "INFO:fontTools.subset:cmap pruned\n",
      "INFO:fontTools.subset:kern dropped\n",
      "INFO:fontTools.subset:post pruned\n",
      "INFO:fontTools.subset:FFTM dropped\n",
      "INFO:fontTools.subset:GPOS pruned\n",
      "INFO:fontTools.subset:GSUB pruned\n",
      "INFO:fontTools.subset:glyf pruned\n",
      "INFO:fontTools.subset:Added gid0 to subset\n",
      "INFO:fontTools.subset:Added first four glyphs to subset\n",
      "INFO:fontTools.subset:Closing glyph list over 'GSUB': 12 glyphs before\n",
      "INFO:fontTools.subset:Glyph names: ['.notdef', '.null', 'eight', 'five', 'nine', 'nonmarkingreturn', 'one', 'period', 'space', 'three', 'two', 'zero']\n",
      "INFO:fontTools.subset:Glyph IDs:   [0, 1, 2, 3, 17, 19, 20, 21, 22, 24, 27, 28]\n",
      "INFO:fontTools.subset:Closed glyph list over 'GSUB': 12 glyphs after\n",
      "INFO:fontTools.subset:Glyph names: ['.notdef', '.null', 'eight', 'five', 'nine', 'nonmarkingreturn', 'one', 'period', 'space', 'three', 'two', 'zero']\n",
      "INFO:fontTools.subset:Glyph IDs:   [0, 1, 2, 3, 17, 19, 20, 21, 22, 24, 27, 28]\n",
      "INFO:fontTools.subset:Closing glyph list over 'glyf': 12 glyphs before\n",
      "INFO:fontTools.subset:Glyph names: ['.notdef', '.null', 'eight', 'five', 'nine', 'nonmarkingreturn', 'one', 'period', 'space', 'three', 'two', 'zero']\n",
      "INFO:fontTools.subset:Glyph IDs:   [0, 1, 2, 3, 17, 19, 20, 21, 22, 24, 27, 28]\n",
      "INFO:fontTools.subset:Closed glyph list over 'glyf': 12 glyphs after\n",
      "INFO:fontTools.subset:Glyph names: ['.notdef', '.null', 'eight', 'five', 'nine', 'nonmarkingreturn', 'one', 'period', 'space', 'three', 'two', 'zero']\n",
      "INFO:fontTools.subset:Glyph IDs:   [0, 1, 2, 3, 17, 19, 20, 21, 22, 24, 27, 28]\n",
      "INFO:fontTools.subset:Retaining 12 glyphs\n",
      "INFO:fontTools.subset:head subsetting not needed\n",
      "INFO:fontTools.subset:hhea subsetting not needed\n",
      "INFO:fontTools.subset:maxp subsetting not needed\n",
      "INFO:fontTools.subset:OS/2 subsetting not needed\n",
      "INFO:fontTools.subset:hmtx subsetted\n",
      "INFO:fontTools.subset:cmap subsetted\n",
      "INFO:fontTools.subset:fpgm subsetting not needed\n",
      "INFO:fontTools.subset:prep subsetting not needed\n",
      "INFO:fontTools.subset:cvt  subsetting not needed\n",
      "INFO:fontTools.subset:loca subsetting not needed\n",
      "INFO:fontTools.subset:post subsetted\n",
      "INFO:fontTools.subset:gasp subsetting not needed\n",
      "INFO:fontTools.subset:GDEF subsetted\n",
      "INFO:fontTools.subset:GPOS subsetted\n",
      "INFO:fontTools.subset:GSUB subsetted\n",
      "INFO:fontTools.subset:name subsetting not needed\n",
      "INFO:fontTools.subset:glyf subsetted\n",
      "INFO:fontTools.subset:head pruned\n",
      "INFO:fontTools.subset:OS/2 Unicode ranges pruned: [0]\n",
      "INFO:fontTools.subset:glyf pruned\n",
      "INFO:fontTools.subset:GDEF pruned\n",
      "INFO:fontTools.subset:GPOS pruned\n",
      "INFO:fontTools.subset:GSUB pruned\n",
      "INFO:fontTools.subset:name pruned\n",
      "INFO:fontTools.subset:maxp pruned\n",
      "INFO:fontTools.subset:cmap pruned\n",
      "INFO:fontTools.subset:kern dropped\n",
      "INFO:fontTools.subset:post pruned\n",
      "INFO:fontTools.subset:FFTM dropped\n",
      "INFO:fontTools.subset:GPOS pruned\n",
      "INFO:fontTools.subset:GSUB pruned\n"
     ]
    },
    {
     "name": "stdout",
     "output_type": "stream",
     "text": [
      "top_left: 2.28\n",
      "top_right: 1.30\n",
      "bottom_left: 1.89\n",
      "bottom_right: 1.35\n"
     ]
    },
    {
     "name": "stderr",
     "output_type": "stream",
     "text": [
      "INFO:fontTools.subset:glyf pruned\n",
      "INFO:fontTools.subset:Added gid0 to subset\n",
      "INFO:fontTools.subset:Added first four glyphs to subset\n",
      "INFO:fontTools.subset:Closing glyph list over 'GSUB': 41 glyphs before\n",
      "INFO:fontTools.subset:Glyph names: ['.notdef', '.null', 'A', 'D', 'L', 'M', 'N', 'P', 'a', 'b', 'c', 'comma', 'd', 'e', 'five', 'g', 'h', 'hyphen', 'i', 'k', 'l', 'm', 'minus', 'n', 'nonmarkingreturn', 'o', 'one', 'p', 'parenleft', 'parenright', 'period', 'r', 's', 'space', 't', 'three', 'two', 'u', 'underscore', 'z', 'zero']\n",
      "INFO:fontTools.subset:Glyph IDs:   [0, 1, 2, 3, 11, 12, 15, 16, 17, 19, 20, 21, 22, 24, 36, 39, 47, 48, 49, 51, 66, 68, 69, 70, 71, 72, 74, 75, 76, 78, 79, 80, 81, 82, 83, 85, 86, 87, 88, 93, 3228]\n",
      "INFO:fontTools.subset:Closed glyph list over 'GSUB': 41 glyphs after\n",
      "INFO:fontTools.subset:Glyph names: ['.notdef', '.null', 'A', 'D', 'L', 'M', 'N', 'P', 'a', 'b', 'c', 'comma', 'd', 'e', 'five', 'g', 'h', 'hyphen', 'i', 'k', 'l', 'm', 'minus', 'n', 'nonmarkingreturn', 'o', 'one', 'p', 'parenleft', 'parenright', 'period', 'r', 's', 'space', 't', 'three', 'two', 'u', 'underscore', 'z', 'zero']\n",
      "INFO:fontTools.subset:Glyph IDs:   [0, 1, 2, 3, 11, 12, 15, 16, 17, 19, 20, 21, 22, 24, 36, 39, 47, 48, 49, 51, 66, 68, 69, 70, 71, 72, 74, 75, 76, 78, 79, 80, 81, 82, 83, 85, 86, 87, 88, 93, 3228]\n",
      "INFO:fontTools.subset:Closing glyph list over 'MATH': 41 glyphs before\n",
      "INFO:fontTools.subset:Glyph names: ['.notdef', '.null', 'A', 'D', 'L', 'M', 'N', 'P', 'a', 'b', 'c', 'comma', 'd', 'e', 'five', 'g', 'h', 'hyphen', 'i', 'k', 'l', 'm', 'minus', 'n', 'nonmarkingreturn', 'o', 'one', 'p', 'parenleft', 'parenright', 'period', 'r', 's', 'space', 't', 'three', 'two', 'u', 'underscore', 'z', 'zero']\n",
      "INFO:fontTools.subset:Glyph IDs:   [0, 1, 2, 3, 11, 12, 15, 16, 17, 19, 20, 21, 22, 24, 36, 39, 47, 48, 49, 51, 66, 68, 69, 70, 71, 72, 74, 75, 76, 78, 79, 80, 81, 82, 83, 85, 86, 87, 88, 93, 3228]\n",
      "INFO:fontTools.subset:Closed glyph list over 'MATH': 47 glyphs after\n",
      "INFO:fontTools.subset:Glyph names: ['.notdef', '.null', 'A', 'D', 'L', 'M', 'N', 'P', 'a', 'b', 'c', 'comma', 'd', 'e', 'five', 'g', 'h', 'hyphen', 'i', 'k', 'l', 'm', 'minus', 'n', 'nonmarkingreturn', 'o', 'one', 'p', 'parenleft', 'parenright', 'period', 'r', 's', 'space', 't', 'three', 'two', 'u', 'underscore', 'uni239B', 'uni239C', 'uni239D', 'uni239E', 'uni239F', 'uni23A0', 'z', 'zero']\n",
      "INFO:fontTools.subset:Glyph IDs:   [0, 1, 2, 3, 11, 12, 15, 16, 17, 19, 20, 21, 22, 24, 36, 39, 47, 48, 49, 51, 66, 68, 69, 70, 71, 72, 74, 75, 76, 78, 79, 80, 81, 82, 83, 85, 86, 87, 88, 93, 3228, 3506, 3507, 3508, 3509, 3510, 3511]\n",
      "INFO:fontTools.subset:Closing glyph list over 'glyf': 47 glyphs before\n",
      "INFO:fontTools.subset:Glyph names: ['.notdef', '.null', 'A', 'D', 'L', 'M', 'N', 'P', 'a', 'b', 'c', 'comma', 'd', 'e', 'five', 'g', 'h', 'hyphen', 'i', 'k', 'l', 'm', 'minus', 'n', 'nonmarkingreturn', 'o', 'one', 'p', 'parenleft', 'parenright', 'period', 'r', 's', 'space', 't', 'three', 'two', 'u', 'underscore', 'uni239B', 'uni239C', 'uni239D', 'uni239E', 'uni239F', 'uni23A0', 'z', 'zero']\n",
      "INFO:fontTools.subset:Glyph IDs:   [0, 1, 2, 3, 11, 12, 15, 16, 17, 19, 20, 21, 22, 24, 36, 39, 47, 48, 49, 51, 66, 68, 69, 70, 71, 72, 74, 75, 76, 78, 79, 80, 81, 82, 83, 85, 86, 87, 88, 93, 3228, 3506, 3507, 3508, 3509, 3510, 3511]\n",
      "INFO:fontTools.subset:Closed glyph list over 'glyf': 47 glyphs after\n",
      "INFO:fontTools.subset:Glyph names: ['.notdef', '.null', 'A', 'D', 'L', 'M', 'N', 'P', 'a', 'b', 'c', 'comma', 'd', 'e', 'five', 'g', 'h', 'hyphen', 'i', 'k', 'l', 'm', 'minus', 'n', 'nonmarkingreturn', 'o', 'one', 'p', 'parenleft', 'parenright', 'period', 'r', 's', 'space', 't', 'three', 'two', 'u', 'underscore', 'uni239B', 'uni239C', 'uni239D', 'uni239E', 'uni239F', 'uni23A0', 'z', 'zero']\n",
      "INFO:fontTools.subset:Glyph IDs:   [0, 1, 2, 3, 11, 12, 15, 16, 17, 19, 20, 21, 22, 24, 36, 39, 47, 48, 49, 51, 66, 68, 69, 70, 71, 72, 74, 75, 76, 78, 79, 80, 81, 82, 83, 85, 86, 87, 88, 93, 3228, 3506, 3507, 3508, 3509, 3510, 3511]\n",
      "INFO:fontTools.subset:Retaining 47 glyphs\n",
      "INFO:fontTools.subset:head subsetting not needed\n",
      "INFO:fontTools.subset:hhea subsetting not needed\n",
      "INFO:fontTools.subset:maxp subsetting not needed\n",
      "INFO:fontTools.subset:OS/2 subsetting not needed\n",
      "INFO:fontTools.subset:hmtx subsetted\n",
      "INFO:fontTools.subset:cmap subsetted\n",
      "INFO:fontTools.subset:fpgm subsetting not needed\n",
      "INFO:fontTools.subset:prep subsetting not needed\n",
      "INFO:fontTools.subset:cvt  subsetting not needed\n",
      "INFO:fontTools.subset:loca subsetting not needed\n",
      "INFO:fontTools.subset:post subsetted\n",
      "INFO:fontTools.subset:gasp subsetting not needed\n",
      "INFO:fontTools.subset:MATH subsetted\n",
      "INFO:fontTools.subset:GDEF subsetted\n",
      "INFO:fontTools.subset:GPOS subsetted\n",
      "INFO:fontTools.subset:GSUB subsetted\n",
      "INFO:fontTools.subset:name subsetting not needed\n",
      "INFO:fontTools.subset:glyf subsetted\n",
      "INFO:fontTools.subset:head pruned\n",
      "INFO:fontTools.subset:OS/2 Unicode ranges pruned: [0, 38]\n",
      "INFO:fontTools.subset:glyf pruned\n",
      "INFO:fontTools.subset:GDEF pruned\n",
      "INFO:fontTools.subset:GPOS pruned\n",
      "INFO:fontTools.subset:GSUB pruned\n",
      "INFO:fontTools.subset:name pruned\n"
     ]
    },
    {
     "data": {
      "image/png": "[encoded data removed]",
      "text/plain": [
       "<Figure size 400x400 with 2 Axes>"
      ]
     },
     "metadata": {},
     "output_type": "display_data"
    },
    {
     "data": {
      "image/png": "[encoded data removed]",
      "text/plain": [
       "<Figure size 400x400 with 2 Axes>"
      ]
     },
     "metadata": {},
     "output_type": "display_data"
    }
   ],
   "source": [
    "# Dip3d\n",
    "pipeline = \"Dip3d_pathernal\"\n",
    "coolfile = \"/data1/chenying/dip3d/chrX-dip3d/chrX_HP1_hg19_jmatrix.mcool\"\n",
    "resolution = 25_000\n",
    "PlotAPA(pipeline, coolfile, paired_sites ,resolution)\n",
    "\n",
    "pipeline = \"Dip3d_mathernal\"\n",
    "coolfile = \"/data1/chenying/dip3d/chrX-dip3d/chrX_HP2_hg19_jmatrix.mcool\"\n",
    "resolution = 25_000\n",
    "PlotAPA(pipeline, coolfile, paired_sites ,resolution)\n",
    "\n"
   ]
  },
  {
   "cell_type": "code",
   "execution_count": null,
   "id": "5c4a2b12",
   "metadata": {},
   "outputs": [],
   "source": []
  },
  {
   "cell_type": "code",
   "execution_count": null,
   "id": "744eba20",
   "metadata": {},
   "outputs": [],
   "source": []
  }
 ],
 "metadata": {
  "kernelspec": {
   "display_name": "Python 3 (ipykernel)",
   "language": "python",
   "name": "python3"
  },
  "language_info": {
   "codemirror_mode": {
    "name": "ipython",
    "version": 3
   },
   "file_extension": ".py",
   "mimetype": "text/x-python",
   "name": "python",
   "nbconvert_exporter": "python",
   "pygments_lexer": "ipython3",
   "version": "3.10.9"
  }
 },
 "nbformat": 4,
 "nbformat_minor": 5
}
