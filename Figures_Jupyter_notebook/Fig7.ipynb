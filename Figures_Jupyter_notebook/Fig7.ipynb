{
 "cells": [
  {
   "cell_type": "code",
   "execution_count": 1,
   "id": "f6a89ff7",
   "metadata": {
    "ExecuteTime": {
     "end_time": "2024-08-13T13:01:55.015129Z",
     "start_time": "2024-08-13T13:01:53.667452Z"
    }
   },
   "outputs": [],
   "source": [
    "import pandas as pd\n",
    "import numpy as np\n",
    "import matplotlib.pyplot as plt\n",
    "import seaborn as sns\n",
    "from matplotlib import rcParams \n",
    "from scipy import stats\n",
    "import scipy\n",
    "from scipy.stats import pearsonr\n",
    "import numpy as np\n",
    "from scipy.stats import linregress\n",
    "rcParams['pdf.fonttype'] = 42 # True font\n",
    "rcParams['font.size'] =  8  \n",
    "rcParams['grid.linewidth'] =  0.5 \n",
    "rcParams['lines.color'] = 'b' \n",
    "rcParams['lines.linewidth'] = 1 \n",
    "rcParams['lines.markersize'] = 3\n",
    "rcParams['lines.markeredgewidth'] = 0 # set Marker with no edgelines\n",
    "rcParams['axes.linewidth'] = 0.5\n",
    "rcParams['axes.titlesize'] = 8\n",
    "rcParams['axes.labelsize'] = 8\n",
    "rcParams['xtick.labelsize'] = 8\n",
    "rcParams['ytick.labelsize'] = 8\n",
    "rcParams['legend.fontsize'] = 8\n",
    "rcParams['legend.title_fontsize'] = 8"
   ]
  },
  {
   "cell_type": "code",
   "execution_count": 2,
   "id": "25336812",
   "metadata": {
    "ExecuteTime": {
     "end_time": "2024-08-13T13:01:57.167308Z",
     "start_time": "2024-08-13T13:01:56.847352Z"
    }
   },
   "outputs": [],
   "source": [
    "# Allele_specific genes\n",
    "Rawdir=\"/data2/linzhuobin/Hap3D_Figures/figure_processing_data/Fig6\"\n",
    "outdir=\"/data2/linzhuobin/Hap3D_Figures/pdf\"\n",
    "filename = f\"{Rawdir}/pre_data/Allele_specific_genes.txt\"\n",
    "AS_genes_df = pd.read_csv(filename, header=0, index_col=None, sep=\"\\t\")\n",
    "AS_genes = AS_genes_df[\"Gene ID\"].to_list()\n",
    "\n",
    "file_path = f\"{Rawdir}/pre_data/imprinted.xlsx\"  # imprinted genes\n",
    "imprinted_df = pd.read_excel(file_path)\n",
    "\n",
    "P = ( imprinted_df[\"Expressed allele\"]==\"Maternal\" ) | (  imprinted_df[\"Expressed allele\"]==\"Paternal\" )\n",
    "imprinted_df = imprinted_df.loc[P, :]\n",
    "imprinted_genes = imprinted_df['Gene ID'].tolist()"
   ]
  },
  {
   "cell_type": "code",
   "execution_count": 3,
   "id": "cd71f8bd",
   "metadata": {
    "ExecuteTime": {
     "end_time": "2024-08-13T13:02:00.125452Z",
     "start_time": "2024-08-13T13:02:00.034789Z"
    }
   },
   "outputs": [],
   "source": [
    "# chrX ESVE\n",
    "file_path = f'{Rawdir}/pre_data/chrx_E_S_VE.xlsx' # ES genes\n",
    "chrx_E_S_VE = pd.read_excel(file_path,header = None,\n",
    "                           names = ['Genename', 'Type'])\n",
    "chrx_E_S_VE.replace(np.nan, 'Other', inplace = True)\n",
    "chrx_E_S_VE.replace(\"PAR\", 'Other', inplace = True)\n",
    "chrx_E_S_VE.replace(\"Mostly S\", 'S', inplace = True)\n",
    "chrx_E_S_VE.replace(\"Mostly E\", 'E', inplace = True)\n",
    "chrx_E_S_VE.replace(\"Mostly VE\", 'VE', inplace = True)\n",
    "chrx_E_S_VE = chrx_E_S_VE.set_index(\"Genename\")[\"Type\"].to_dict()\n",
    "\n",
    "file_path = f'{Rawdir}/pre_data/chrx_E_S_ES_ENSG.txt'\n",
    "ESVE_df = pd.read_csv(file_path, sep=\"\\t\", \n",
    "                        header=None, index_col=None, names=[\"Genename\", \"ENSG\", \"ID\"] )\n",
    "ESVE_df[\"Type\"] = \"Other\"\n",
    "ESVE_df[\"Type\"] = ESVE_df[\"Genename\"].apply(lambda x: chrx_E_S_VE[x] )\n",
    "ESVE_df[\"Chromosome\"] = \"chrX\"\n",
    "S_genes = ESVE_df.loc[ESVE_df.Type==\"S\", \"ENSG\"].to_list()\n",
    "E_genes = ESVE_df.loc[ESVE_df.Type==\"E\", \"ENSG\"].to_list()\n",
    "VE_genes = ESVE_df.loc[ESVE_df.Type==\"VE\", \"ENSG\"].to_list()"
   ]
  },
  {
   "cell_type": "code",
   "execution_count": 4,
   "id": "e8d1b9bb",
   "metadata": {
    "ExecuteTime": {
     "end_time": "2024-08-13T13:02:02.341022Z",
     "start_time": "2024-08-13T13:02:02.047303Z"
    },
    "scrolled": true
   },
   "outputs": [],
   "source": [
    "# filter readcount >= 5\n",
    "thred = 5\n",
    "\n",
    "filename_M = f'{Rawdir}/pre_data/MER_all.txt'#genes\n",
    "result_M = pd.read_csv(filename_M, header=0,  sep=\"\\t\")\n",
    "result_M[\"h1_rc\"] = result_M[\"ME_hp1\"] + result_M[\"NE_hp1\"] + result_M[\"SE_hp1\"]\n",
    "result_M[\"h2_rc\"] = result_M[\"ME_hp2\"] + result_M[\"NE_hp2\"] + result_M[\"SE_hp2\"]\n",
    "P_M = (result_M[\"h1_rc\"]>=thred)&(result_M[\"h2_rc\"] >= thred)\n",
    "result_M = result_M.loc[P_M, :]\n",
    "\n",
    "filename_D = f'{Rawdir}/pre_data/DLR_all.txt' #genes\n",
    "result_D = pd.read_csv(filename_D, header=0,  sep=\"\\t\")\n",
    "#result_D[\"DLR_difference\"] = (result_D[\"h1_mean\"] - result_D[\"h2_mean\"]).abs()\n",
    "P_D = (result_D[\"h1_nobs\"]>=thred)&(result_D[\"h2_nobs\"] >= thred)\n",
    "result_D = result_D.loc[P_D, :]"
   ]
  },
  {
   "cell_type": "code",
   "execution_count": 5,
   "id": "9b7018e9",
   "metadata": {
    "ExecuteTime": {
     "end_time": "2024-08-13T13:02:24.677695Z",
     "start_time": "2024-08-13T13:02:24.621629Z"
    }
   },
   "outputs": [],
   "source": [
    "# HP1 and HP2 and theri corresbonding Maternal and Paternal\n",
    "\n",
    "# HP1 = Maternal, HP2 = Paternal;\n",
    "H1mH2p=[\"chr11\",\"chr12\",\"chr13\",\"chr14\",\"chr15\", \"chr18\", \"chr21\", \"chr22\", \"chr3\", \"chr7\", \"chr8\", \"chrX\"] \n",
    "# HP1 = Paternal, HP2 = Maternal;\n",
    "H1pH2m=[\"chr1\", \"chr10\", \"chr16\", \"chr17\", \"chr19\", \"chr2\", \"chr20\", \"chr4\", \"chr5\", \"chr6\", \"chr9\"] \n",
    "\n",
    "\n",
    "df1_M = result_M.loc[result_M.chrom.isin(H1mH2p),\n",
    "       [\"chrom\",\"PID\", \"ME_ratio_hp1\",  \"ME_ratio_hp2\"]  ]\n",
    "df1_M.columns = [\"chrom\",\"index\", \"ma_mean\", \"pa_mean\"]\n",
    "\n",
    "df2_M = result_M.loc[result_M.chrom.isin(H1pH2m),\n",
    "       [\"chrom\",\"PID\", \"ME_ratio_hp2\", \"ME_ratio_hp1\"]  ]\n",
    "df2_M.columns = [\"chrom\",\"index\", \"ma_mean\", \"pa_mean\"]\n",
    "\n",
    "result_M = pd.concat([df1_M, df2_M], axis=0)\n",
    "result_M = result_M.dropna()\n",
    "result_M[\"diff_MER\"] = ( result_M[\"ma_mean\"] - result_M[\"pa_mean\"] ).abs()\n",
    "\n",
    "df1_D = result_D.loc[result_D.chrom.isin(H1mH2p),\n",
    "       [\"chrom\",\"index\", \"h1_mean\", \"h1_std\", \"h1_nobs\", \"h2_mean\", \"h2_std\", \"h2_nobs\", \"pvalue\", \"adjpval\"]  ]\n",
    "df1_D.columns = [\"chrom\",\"index\", \"ma_mean\", \"ma_std\", \"ma_nobs\", \"pa_mean\", \"pa_std\", \"pa_nobs\", \"pvalue\", \"adjpval\"]\n",
    "\n",
    "df2_D = result_D.loc[result_D.chrom.isin(H1pH2m),\n",
    "       [\"chrom\",\"index\", \"h2_mean\", \"h2_std\", \"h2_nobs\", \"h1_mean\", \"h1_std\", \"h1_nobs\",\"pvalue\", \"adjpval\"]  ]\n",
    "df2_D.columns = [\"chrom\",\"index\", \"ma_mean\", \"ma_std\", \"ma_nobs\", \"pa_mean\", \"pa_std\", \"pa_nobs\", \"pvalue\", \"adjpval\"]\n",
    "\n",
    "result_D = pd.concat([df1_D, df2_D], axis=0)\n",
    "result_D[\"diff_SDPR\"] = ( result_D[\"ma_mean\"] - result_D[\"pa_mean\"] ).abs()"
   ]
  },
  {
   "cell_type": "code",
   "execution_count": 6,
   "id": "b7a473de",
   "metadata": {
    "ExecuteTime": {
     "end_time": "2024-08-13T13:02:28.138623Z",
     "start_time": "2024-08-13T13:02:28.133095Z"
    }
   },
   "outputs": [],
   "source": [
    "def stat_pvalue(xdata,ydata):\n",
    "    stat, p_value = scipy.stats.ttest_ind(xdata,ydata,equal_var=False)\n",
    "    return(p_value)"
   ]
  },
  {
   "cell_type": "code",
   "execution_count": 7,
   "id": "4ebadeeb",
   "metadata": {
    "ExecuteTime": {
     "end_time": "2024-08-13T13:02:34.001803Z",
     "start_time": "2024-08-13T13:02:33.449038Z"
    }
   },
   "outputs": [
    {
     "data": {
      "image/png": "[encoded data removed]",
      "text/plain": [
       "<Figure size 600x300 with 3 Axes>"
      ]
     },
     "metadata": {},
     "output_type": "display_data"
    }
   ],
   "source": [
    "#Autosome imprinted genes\n",
    "autosome = result_D.loc[ result_D.chrom != \"chrX\"].copy()\n",
    "# Autosome plot\n",
    "im_mgenes = imprinted_df.loc[(imprinted_df.Chromosome != \"chrX\")&(imprinted_df[\"Expressed allele\"] == \"Maternal\"), \"Gene ID\"]\n",
    "im_pgenes = imprinted_df.loc[(imprinted_df.Chromosome != \"chrX\")&(imprinted_df[\"Expressed allele\"] == \"Paternal\"), \"Gene ID\"]\n",
    "\n",
    "AS_imp = list(im_mgenes)\n",
    "AS_imp.extend(im_pgenes)\n",
    "AS_imp = list(set(AS_imp))\n",
    "other_genes = autosome.loc[~autosome[\"index\"].isin(AS_imp), \"index\"].to_list()\n",
    "GeneList = [im_mgenes, im_pgenes, other_genes]\n",
    "\n",
    "Samplelist = [ f\"Imprinted genes\\n(maternal)\", f\"Imprinted genes\\n(paternal)\",\n",
    "            f\"Other genes\" ]\n",
    "\n",
    "num_groups = len(Samplelist)\n",
    "cols = 3\n",
    "rows = int(  num_groups// cols )\n",
    "fig, axs = plt.subplots(rows, cols, figsize=(6, 3), sharey=True)\n",
    "axs = axs.flatten()\n",
    "n = 0\n",
    "\n",
    "for genes, sID in zip( GeneList, Samplelist ):\n",
    "    #genes, sID = GeneList[0], Samplelist[0]\n",
    "    v1 = autosome.loc[autosome[\"index\"].isin(genes), \"ma_mean\"].values\n",
    "    v2 = autosome.loc[autosome[\"index\"].isin(genes), \"pa_mean\"].values\n",
    "    boxdata = pd.DataFrame({\"Value\": list(v1) + list(v2) ,\n",
    "                           \"Hap\": len(v1)*[f'Hp1']+len(v2)*[f'Hp2'] })\n",
    "    pval = stat_pvalue(v1, v2)\n",
    "    sns.boxplot(x='Hap', \n",
    "                y='Value', \n",
    "                data=boxdata,\n",
    "               showfliers = False,\n",
    "                ax=axs[n])\n",
    "\n",
    "    ## fold chagne and p_value\n",
    "    x1, x2 = 0, 1\n",
    "    y = 2.5\n",
    "    h = y*0.05\n",
    "    FC = np.mean(v1)/np.mean(v2)\n",
    "    axs[n].plot([x1, x1, x2, x2], [y, y+h, y+h, y], lw=1, c=\"k\")\n",
    "    axs[n].text((x1+x2)/2-0.3 ,y+2*h,f\"Fc={FC:.3f}\\nP={pval:.3f}\")\n",
    "    axs[n].set_ylim([-0.1, 4])\n",
    "    if n == 0:\n",
    "        axs[n].set_ylabel(\"SDPR\")\n",
    "    else:\n",
    "        axs[n].set_ylabel(\"\")\n",
    "    axs[n].set_xlabel(\"\")\n",
    "    axs[n].set_title(f\"{sID}\\nN={len(v1)}\")\n",
    "    n += 1\n",
    "plt.tight_layout()\n",
    "# plt.savefig(f\"{outdir}/autosome_SDPR.pdf\")\n",
    "plt.show()"
   ]
  },
  {
   "cell_type": "code",
   "execution_count": 11,
   "id": "c8822ff4",
   "metadata": {
    "ExecuteTime": {
     "end_time": "2024-08-13T13:04:52.100781Z",
     "start_time": "2024-08-13T13:04:51.792212Z"
    }
   },
   "outputs": [
    {
     "data": {
      "image/png": "[encoded data removed]",
      "text/plain": [
       "<Figure size 500x300 with 2 Axes>"
      ]
     },
     "metadata": {},
     "output_type": "display_data"
    }
   ],
   "source": [
    "#chrX\n",
    "chrX_df = result_D.loc[ result_D.chrom == \"chrX\"].copy()\n",
    "\n",
    "AS_mgenes = AS_genes_df.loc[(AS_genes_df.Chromosome == \"chrX\")\n",
    "                            &(AS_genes_df[\"Expressed allele\"] == \"Maternal\"), \"Gene ID\"]\n",
    "\n",
    "AE=[]\n",
    "AE.extend(S_genes)\n",
    "AE.extend(E_genes)\n",
    "AE.extend(VE_genes)\n",
    "other_genes = chrX_df.loc[~chrX_df[\"index\"].isin(AE), \"index\"].to_list()\n",
    "\n",
    "\n",
    "GeneList = [ S_genes, E_genes]\n",
    "\n",
    "Samplelist = [ f\"XCI genes\", f\"Escape genes\" ]\n",
    "\n",
    "num_groups = len(Samplelist)\n",
    "cols = 2\n",
    "rows = int(  num_groups// cols )\n",
    "fig, axs = plt.subplots(rows, cols, figsize=(5, 3), sharey=True)\n",
    "axs = axs.flatten()\n",
    "n = 0\n",
    "\n",
    "for genes, sID in zip( GeneList, Samplelist ):\n",
    "    #genes, sID = GeneList[0], Samplelist[0]\n",
    "    v1 = chrX_df.loc[chrX_df[\"index\"].isin(genes), \"ma_mean\"].values\n",
    "    v2 = chrX_df.loc[chrX_df[\"index\"].isin(genes), \"pa_mean\"].values\n",
    "    boxdata = pd.DataFrame({\"Value\": list(v1) + list(v2) ,\n",
    "                           \"Hap\": len(v1)*[f'Hp1']+len(v2)*[f'Hp2'] })\n",
    "    pval = stat_pvalue(v1, v2)\n",
    "    sns.boxplot(x='Hap', \n",
    "                y='Value', \n",
    "                data=boxdata,\n",
    "               showfliers = False,\n",
    "                ax=axs[n])\n",
    "\n",
    "    ## fold chagne and p_value\n",
    "    x1, x2 = 0, 1\n",
    "    y = 4.2\n",
    "    h = y*0.05\n",
    "    FC = np.mean(v1)/np.mean(v2)\n",
    "    axs[n].plot([x1, x1, x2, x2], [y, y+h, y+h, y], lw=1, c=\"k\")\n",
    "    axs[n].text((x1+x2)/2-0.3 ,y+2*h,f\"Fc={FC:.3f}\\nP={pval:.3f}\")\n",
    "    axs[n].set_ylim([-0.1, 5.5])\n",
    "    if n == 0:\n",
    "        axs[n].set_ylabel(\"SDPR\")\n",
    "    else:\n",
    "        axs[n].set_ylabel(\"\")\n",
    "    axs[n].set_xlabel(\"\")\n",
    "    axs[n].set_title(f\"{sID}\\nN={len(v1)}\")\n",
    "    n += 1\n",
    "plt.tight_layout()\n",
    "# plt.savefig(f\"{Rawdir}/chrX_SDPR.pdf\")\n",
    "plt.show()"
   ]
  },
  {
   "cell_type": "code",
   "execution_count": 56,
   "id": "d3bd6de2",
   "metadata": {
    "ExecuteTime": {
     "end_time": "2023-09-11T03:24:10.810394Z",
     "start_time": "2023-09-11T03:24:10.295073Z"
    }
   },
   "outputs": [
    {
     "data": {
      "image/png": "[encoded data removed]",
      "text/plain": [
       "<Figure size 600x300 with 3 Axes>"
      ]
     },
     "metadata": {},
     "output_type": "display_data"
    }
   ],
   "source": [
    "# Autosome plot\n",
    "autosome = result_M.loc[ result_M.chrom != \"chrX\"].copy()\n",
    "# Autosome plot\n",
    "im_mgenes = imprinted_df.loc[(imprinted_df.Chromosome != \"chrX\")&(imprinted_df[\"Expressed allele\"] == \"Maternal\"), \"Gene ID\"]\n",
    "im_pgenes = imprinted_df.loc[(imprinted_df.Chromosome != \"chrX\")&(imprinted_df[\"Expressed allele\"] == \"Paternal\"), \"Gene ID\"]\n",
    "\n",
    "AS_imp = list(im_mgenes)\n",
    "AS_imp.extend(im_pgenes)\n",
    "AS_imp = list(set(AS_imp))\n",
    "other_genes = autosome.loc[~autosome[\"index\"].isin(AS_imp), \"index\"].to_list()\n",
    "GeneList = [im_mgenes, im_pgenes, other_genes]\n",
    "\n",
    "Samplelist = [ f\"Imprinted genes\\n(maternal)\", f\"Imprinted genes\\n(paternal)\",\n",
    "            f\"Other genes\" ]\n",
    "\n",
    "num_groups = len(Samplelist)\n",
    "cols = 3\n",
    "rows = int(  num_groups// cols )\n",
    "fig, axs = plt.subplots(rows, cols, figsize=(6, 3), sharey=True)\n",
    "axs = axs.flatten()\n",
    "n = 0\n",
    "\n",
    "for genes, sID in zip( GeneList, Samplelist ):\n",
    "    #genes, sID = GeneList[0], Samplelist[0]\n",
    "    v1 = autosome.loc[autosome[\"index\"].isin(genes), \"ma_mean\"].values\n",
    "    v2 = autosome.loc[autosome[\"index\"].isin(genes), \"pa_mean\"].values\n",
    "    boxdata = pd.DataFrame({\"Value\": list(v1) + list(v2) ,\n",
    "                           \"Hap\": len(v1)*[f'Hp1']+len(v2)*[f'Hp2'] })\n",
    "    pval = stat_pvalue(v1, v2)\n",
    "    sns.boxplot(x='Hap', \n",
    "                y='Value', \n",
    "                data=boxdata,\n",
    "               showfliers = False,\n",
    "                ax=axs[n])\n",
    "\n",
    "    ## fold chagne and p_value\n",
    "    x1, x2 = 0, 1\n",
    "    y = 0.6\n",
    "    h = y*0.05\n",
    "    FC = np.mean(v1)/np.mean(v2)\n",
    "    axs[n].plot([x1, x1, x2, x2], [y, y+h, y+h, y], lw=1, c=\"k\")\n",
    "    axs[n].text((x1+x2)/2-0.3 ,y+2*h,f\"Fc={FC:.3f}\\nP={pval:.3f}\")\n",
    "    axs[n].set_ylim([-0.1, 1])\n",
    "    if n == 0:\n",
    "        axs[n].set_ylabel(\"MER\")\n",
    "    else:\n",
    "        axs[n].set_ylabel(\"\")\n",
    "    axs[n].set_xlabel(\"\")\n",
    "    axs[n].set_title(f\"{sID}\\nN={len(v1)}\")\n",
    "    n += 1\n",
    "plt.tight_layout()\n",
    "plt.savefig(f\"{outdir}/autosome_MRE_v1.pdf\")\n",
    "plt.show()"
   ]
  },
  {
   "cell_type": "code",
   "execution_count": 12,
   "id": "20c504fe",
   "metadata": {
    "ExecuteTime": {
     "end_time": "2024-08-13T13:06:52.485872Z",
     "start_time": "2024-08-13T13:06:52.070765Z"
    }
   },
   "outputs": [
    {
     "data": {
      "image/png": "[encoded data removed]",
      "text/plain": [
       "<Figure size 500x300 with 2 Axes>"
      ]
     },
     "metadata": {},
     "output_type": "display_data"
    }
   ],
   "source": [
    "#chrX\n",
    "chrX_df = result_M.loc[ result_M.chrom == \"chrX\"].copy()\n",
    "\n",
    "AS_mgenes = AS_genes_df.loc[(AS_genes_df.Chromosome == \"chrX\")&(AS_genes_df[\"Expressed allele\"] == \"Maternal\"), \"Gene ID\"]\n",
    "#AE = list(AS_genes)\n",
    "AE=[]\n",
    "AE.extend(S_genes)\n",
    "AE.extend(E_genes)\n",
    "AE.extend(VE_genes)\n",
    "other_genes = chrX_df.loc[~chrX_df[\"index\"].isin(AE), \"index\"].to_list()\n",
    "\n",
    "\n",
    "GeneList = [ S_genes, E_genes, VE_genes, other_genes]\n",
    "\n",
    "Samplelist = [ f\"XCI genes\", f\"Escape genes\"]\n",
    "\n",
    "num_groups = len(Samplelist)\n",
    "cols = 2\n",
    "rows = int(  num_groups// cols )\n",
    "fig, axs = plt.subplots(rows, cols, figsize=(5, 3), sharey=True)\n",
    "axs = axs.flatten()\n",
    "n = 0\n",
    "\n",
    "for genes, sID in zip( GeneList, Samplelist ):\n",
    "    #genes, sID = GeneList[0], Samplelist[0]\n",
    "    v1 = chrX_df.loc[chrX_df[\"index\"].isin(genes), \"ma_mean\"].values\n",
    "    v2 = chrX_df.loc[chrX_df[\"index\"].isin(genes), \"pa_mean\"].values\n",
    "    boxdata = pd.DataFrame({\"Value\": list(v1) + list(v2) ,\n",
    "                           \"Hap\": len(v1)*[f'Hp1']+len(v2)*[f'Hp2'] })\n",
    "    pval = stat_pvalue(v1, v2)\n",
    "    sns.boxplot(x='Hap', \n",
    "                y='Value', \n",
    "                data=boxdata,\n",
    "               showfliers = False,\n",
    "                ax=axs[n])\n",
    "\n",
    "    ## fold chagne and p_value\n",
    "    x1, x2 = 0, 1\n",
    "    y = 0.3\n",
    "    h = y*0.05\n",
    "    FC = np.mean(v1)/np.mean(v2)\n",
    "    axs[n].plot([x1, x1, x2, x2], [y, y+h, y+h, y], lw=1, c=\"k\")\n",
    "    axs[n].text((x1+x2)/2-0.3 ,y+2*h,f\"Fc={FC:.3f}\\nP={pval:.3f}\")\n",
    "    axs[n].set_ylim([-0.1, 0.5])\n",
    "    if n == 0:\n",
    "        axs[n].set_ylabel(\"MER\")\n",
    "    else:\n",
    "        axs[n].set_ylabel(\"\")\n",
    "    axs[n].set_xlabel(\"\")\n",
    "    axs[n].set_title(f\"{sID}\\nN={len(v1)}\")\n",
    "    n += 1\n",
    "plt.tight_layout()\n",
    "plt.savefig(f\"{outdir}/chrX_MER.pdf\")\n",
    "plt.show()"
   ]
  },
  {
   "cell_type": "code",
   "execution_count": 11,
   "id": "6911dc00",
   "metadata": {
    "ExecuteTime": {
     "end_time": "2023-08-25T08:10:37.748706Z",
     "start_time": "2023-08-25T08:10:37.493803Z"
    }
   },
   "outputs": [],
   "source": [
    "# RNA seq\n",
    "## DLR \n",
    "result_D[\"DLR\"] = ((result_D[\"ma_mean\"].values \n",
    "                    * result_D[\"ma_nobs\"].values  \n",
    "                    + result_D[\"pa_mean\"].values \n",
    "                    * result_D[\"pa_nobs\"].values ) \n",
    "                   / ( result_D[\"ma_nobs\"] + result_D[\"pa_nobs\"] ))  \n",
    "## RNA expression\n",
    "RNAseqfile = f\"{Rawdir}/pre_data/GM12878_TPM.csv\"\n",
    "RNAdf = pd.read_csv(RNAseqfile, sep=\"\\t\", header=0, index_col=0)\n",
    "RNAdf[\"RNAval\"] =  RNAdf.loc[:, [\"GM12878_A1\", \"GM12878_A2\",\"GM12878_B1\",\"GM12878_B2\"] ].mean(axis=1).values\n",
    "RNAdf[\"Level\"] =0\n",
    "RNAdf.index = RNAdf.index.str.split(\".\").str[0]\n",
    "# high, mid, low, top 1%, 75-99%, 75%\n",
    "high_val, mid_val = RNAdf.loc[RNAdf.RNAval>0, \"RNAval\"].quantile(0.99), RNAdf.loc[RNAdf.RNAval>0, \"RNAval\"].quantile(0.75)\n",
    "RNAdf.loc[RNAdf.RNAval>high_val, \"Level\"] = 3 # high\n",
    "RNAdf.loc[RNAdf.RNAval<mid_val, \"Level\"] = 1 # low\n",
    "RNAdf.loc[(RNAdf.RNAval>=mid_val)&(RNAdf.RNAval<=high_val), \"Level\"] = 2 # Middle\n",
    "RNAdf.loc[RNAdf.RNAval==0, \"Level\"] = 0 # None\n",
    "\n",
    "PID = result_D[\"index\"].values\n",
    "values = result_D.DLR.values\n",
    "RNAdf = RNAdf.loc[PID].reset_index()\n",
    "RNAdf = RNAdf.drop_duplicates(subset='gene_id')\n",
    "RNAdf = RNAdf.set_index('gene_id')\n",
    "Corr_df = pd.DataFrame( { \"PID\" : PID,\n",
    "                          \"RNAval\": RNAdf.loc[PID, \"RNAval\"],\n",
    "                          \"Level\" : RNAdf.loc[PID, \"Level\"],\n",
    "                         \"values\" : values } )"
   ]
  },
  {
   "cell_type": "code",
   "execution_count": 13,
   "id": "b43f20e5",
   "metadata": {
    "ExecuteTime": {
     "end_time": "2024-08-13T13:07:32.621082Z",
     "start_time": "2024-08-13T13:07:32.611637Z"
    }
   },
   "outputs": [],
   "source": [
    "# RNA seq\n",
    "## DLR \n",
    "result_D[\"DLR\"] = ((result_D[\"ma_mean\"].values \n",
    "                    * result_D[\"ma_nobs\"].values  \n",
    "                    + result_D[\"pa_mean\"].values \n",
    "                    * result_D[\"pa_nobs\"].values ) \n",
    "                   / ( result_D[\"ma_nobs\"] + result_D[\"pa_nobs\"] ))  "
   ]
  },
  {
   "cell_type": "code",
   "execution_count": 14,
   "id": "cf629623",
   "metadata": {
    "ExecuteTime": {
     "end_time": "2024-08-13T13:07:35.896677Z",
     "start_time": "2024-08-13T13:07:35.339082Z"
    }
   },
   "outputs": [],
   "source": [
    "Rawdir=\"/data1/ZJY/Hap3D\"\n",
    "## RNA expression\n",
    "RNAseqfile = f\"{Rawdir}/GM12878_K562_TPM.csv\"\n",
    "RNAdf = pd.read_csv(RNAseqfile, sep=\"\\t\", header=0, index_col=0)\n",
    "RNAdf = RNAdf[[\"GM12878_A1\", \"GM12878_A2\",\"GM12878_B1\",\"GM12878_B2\"]]\n",
    "RNAdf[\"RNAval\"] =  RNAdf.loc[:, [\"GM12878_A1\", \"GM12878_A2\",\"GM12878_B1\",\"GM12878_B2\"] ].mean(axis=1).values\n",
    "RNAdf[\"Level\"] =0\n",
    "RNAdf.index = RNAdf.index.str.split(\".\").str[0]\n",
    "# high, mid, low, top 1%, 75-99%, 75%\n",
    "high_val, mid_val = RNAdf.loc[RNAdf.RNAval>0, \"RNAval\"].quantile(0.99), RNAdf.loc[RNAdf.RNAval>0, \"RNAval\"].quantile(0.75)\n",
    "RNAdf.loc[RNAdf.RNAval>high_val, \"Level\"] = 3 # high\n",
    "RNAdf.loc[RNAdf.RNAval<mid_val, \"Level\"] = 1 # low\n",
    "RNAdf.loc[(RNAdf.RNAval>=mid_val)&(RNAdf.RNAval<=high_val), \"Level\"] = 2 # Middle\n",
    "RNAdf.loc[RNAdf.RNAval==0, \"Level\"] = 0 # None"
   ]
  },
  {
   "cell_type": "code",
   "execution_count": 15,
   "id": "0737139f",
   "metadata": {
    "ExecuteTime": {
     "end_time": "2024-08-13T13:07:37.332254Z",
     "start_time": "2024-08-13T13:07:37.246582Z"
    },
    "scrolled": true
   },
   "outputs": [],
   "source": [
    "PID = result_D[\"index\"].values\n",
    "values = result_D.DLR.values\n",
    "RNAdf = RNAdf.loc[PID].reset_index()\n",
    "RNAdf = RNAdf.drop_duplicates(subset='gene_id')\n",
    "RNAdf = RNAdf.set_index('gene_id')\n",
    "Corr_df = pd.DataFrame( { \"PID\" : PID,\n",
    "                          \"RNAval\": RNAdf.loc[PID, \"RNAval\"],\n",
    "                          \"Level\" : RNAdf.loc[PID, \"Level\"],\n",
    "                         \"values\" : values } )"
   ]
  },
  {
   "cell_type": "code",
   "execution_count": 16,
   "id": "68d23424",
   "metadata": {
    "ExecuteTime": {
     "end_time": "2024-08-13T13:07:42.138035Z",
     "start_time": "2024-08-13T13:07:41.894303Z"
    }
   },
   "outputs": [
    {
     "name": "stdout",
     "output_type": "stream",
     "text": [
      "-0.11067517667878456 2.508900760356463e-75\n"
     ]
    },
    {
     "data": {
      "image/png": "[encoded data removed]",
      "text/plain": [
       "<Figure size 300x300 with 1 Axes>"
      ]
     },
     "metadata": {},
     "output_type": "display_data"
    }
   ],
   "source": [
    "corr, p = pearsonr( Corr_df[\"Level\"].values, Corr_df[\"values\"].values ) \n",
    "print(corr, p)\n",
    "plt.figure(figsize=(3,3))\n",
    "sns.boxplot(x=\"Level\", y=\"values\", data=Corr_df, showfliers=False)\n",
    "plt.xticks([0,1,2,3], [\"None\", \"Low\", \"Mid\", \"High\"], fontsize=8)\n",
    "meanval = [np.mean(Corr_df.loc[Corr_df[\"Level\"]==n, \"values\"].values) for n in [0,1,2,3] ]\n",
    "slope, intercept, r,p , std_err = linregress(  Corr_df[\"Level\"].values, Corr_df[\"values\"].values )\n",
    "plt.plot(  np.array([0,1,2,3]), intercept + slope*np.array([0,1,2,3]), color=\"r\" )\n",
    "plt.text(x=1, y=1.5, s = f\"y={slope:.3f}x+{intercept:.3f}\\n\",color=\"r\", fontsize=8)\n",
    "plt.text(x=0, y=2.5, s=f\"Pearson's r={corr:.3f} P={p:.1e}\", color=\"k\")\n",
    "plt.ylim([0, 2.8])\n",
    "# Add title and axes labels\n",
    "plt.ylabel('SDPR')\n",
    "plt.xlabel('Gene expression level')\n",
    "# plt.savefig(f\"{outdir}/DLR_gene_expression.pdf\")\n",
    "plt.show()"
   ]
  },
  {
   "cell_type": "code",
   "execution_count": null,
   "id": "87e1df49",
   "metadata": {
    "ExecuteTime": {
     "end_time": "2024-08-13T13:08:22.867461Z",
     "start_time": "2024-08-13T13:08:22.187941Z"
    }
   },
   "outputs": [],
   "source": [
    "result = pd.read_csv(f\"{Rawdir}/pre_data/MER_all.txt\",\n",
    "                    sep=\"\\t\")\n",
    "# filter readcount >= 5\n",
    "thred = 5\n",
    "result[\"h1_rc\"] = result[\"ME_hp1\"] + result[\"NE_hp1\"] + result[\"SE_hp1\"]\n",
    "result[\"h2_rc\"] = result[\"ME_hp2\"] + result[\"NE_hp2\"] + result[\"SE_hp2\"]\n",
    "P = (result[\"h1_rc\"]>=thred)&(result[\"h2_rc\"] >= thred)\n",
    "result = result.loc[P, :]"
   ]
  },
  {
   "cell_type": "code",
   "execution_count": 14,
   "id": "0267ecb9",
   "metadata": {
    "ExecuteTime": {
     "end_time": "2023-08-25T08:10:42.953824Z",
     "start_time": "2023-08-25T08:10:42.897301Z"
    }
   },
   "outputs": [
    {
     "data": {
      "text/html": [
       "<div>\n",
       "<style scoped>\n",
       "    .dataframe tbody tr th:only-of-type {\n",
       "        vertical-align: middle;\n",
       "    }\n",
       "\n",
       "    .dataframe tbody tr th {\n",
       "        vertical-align: top;\n",
       "    }\n",
       "\n",
       "    .dataframe thead th {\n",
       "        text-align: right;\n",
       "    }\n",
       "</style>\n",
       "<table border=\"1\" class=\"dataframe\">\n",
       "  <thead>\n",
       "    <tr style=\"text-align: right;\">\n",
       "      <th></th>\n",
       "      <th>PID</th>\n",
       "      <th>RNAval</th>\n",
       "      <th>Level</th>\n",
       "      <th>Evalues</th>\n",
       "      <th>MEratio</th>\n",
       "      <th>SEratio</th>\n",
       "    </tr>\n",
       "    <tr>\n",
       "      <th>gene_id</th>\n",
       "      <th></th>\n",
       "      <th></th>\n",
       "      <th></th>\n",
       "      <th></th>\n",
       "      <th></th>\n",
       "      <th></th>\n",
       "    </tr>\n",
       "  </thead>\n",
       "  <tbody>\n",
       "    <tr>\n",
       "      <th>ENSG00000000457</th>\n",
       "      <td>ENSG00000000457</td>\n",
       "      <td>9.6500</td>\n",
       "      <td>1</td>\n",
       "      <td>0.512821</td>\n",
       "      <td>0.085470</td>\n",
       "      <td>0.330484</td>\n",
       "    </tr>\n",
       "    <tr>\n",
       "      <th>ENSG00000000460</th>\n",
       "      <td>ENSG00000000460</td>\n",
       "      <td>20.5525</td>\n",
       "      <td>2</td>\n",
       "      <td>0.269841</td>\n",
       "      <td>0.045351</td>\n",
       "      <td>0.172336</td>\n",
       "    </tr>\n",
       "    <tr>\n",
       "      <th>ENSG00000000938</th>\n",
       "      <td>ENSG00000000938</td>\n",
       "      <td>104.0750</td>\n",
       "      <td>2</td>\n",
       "      <td>1.177835</td>\n",
       "      <td>0.322165</td>\n",
       "      <td>0.345361</td>\n",
       "    </tr>\n",
       "    <tr>\n",
       "      <th>ENSG00000000971</th>\n",
       "      <td>ENSG00000000971</td>\n",
       "      <td>0.0150</td>\n",
       "      <td>1</td>\n",
       "      <td>0.077320</td>\n",
       "      <td>0.005155</td>\n",
       "      <td>0.067010</td>\n",
       "    </tr>\n",
       "    <tr>\n",
       "      <th>ENSG00000001460</th>\n",
       "      <td>ENSG00000001460</td>\n",
       "      <td>0.7775</td>\n",
       "      <td>1</td>\n",
       "      <td>0.473973</td>\n",
       "      <td>0.106849</td>\n",
       "      <td>0.235616</td>\n",
       "    </tr>\n",
       "  </tbody>\n",
       "</table>\n",
       "</div>"
      ],
      "text/plain": [
       "                             PID    RNAval  Level   Evalues   MEratio  \\\n",
       "gene_id                                                                 \n",
       "ENSG00000000457  ENSG00000000457    9.6500      1  0.512821  0.085470   \n",
       "ENSG00000000460  ENSG00000000460   20.5525      2  0.269841  0.045351   \n",
       "ENSG00000000938  ENSG00000000938  104.0750      2  1.177835  0.322165   \n",
       "ENSG00000000971  ENSG00000000971    0.0150      1  0.077320  0.005155   \n",
       "ENSG00000001460  ENSG00000001460    0.7775      1  0.473973  0.106849   \n",
       "\n",
       "                  SEratio  \n",
       "gene_id                    \n",
       "ENSG00000000457  0.330484  \n",
       "ENSG00000000460  0.172336  \n",
       "ENSG00000000938  0.345361  \n",
       "ENSG00000000971  0.067010  \n",
       "ENSG00000001460  0.235616  "
      ]
     },
     "execution_count": 14,
     "metadata": {},
     "output_type": "execute_result"
    }
   ],
   "source": [
    "result[\"hp1_count\"] =  result[\"ME_hp1\"].values + result[\"NE_hp1\"].values + result[\"SE_hp1\"].values \n",
    "result[\"hp2_count\"] =  result[\"ME_hp2\"].values + result[\"NE_hp2\"].values + result[\"SE_hp2\"].values \n",
    "result[\"count\"] = result[\"hp1_count\"] + result[\"hp2_count\"]\n",
    "result[\"ME_ratio\"] = (result[\"ME_hp1\"].values + result[\"ME_hp2\"].values)  /  result[\"count\"].values\n",
    "result[\"SE_ratio\"] = (result[\"SE_hp1\"].values + result[\"SE_hp2\"].values)  /  result[\"count\"].values\n",
    "result[\"Ecount_mean\"] =  (result[\"hp1_count\"].values * result[\"Ecount_mean_hp1\"].values  + result[\"hp2_count\"].values * result[\"Ecount_mean_hp2\"].values ) / ( result[\"hp1_count\"] + result[\"hp2_count\"] )  \n",
    "\n",
    "PID = result.PID.values\n",
    "Corr_df = pd.DataFrame( { \"PID\" : PID,\n",
    "                          \"RNAval\": RNAdf.loc[PID, \"RNAval\"],\n",
    "                          \"Level\" : RNAdf.loc[PID, \"Level\"],\n",
    "                         \"Evalues\" : result.Ecount_mean.values,\n",
    "                         \"MEratio\": result.ME_ratio.values,\n",
    "                         \"SEratio\": result.SE_ratio.values} )\n",
    "Corr_df.head()"
   ]
  },
  {
   "cell_type": "code",
   "execution_count": 15,
   "id": "e874cc05",
   "metadata": {
    "ExecuteTime": {
     "end_time": "2023-08-25T08:10:56.583251Z",
     "start_time": "2023-08-25T08:10:56.314938Z"
    },
    "scrolled": true
   },
   "outputs": [
    {
     "name": "stdout",
     "output_type": "stream",
     "text": [
      "0.45275025049005113 0.0\n"
     ]
    },
    {
     "data": {
      "image/png": "[encoded data removed]",
      "text/plain": [
       "<Figure size 300x300 with 1 Axes>"
      ]
     },
     "metadata": {},
     "output_type": "display_data"
    }
   ],
   "source": [
    "corr, p = pearsonr( Corr_df[\"Level\"].values, Corr_df[\"Evalues\"].values ) \n",
    "print(corr, p)\n",
    "plt.figure(figsize=(3,3))\n",
    "sns.boxplot(x=\"Level\", y=\"Evalues\", data=Corr_df, showfliers=False)\n",
    "plt.xticks([0,1,2,3], [\"None\", \"Low\", \"Mid\", \"High\"], fontsize=8)\n",
    "meanval = [np.mean(Corr_df.loc[Corr_df[\"Level\"]==n, \"Evalues\"].values) for n in [0,1,2,3] ]\n",
    "slope, intercept, r,p , std_err = linregress(  Corr_df[\"Level\"].values, Corr_df[\"Evalues\"].values )\n",
    "plt.plot(  np.array([0,1,2,3]), intercept + slope*np.array([0,1,2,3]), color=\"r\" )\n",
    "plt.text(x=1, y=1.5, s = f\"y={slope:.3f}x+{intercept:.3f}\\n\",color=\"r\", fontsize=8)\n",
    "plt.text(x=0, y=2.5, s=f\"Pearson's r={corr:.3f}\\n p={p:.3e}\", color=\"k\")\n",
    "# Add title and axes labels\n",
    "plt.ylabel('Enhancer counts')\n",
    "plt.xlabel('Gene expression level')\n",
    "plt.savefig(f\"{outdir}/Enhancer_counts_gene_expression.pdf\")\n",
    "plt.show()"
   ]
  },
  {
   "cell_type": "code",
   "execution_count": 16,
   "id": "0d4df8a3",
   "metadata": {
    "ExecuteTime": {
     "end_time": "2023-08-25T08:11:10.860814Z",
     "start_time": "2023-08-25T08:11:10.547175Z"
    }
   },
   "outputs": [
    {
     "name": "stdout",
     "output_type": "stream",
     "text": [
      "0.40510213009517765 0.0\n"
     ]
    },
    {
     "data": {
      "image/png": "[encoded data removed]",
      "text/plain": [
       "<Figure size 300x300 with 1 Axes>"
      ]
     },
     "metadata": {},
     "output_type": "display_data"
    }
   ],
   "source": [
    "corr, p = pearsonr( Corr_df[\"Level\"].values, Corr_df[\"MEratio\"].values ) \n",
    "print(corr, p)\n",
    "plt.figure(figsize=(3,3))\n",
    "sns.boxplot(x=\"Level\", y=\"MEratio\", data=Corr_df, showfliers=False)\n",
    "plt.xticks([0,1,2,3], [\"None\", \"Low\", \"Mid\", \"High\"], fontsize=8)\n",
    "meanval = [np.mean(Corr_df.loc[Corr_df[\"Level\"]==n, \"MEratio\"].values) for n in [0,1,2,3] ]\n",
    "slope, intercept, r,p , std_err = linregress(  Corr_df[\"Level\"].values, Corr_df[\"MEratio\"].values )\n",
    "plt.plot(  np.array([0,1,2,3]), intercept + slope*np.array([0,1,2,3]), color=\"r\" )\n",
    "plt.text(x=1, y=0.3, s = f\"y={slope:.3f}x+{intercept:.3f}\\n\",color=\"r\", fontsize=8)\n",
    "plt.text(x=0, y=0.7, s=f\"Pearson's r={corr:.3f}\\n p={p:.3e}\", color=\"k\")\n",
    "# Add title and axes labels\n",
    "plt.ylabel('Multiway enhancer ratio')\n",
    "plt.xlabel('Gene expression level')\n",
    "plt.savefig(f\"{outdir}/pre_data/ME_ratio_gene_expression.pdf\")\n",
    "plt.show()"
   ]
  }
 ],
 "metadata": {
  "kernelspec": {
   "display_name": "Python 3 (ipykernel)",
   "language": "python",
   "name": "python3"
  },
  "language_info": {
   "codemirror_mode": {
    "name": "ipython",
    "version": 3
   },
   "file_extension": ".py",
   "mimetype": "text/x-python",
   "name": "python",
   "nbconvert_exporter": "python",
   "pygments_lexer": "ipython3",
   "version": "3.8.3"
  }
 },
 "nbformat": 4,
 "nbformat_minor": 5
}
