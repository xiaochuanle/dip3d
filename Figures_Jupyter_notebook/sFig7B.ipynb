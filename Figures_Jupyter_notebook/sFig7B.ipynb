{
 "cells": [
  {
   "cell_type": "code",
   "execution_count": 1,
   "id": "f6a89ff7",
   "metadata": {
    "ExecuteTime": {
     "end_time": "2024-07-21T08:11:17.170069Z",
     "start_time": "2024-07-21T08:11:16.162381Z"
    }
   },
   "outputs": [],
   "source": [
    "import pandas as pd\n",
    "import numpy as np\n",
    "import matplotlib.pyplot as plt\n",
    "import seaborn as sns\n",
    "from matplotlib import rcParams \n",
    "from scipy import stats\n",
    "import scipy\n",
    "from scipy.stats import pearsonr\n",
    "import numpy as np\n",
    "from scipy.stats import linregress\n",
    "rcParams['pdf.fonttype'] = 42 # True font\n",
    "rcParams['font.size'] =  8  \n",
    "rcParams['grid.linewidth'] =  0.5 \n",
    "rcParams['lines.color'] = 'b' \n",
    "rcParams['lines.linewidth'] = 1 \n",
    "rcParams['lines.markersize'] = 3\n",
    "rcParams['lines.markeredgewidth'] = 0 # set Marker with no edgelines\n",
    "rcParams['axes.linewidth'] = 0.5\n",
    "rcParams['axes.titlesize'] = 8\n",
    "rcParams['axes.labelsize'] = 8\n",
    "rcParams['xtick.labelsize'] = 8\n",
    "rcParams['ytick.labelsize'] = 8\n",
    "rcParams['legend.fontsize'] = 8\n",
    "rcParams['legend.title_fontsize'] = 8"
   ]
  },
  {
   "cell_type": "code",
   "execution_count": 2,
   "id": "25336812",
   "metadata": {
    "ExecuteTime": {
     "end_time": "2024-07-21T08:11:17.208208Z",
     "start_time": "2024-07-21T08:11:17.171760Z"
    },
    "scrolled": true
   },
   "outputs": [],
   "source": [
    "# Allele_specific genes\n",
    "Rawdir=\"/data2/Hap3D_Figures/figure_processing_data/Fig6/pre_data\"\n",
    "# outdir=\"/data2/linzhuobin/Hap3D_Figures/pdf\"\n",
    "filename = f\"{Rawdir}/TSS_sorted.txt\"\n",
    "genes_df = pd.read_csv(filename, header=None, index_col=None, sep=\"\\t\")\n",
    "genes_df[\"Position\"] = genes_df[2].values"
   ]
  },
  {
   "cell_type": "code",
   "execution_count": 3,
   "id": "915d84e0",
   "metadata": {
    "ExecuteTime": {
     "end_time": "2024-07-21T08:11:17.218916Z",
     "start_time": "2024-07-21T08:11:17.210283Z"
    },
    "scrolled": false
   },
   "outputs": [],
   "source": [
    "genes_df = genes_df.loc[(genes_df[0]!='chrX') | (genes_df[0]!='chrY')]"
   ]
  },
  {
   "cell_type": "code",
   "execution_count": 4,
   "id": "25bc85cf",
   "metadata": {
    "ExecuteTime": {
     "end_time": "2024-07-21T08:11:17.375209Z",
     "start_time": "2024-07-21T08:11:17.368032Z"
    }
   },
   "outputs": [],
   "source": [
    "def DLRfun(hicdf, Position):\n",
    "    '''Call DLR'''\n",
    "    condition = (\n",
    "        ( hicdf[\"P1\"].between(Position-5000, Position+5000) ) |\n",
    "        ( hicdf[\"P2\"].between(Position-5000, Position+5000) )\n",
    "    )\n",
    "    # 应用过滤条件，统计符合条件的行数\n",
    "    fdf= hicdf[condition].copy()\n",
    "    distanct_thred = 1_500_000\n",
    "    # distal\n",
    "    Pd = fdf[\"distance\"] >= distanct_thred\n",
    "    # local\n",
    "    Pl = fdf[\"distance\"] < distanct_thred\n",
    "    # cistal counts\n",
    "    d_counts = fdf.loc[Pd, \"counts\"].sum()\n",
    "    # local counts\n",
    "    l_counts = fdf.loc[Pl, \"counts\"].sum()\n",
    "    DLR = d_counts/l_counts\n",
    "    return(DLR)"
   ]
  },
  {
   "cell_type": "code",
   "execution_count": 7,
   "id": "62e2ea02",
   "metadata": {
    "ExecuteTime": {
     "end_time": "2024-07-21T08:21:04.441528Z",
     "start_time": "2024-07-21T08:12:06.399054Z"
    },
    "scrolled": false
   },
   "outputs": [
    {
     "name": "stdout",
     "output_type": "stream",
     "text": [
      "chr1\n",
      "chr10\n",
      "chr11\n",
      "chr12\n",
      "chr13\n",
      "chr14\n",
      "chr15\n",
      "chr16\n",
      "chr17\n",
      "chr18\n",
      "chr19\n",
      "chr2\n",
      "chr20\n",
      "chr21\n",
      "chr22\n",
      "chr3\n",
      "chr4\n",
      "chr5\n",
      "chr6\n",
      "chr7\n",
      "chr8\n",
      "chr9\n"
     ]
    }
   ],
   "source": [
    "holdlist = []\n",
    "# genedf = imprinted_df.loc[imprinted_df[\"Chromosome\"]==chrom, :].copy()\n",
    "for chrom, genedf in genes_df.groupby(0):\n",
    "    if (chrom =='chrX') | (chrom=='chrY'):\n",
    "        continue\n",
    "    print(chrom)\n",
    "    # loading hic contact matrix\n",
    "    hicfile = f\"/data2/Hap3D_Figures/figure_processing_data/Fig6/HiCDPR/HG001_HiC_diploid_contacts_{chrom}.txt\"\n",
    "    hiccontact = pd.read_csv(hicfile, sep=\"\\t\", header=None, names=[\"P1\", \"P2\", \"counts\"])\n",
    "    hiccontact[\"distance\"] = abs(hiccontact[\"P2\"].values - hiccontact[\"P1\"].values)\n",
    "\n",
    "    # Cal DLR\n",
    "    genedf[\"DLR\"] = genedf[\"Position\"].apply(lambda x: DLRfun(hiccontact, x) )\n",
    "    holdlist.append(genedf)"
   ]
  },
  {
   "cell_type": "code",
   "execution_count": 13,
   "id": "0e5d09d8",
   "metadata": {
    "ExecuteTime": {
     "end_time": "2024-07-21T08:24:35.010586Z",
     "start_time": "2024-07-21T08:24:34.980425Z"
    }
   },
   "outputs": [
    {
     "data": {
      "text/html": [
       "<div>\n",
       "<style scoped>\n",
       "    .dataframe tbody tr th:only-of-type {\n",
       "        vertical-align: middle;\n",
       "    }\n",
       "\n",
       "    .dataframe tbody tr th {\n",
       "        vertical-align: top;\n",
       "    }\n",
       "\n",
       "    .dataframe thead th {\n",
       "        text-align: right;\n",
       "    }\n",
       "</style>\n",
       "<table border=\"1\" class=\"dataframe\">\n",
       "  <thead>\n",
       "    <tr style=\"text-align: right;\">\n",
       "      <th></th>\n",
       "      <th>0</th>\n",
       "      <th>1</th>\n",
       "      <th>2</th>\n",
       "      <th>3</th>\n",
       "      <th>4</th>\n",
       "      <th>5</th>\n",
       "      <th>6</th>\n",
       "      <th>DLR</th>\n",
       "    </tr>\n",
       "  </thead>\n",
       "  <tbody>\n",
       "    <tr>\n",
       "      <th>0</th>\n",
       "      <td>chr1</td>\n",
       "      <td>28554</td>\n",
       "      <td>30554</td>\n",
       "      <td>+</td>\n",
       "      <td>lincRNA</td>\n",
       "      <td>promoter</td>\n",
       "      <td>ENSG00000243485.5</td>\n",
       "      <td>inf</td>\n",
       "    </tr>\n",
       "    <tr>\n",
       "      <th>1</th>\n",
       "      <td>chr1</td>\n",
       "      <td>35081</td>\n",
       "      <td>37081</td>\n",
       "      <td>-</td>\n",
       "      <td>lincRNA</td>\n",
       "      <td>promoter</td>\n",
       "      <td>ENSG00000237613.2</td>\n",
       "      <td>inf</td>\n",
       "    </tr>\n",
       "    <tr>\n",
       "      <th>2</th>\n",
       "      <td>chr1</td>\n",
       "      <td>64419</td>\n",
       "      <td>66419</td>\n",
       "      <td>+</td>\n",
       "      <td>protein_coding</td>\n",
       "      <td>promoter</td>\n",
       "      <td>ENSG00000186092.6</td>\n",
       "      <td>NaN</td>\n",
       "    </tr>\n",
       "    <tr>\n",
       "      <th>3</th>\n",
       "      <td>chr1</td>\n",
       "      <td>90105</td>\n",
       "      <td>92105</td>\n",
       "      <td>-</td>\n",
       "      <td>lincRNA</td>\n",
       "      <td>promoter</td>\n",
       "      <td>ENSG00000239945.1</td>\n",
       "      <td>inf</td>\n",
       "    </tr>\n",
       "    <tr>\n",
       "      <th>4</th>\n",
       "      <td>chr1</td>\n",
       "      <td>132723</td>\n",
       "      <td>134723</td>\n",
       "      <td>-</td>\n",
       "      <td>lincRNA</td>\n",
       "      <td>promoter</td>\n",
       "      <td>ENSG00000238009.6</td>\n",
       "      <td>5.500000</td>\n",
       "    </tr>\n",
       "    <tr>\n",
       "      <th>...</th>\n",
       "      <td>...</td>\n",
       "      <td>...</td>\n",
       "      <td>...</td>\n",
       "      <td>...</td>\n",
       "      <td>...</td>\n",
       "      <td>...</td>\n",
       "      <td>...</td>\n",
       "      <td>...</td>\n",
       "    </tr>\n",
       "    <tr>\n",
       "      <th>26460</th>\n",
       "      <td>chr9</td>\n",
       "      <td>137589490</td>\n",
       "      <td>137591490</td>\n",
       "      <td>-</td>\n",
       "      <td>protein_coding</td>\n",
       "      <td>promoter</td>\n",
       "      <td>ENSG00000165724.5</td>\n",
       "      <td>0.152123</td>\n",
       "    </tr>\n",
       "    <tr>\n",
       "      <th>26461</th>\n",
       "      <td>chr9</td>\n",
       "      <td>137604654</td>\n",
       "      <td>137606654</td>\n",
       "      <td>+</td>\n",
       "      <td>protein_coding</td>\n",
       "      <td>promoter</td>\n",
       "      <td>ENSG00000197070.13</td>\n",
       "      <td>0.136039</td>\n",
       "    </tr>\n",
       "    <tr>\n",
       "      <th>26462</th>\n",
       "      <td>chr9</td>\n",
       "      <td>137617963</td>\n",
       "      <td>137619963</td>\n",
       "      <td>+</td>\n",
       "      <td>protein_coding</td>\n",
       "      <td>promoter</td>\n",
       "      <td>ENSG00000181090.20</td>\n",
       "      <td>0.130397</td>\n",
       "    </tr>\n",
       "    <tr>\n",
       "      <th>26463</th>\n",
       "      <td>chr9</td>\n",
       "      <td>137876789</td>\n",
       "      <td>137878789</td>\n",
       "      <td>+</td>\n",
       "      <td>protein_coding</td>\n",
       "      <td>promoter</td>\n",
       "      <td>ENSG00000148408.12</td>\n",
       "      <td>0.213793</td>\n",
       "    </tr>\n",
       "    <tr>\n",
       "      <th>26464</th>\n",
       "      <td>chr9</td>\n",
       "      <td>138202325</td>\n",
       "      <td>138204325</td>\n",
       "      <td>-</td>\n",
       "      <td>lincRNA</td>\n",
       "      <td>promoter</td>\n",
       "      <td>ENSG00000237419.1</td>\n",
       "      <td>0.516575</td>\n",
       "    </tr>\n",
       "  </tbody>\n",
       "</table>\n",
       "<p>26465 rows × 8 columns</p>\n",
       "</div>"
      ],
      "text/plain": [
       "          0          1          2  3               4         5  \\\n",
       "0      chr1      28554      30554  +         lincRNA  promoter   \n",
       "1      chr1      35081      37081  -         lincRNA  promoter   \n",
       "2      chr1      64419      66419  +  protein_coding  promoter   \n",
       "3      chr1      90105      92105  -         lincRNA  promoter   \n",
       "4      chr1     132723     134723  -         lincRNA  promoter   \n",
       "...     ...        ...        ... ..             ...       ...   \n",
       "26460  chr9  137589490  137591490  -  protein_coding  promoter   \n",
       "26461  chr9  137604654  137606654  +  protein_coding  promoter   \n",
       "26462  chr9  137617963  137619963  +  protein_coding  promoter   \n",
       "26463  chr9  137876789  137878789  +  protein_coding  promoter   \n",
       "26464  chr9  138202325  138204325  -         lincRNA  promoter   \n",
       "\n",
       "                        6       DLR  \n",
       "0       ENSG00000243485.5       inf  \n",
       "1       ENSG00000237613.2       inf  \n",
       "2       ENSG00000186092.6       NaN  \n",
       "3       ENSG00000239945.1       inf  \n",
       "4       ENSG00000238009.6  5.500000  \n",
       "...                   ...       ...  \n",
       "26460   ENSG00000165724.5  0.152123  \n",
       "26461  ENSG00000197070.13  0.136039  \n",
       "26462  ENSG00000181090.20  0.130397  \n",
       "26463  ENSG00000148408.12  0.213793  \n",
       "26464   ENSG00000237419.1  0.516575  \n",
       "\n",
       "[26465 rows x 8 columns]"
      ]
     },
     "execution_count": 13,
     "metadata": {},
     "output_type": "execute_result"
    }
   ],
   "source": [
    "DLR_df = pd.concat(holdlist)\n",
    "del DLR_df[\"Position\"]\n",
    "DLR_df"
   ]
  },
  {
   "cell_type": "code",
   "execution_count": 14,
   "id": "1abc24b0",
   "metadata": {
    "ExecuteTime": {
     "end_time": "2024-07-21T08:24:41.837595Z",
     "start_time": "2024-07-21T08:24:41.793429Z"
    }
   },
   "outputs": [],
   "source": [
    "DLR_df['ENSG'] = DLR_df[6].str.split('.', expand=True)[0]"
   ]
  },
  {
   "cell_type": "code",
   "execution_count": 15,
   "id": "df639e81",
   "metadata": {
    "ExecuteTime": {
     "end_time": "2024-07-21T08:24:42.743744Z",
     "start_time": "2024-07-21T08:24:42.532026Z"
    },
    "scrolled": true
   },
   "outputs": [],
   "source": [
    "Rawdir=\"/data1/ZJY/Hap3D\"\n",
    "## RNA expression\n",
    "RNAseqfile = f\"{Rawdir}/GM12878_K562_TPM.csv\"\n",
    "RNAdf = pd.read_csv(RNAseqfile, sep=\"\\t\", header=0, index_col=0)\n",
    "RNAdf = RNAdf[[\"GM12878_A1\", \"GM12878_A2\",\"GM12878_B1\",\"GM12878_B2\"]]\n",
    "RNAdf[\"RNAval\"] =  RNAdf.loc[:, [\"GM12878_A1\", \"GM12878_A2\",\"GM12878_B1\",\"GM12878_B2\"] ].mean(axis=1).values\n",
    "RNAdf[\"Level\"] =0\n",
    "RNAdf.index = RNAdf.index.str.split(\".\").str[0]\n",
    "# high, mid, low, top 1%, 75-99%, 75%\n",
    "high_val, mid_val = RNAdf.loc[RNAdf.RNAval>0, \"RNAval\"].quantile(0.99), RNAdf.loc[RNAdf.RNAval>0, \"RNAval\"].quantile(0.75)\n",
    "RNAdf.loc[RNAdf.RNAval>high_val, \"Level\"] = 3 # high\n",
    "RNAdf.loc[RNAdf.RNAval<mid_val, \"Level\"] = 1 # low\n",
    "RNAdf.loc[(RNAdf.RNAval>=mid_val)&(RNAdf.RNAval<=high_val), \"Level\"] = 2 # Middle\n",
    "RNAdf.loc[RNAdf.RNAval==0, \"Level\"] = 0 # None"
   ]
  },
  {
   "cell_type": "code",
   "execution_count": 16,
   "id": "c492c7fb",
   "metadata": {
    "ExecuteTime": {
     "end_time": "2024-07-21T08:24:43.398311Z",
     "start_time": "2024-07-21T08:24:43.315970Z"
    },
    "scrolled": true
   },
   "outputs": [],
   "source": [
    "PID = DLR_df['ENSG'].values\n",
    "values = DLR_df.DLR.values\n",
    "RNAdf = RNAdf.loc[PID].reset_index()\n",
    "RNAdf = RNAdf.drop_duplicates(subset='gene_id')\n",
    "RNAdf = RNAdf.set_index('gene_id')\n",
    "Corr_df = pd.DataFrame( { \"PID\" : PID,\n",
    "                          \"RNAval\": RNAdf.loc[PID, \"RNAval\"],\n",
    "                          \"Level\" : RNAdf.loc[PID, \"Level\"],\n",
    "                         \"values\" : values } )"
   ]
  },
  {
   "cell_type": "code",
   "execution_count": 17,
   "id": "24d0b531",
   "metadata": {
    "ExecuteTime": {
     "end_time": "2024-07-21T08:24:44.142441Z",
     "start_time": "2024-07-21T08:24:44.124422Z"
    }
   },
   "outputs": [],
   "source": [
    "Corr_df = Corr_df.replace([np.inf, -np.inf], np.nan)\n",
    "Corr_df = Corr_df.dropna()"
   ]
  },
  {
   "cell_type": "code",
   "execution_count": 19,
   "id": "a9ea79f2",
   "metadata": {
    "ExecuteTime": {
     "end_time": "2024-07-21T08:26:12.416916Z",
     "start_time": "2024-07-21T08:26:12.031206Z"
    },
    "scrolled": true
   },
   "outputs": [
    {
     "name": "stdout",
     "output_type": "stream",
     "text": [
      "-0.0650656695401923 3.9583802087704505e-26\n"
     ]
    },
    {
     "data": {
      "image/png": "[encoded data removed]",
      "text/plain": [
       "<Figure size 300x300 with 1 Axes>"
      ]
     },
     "metadata": {},
     "output_type": "display_data"
    }
   ],
   "source": [
    "corr, p = pearsonr( Corr_df[\"Level\"].values, Corr_df[\"values\"].values ) \n",
    "print(corr, p)\n",
    "plt.figure(figsize=(3,3))\n",
    "palette = sns.color_palette(sns.color_palette(), 4)[::-1]\n",
    "sns.boxplot(x=\"Level\", y=\"values\", data=Corr_df, showfliers=False, palette=palette, hue='Level')\n",
    "plt.xticks([0,1,2,3], [\"None\", \"Low\", \"Mid\", \"High\"], fontsize=8)\n",
    "meanval = [np.mean(Corr_df.loc[Corr_df[\"Level\"]==n, \"values\"].values) for n in [0,1,2,3] ]\n",
    "slope, intercept, r,p , std_err = linregress(  Corr_df[\"Level\"].values, Corr_df[\"values\"].values )\n",
    "plt.plot(  np.array([0,1,2,3]), intercept + slope*np.array([0,1,2,3]), color=\"r\" , zorder=10)\n",
    "plt.text(x=1, y=0.8, s = f\"y={slope:.3f}x+{intercept:.3f}\\n\",color=\"r\", fontsize=8)\n",
    "plt.text(x=0, y=1, s=f\"Pearson's r={corr:.3f} P={p:.1e}\", color=\"k\")\n",
    "plt.ylim([-0.2, 1.2])\n",
    "# Add title and axes labels\n",
    "plt.ylabel('DLR')\n",
    "plt.xlabel('Gene expression level')\n",
    "plt.legend().set_visible(False)\n",
    "# plt.legend(\"\")\n",
    "plt.savefig(f\"/data2/Hap3D_Figures/0721/HiC_DLR_gene_expression.pdf\")\n",
    "plt.show()"
   ]
  },
  {
   "cell_type": "code",
   "execution_count": null,
   "id": "43e879ac",
   "metadata": {},
   "outputs": [],
   "source": []
  }
 ],
 "metadata": {
  "kernelspec": {
   "display_name": "Python 3 (ipykernel)",
   "language": "python",
   "name": "python3"
  },
  "language_info": {
   "codemirror_mode": {
    "name": "ipython",
    "version": 3
   },
   "file_extension": ".py",
   "mimetype": "text/x-python",
   "name": "python",
   "nbconvert_exporter": "python",
   "pygments_lexer": "ipython3",
   "version": "3.10.9"
  }
 },
 "nbformat": 4,
 "nbformat_minor": 5
}
